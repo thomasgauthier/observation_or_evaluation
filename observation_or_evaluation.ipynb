{
 "cells": [
  {
   "cell_type": "markdown",
   "id": "05d82b35-456a-4664-a6a9-8e760d8834cd",
   "metadata": {},
   "source": [
    "# Creating a high quality synthetic dataset with open models and a $10 budget"
   ]
  },
  {
   "cell_type": "markdown",
   "id": "19f15837-2ab6-4303-a38e-4d85f3830d6e",
   "metadata": {},
   "source": [
    "Large language models (LLMs) are awesome. Yet sometime they still struggle to grasp the subtleties of human communication, particularly when it comes to the nuanced understanding of day to day communication. Effective understanding requires a lot of skills. One such skill is the ability to distinguish statements which present observations (noticing) from statements which contain evaluations (judgments).\n",
    "\n",
    "This skill is an integral part of [Nonviolent Communication (NVC)](https://en.wikipedia.org/wiki/Nonviolent_Communication), a form of communication aimed at building authentic understanding between people. I believe the technique and associated literature are a treasure trove of insights for building empathy through language.\n",
    "\n",
    "In this post we will dive into how I used one exercise from a NVC book and $7 in [Together.ai](https://www.together.ai/) credits to generate, filter and refine a high quality text comprehension dataset of 1500 samples.\n",
    "\n",
    "The final dataset is available on [Hugging Face](https://huggingface.co/datasets/thomasgauthier/observation_or_evaluation)."
   ]
  },
  {
   "cell_type": "markdown",
   "id": "ab7f7014-5747-4cff-a735-90f78d4b1508",
   "metadata": {},
   "source": [
    "## Understanding human communication: Observations vs Evaluations"
   ]
  },
  {
   "cell_type": "markdown",
   "id": "61363e8c-8451-48ad-b149-d0b28ae2f77b",
   "metadata": {},
   "source": [
    "In his seminal book *Nonviolent Communication: A Language of Life*, NVC creator Marshall Rosenberg makes the case that the ability to distinguish between evaluations and observations is crucial for effective nonviolent communication. In his book, Rosenberg includes an exercise prompting readers to distinguish between both types of statements. Notice the use of the *prompting* here, that will be relevant later.  "
   ]
  },
  {
   "cell_type": "markdown",
   "id": "697013c7-9259-4b18-9b35-bf22c105c10e",
   "metadata": {},
   "source": [
    "> _Exercise 1_\n",
    "> \n",
    "> OBSERVATION OR EVALUATION?\n",
    "> \n",
    "> To determine your proficiency at discerning between observations and evaluations, complete the following exercise. Circle the number in front of each statement that is an observation only, with no evaluation mixed in.\n",
    "> \n",
    "> 1.  “John was angry with me yesterday for no reason.”\n",
    "> 2.  “Yesterday evening Nancy bit her fingernails while watching television.”\n",
    "> 3.  “Sam didn’t ask for my opinion during the meeting.”\n",
    "> 4.  “My father is a good man.”\n",
    "> 5.  “Janice works too much.”\n",
    "> 6.  “Henry is aggressive.”\n",
    "> 7.  “Pam was first in line every day this week.”\n",
    "> 8.  “My son often doesn’t brush his teeth.”\n",
    "> 9.  “Luke told me I didn’t look good in yellow.”\n",
    "> 10.  “My aunt complains when I talk with her.”\n",
    "> \n",
    "> _Here are my responses for Exercise 1:_\n",
    "> \n",
    "> 1.  If you circled this number, we’re not in agreement. I consider “for no reason” to be an evaluation. Furthermore, I consider it an evaluation to infer that John was angry. He might have been feeling hurt, scared, sad, or something else. Examples of observations without evaluation might be: “John told me he was angry,” or “John pounded his fist on the table.”\n",
    "> 2.  If you circled this number, we’re in agreement that an observation was expressed without being mixed together with an evaluation.\n",
    "> 3.  If you circled this number, we’re in agreement that an observation was expressed without being mixed together with an evaluation.\n",
    "> 4.  If you circled this number, we’re not in agreement. I consider “good man” to be an evaluation. An observation without evaluation might be: “For the last twenty-five years, my father has given one-tenth of his salary to charity.”\n",
    "> 5.  If you circled this number, we’re not in agreement. I consider “too much” to be an evaluation. An observation without evaluation might be: “Janice spent more than sixty hours at the office this week.”\n",
    "> 6.  If you circled this number, we’re not in agreement. I consider “aggressive” to be an evaluation. An observation without evaluation might be: “Henry hit his sister when she switched the television channel.”\n",
    "> 7.  If you circled this number, we’re in agreement that an observation was expressed without being mixed together with an evaluation.\n",
    "> 8.  If you circled this number, we’re not in agreement. I consider “often” to be an evaluation. An observation without evaluation might be: “Twice this week my son didn’t brush his teeth before going to bed.”\n",
    "> 9.  If you circled this number, we’re in agreement that an observation was expressed without being mixed together with an evaluation.\n",
    "> 10.  If you circled this number, we’re not in agreement. I consider “complains” to be an evaluation. An observation without evaluation might be: “My aunt called me three times this week, and each time talked about people who treated her in ways she didn’t like.”"
   ]
  },
  {
   "cell_type": "markdown",
   "id": "15d5198e-42c3-443b-a30c-6d8a0a969011",
   "metadata": {},
   "source": [
    "Reading this, I couldn't help but think that looked a whole lot like a NLP task."
   ]
  },
  {
   "cell_type": "markdown",
   "id": "089d6527-9ad2-4a27-913f-b7d92e44571e",
   "metadata": {},
   "source": [
    "## Testing large language models NVC abilities"
   ]
  },
  {
   "cell_type": "markdown",
   "id": "aaa11207-402e-4d80-b6d2-a93332e1d4fa",
   "metadata": {},
   "source": [
    "Reading Rosenberg's book, I got curious about current large language models abilities to complete this exercise. How well can current AI systems, trained on vast datasets of human language, grasp the often nuanced distinction between factual observations and subjective evaluations? This demands the ability to delve deeper than surface interpretations, drawing inferences from context to identify implicit messages and understand the speaker's subjective perspective.  \n",
    "\n",
    "Arguably, current models can already do this to some extent, but we would like to test this quantitatively. To do so we need a dataset to evaluate models against. As it stands, Rosenberg's book cannot bring us all the way there as it contains only 10 labeled statements (not to mention it is most likely part of the training set of a lot of models)."
   ]
  },
  {
   "cell_type": "markdown",
   "id": "68ac2c69-1b08-4d4d-b2ac-b34228700369",
   "metadata": {},
   "source": [
    "### Getting around data scarcity"
   ]
  },
  {
   "cell_type": "markdown",
   "id": "1ab8bbab-b0a5-4c50-b0d5-b88a5367e33c",
   "metadata": {},
   "source": [
    "\n",
    "Thankfully in 2024 we have access to a range of open-weight models from big and powerful to small and efficient. We can leverage that full array of generation capabilities to synthetically create a benchmark dataset for our task.  \n",
    "\n",
    "We will use a larger model, assuming it will perform better initially, to generate evaluation prompts for smaller models.\n",
    "\n",
    "While the generated data might not be 100% accurate, this isn't critical when aiming to assess relative performance. While our dataset might not be all that usefull in evaluating large models capabilities, it will still be useful to evaluate small models which make up a decent portion of the market. See, even if a smaller model benefits from occasional matches with incorrect labels in the test set, its overall lower accuracy compared to the larger model would still be evident. \n",
    "\n",
    "This approach might seem less than ideal but it scales well as we can generate new better test sets as better models are released over time. Improving the generation prompts could also lead to a baseline improvement without changing models. So even though it might be imperfect, this dataset will provide a solid foundation for future iterations.\n",
    "\n",
    "To generate this first version of our dataset we will leverage a few low hanging fruits, mostly prompting techniques."
   ]
  },
  {
   "cell_type": "markdown",
   "id": "cfb2d5a2-cddc-4e66-888e-9b53298fcf5f",
   "metadata": {},
   "source": [
    "### Creating a good prompt"
   ]
  },
  {
   "cell_type": "markdown",
   "id": "10a6c99c-37ae-4d74-a02a-a02224f365f6",
   "metadata": {},
   "source": [
    "First we use few-shot prompting, so we present the model with a few classification examples before the statement we want to classify.\n",
    "\n",
    "Second, using a simple [prompt](https://shareg.pt/TY5PQQk) we can ask ChatGPT to augment the classification with a rationale. This is similar to chain-of-thought prompting, the intuition is it will help with accuracy by allowing the model to expand more compute on the problem. Our few-shot examples will be the augmented examples.\n",
    "\n",
    "With all this, we can then rework the exercise into a neat little text completion prompt."
   ]
  },
  {
   "cell_type": "raw",
   "id": "66b89655-8f5f-44c4-a83a-08d9e14c4232",
   "metadata": {},
   "source": [
    "OBSERVATION OR EVALUATION?\n",
    "\n",
    "In the context of Nonviolent Communication (NVC), it's crucial to distinguish between observations and evaluations. Observations are neutral descriptions of what one perceives, devoid of personal judgments or interpretations. In contrast, evaluations contain personal judgments or interpretations of situations. Your task is to review the provided statements and identify which ones are pure observations without any evaluations mixed in. By mastering this distinction, you can communicate more effectively, minimizing misunderstandings and conflicts.\n",
    "\n",
    "To determine your proficiency at discerning between observations and evaluations, complete the following exercise.\n",
    "\n",
    "Statement: “John was angry with me yesterday for no reason.”\n",
    "Reasoning: The statement suggests that John felt a certain emotion (anger) directed towards the speaker and adds the qualifier \"for no reason\". Emotions are subjective experiences, and we can't definitively know someone's emotion unless they express it. The phrase \"for no reason\" is a judgment because it interprets the cause of John's perceived emotion.\n",
    "Classification: Evaluation\n",
    "\n",
    "Statement: “Yesterday evening Nancy bit her fingernails while watching television.”\n",
    "Reasoning: This statement is simply describing an action Nancy did at a specific time. There is no attached judgment or interpretation of why she did it or what it means about her character or state of mind.\n",
    "Classification: Observation\n",
    "\n",
    "Statement: “Sam didn’t ask for my opinion during the meeting.”\n",
    "Reasoning: This is a factual statement about something Sam did not do during a meeting. It doesn't assign any emotion, motive, or judgment to Sam's actions.\n",
    "Classification: Observation\n",
    "\n",
    "Statement: “My father is a good man.”\n",
    "Reasoning: The term \"good\" is subjective. What constitutes a \"good man\" can vary from person to person. This statement is expressing a personal judgment or belief about the father's character rather than a factual observation.\n",
    "Classification: Evaluation\n",
    "\n",
    "Statement: “Janice works too much.”\n",
    "Reasoning: The phrase \"too much\" is a judgment that implies there is an appropriate or normal amount of work, and Janice exceeds that. It's not a simple recounting of facts but an interpretation of her work habits.\n",
    "Classification: Evaluation\n",
    "\n",
    "Statement: “Henry is aggressive.”\n",
    "Reasoning: Labeling Henry as \"aggressive\" is a judgment. \"Aggressive\" is an interpretive term that assigns a character trait to Henry based on behaviors or actions that aren't specified in this statement.\n",
    "Classification: Evaluation\n",
    "\n",
    "Statement: “Pam was first in line every day this week.”\n",
    "Reasoning: This statement simply states a repeated action Pam took on specific days. There's no interpretation about why she was first in line or what it might mean about her character.\n",
    "Classification: Observation\n",
    "\n",
    "Statement: “My son often doesn’t brush his teeth.”\n",
    "Reasoning: The term \"often\" is a judgment that implies a frequency comparison to what is considered normal or acceptable. The statement isn't just stating times when the son didn't brush his teeth but is implying he neglects this action more than he should.\n",
    "Classification: Evaluation\n",
    "\n",
    "Statement: “Luke told me I didn’t look good in yellow.”\n",
    "Reasoning: This statement recounts a specific thing Luke said to the speaker. While Luke's statement was evaluative, the speaker is merely stating a fact about what Luke expressed, without adding their own judgment or interpretation.\n",
    "Classification: Observation\n",
    "\n",
    "Statement: {Put statement here and llm will complete with reasoning and classification}\n",
    "Reasoning: [LLM COMPLETION]"
   ]
  },
  {
   "cell_type": "markdown",
   "id": "1b44c873-6d93-4e1e-9c94-f89c810625ac",
   "metadata": {},
   "source": [
    "Now we have a few-shot prompt to evaluate any model on this task. There's only one problem: the prompt allows us to evaluate any statement, but to make it into a benchmark we will need hundreds of statements with associated classification. Thankfully we can reuse our prompt to solve this problem."
   ]
  },
  {
   "cell_type": "markdown",
   "id": "e2973d36-1d0d-4498-983c-ded6069dae23",
   "metadata": {},
   "source": [
    "### Llama 2 as Statement Generator"
   ]
  },
  {
   "cell_type": "markdown",
   "id": "fb47e08a-8ab2-46a8-a2b5-5a1be5b012fc",
   "metadata": {},
   "source": [
    "What if I told you we can use the evaluation prompt we crafted earlier to generate new statements? We simply truncate the prompt at 'Statement: ' and let the LLM complete.\n"
   ]
  },
  {
   "cell_type": "markdown",
   "id": "f6a6ac14-5011-4eea-a489-dc1a9ff74328",
   "metadata": {},
   "source": [
    "Here we will use Llama 2 70B as it is a decently large model with little alignment bias and might provide more objective completions.\n",
    "\n",
    "For this we will use my favorite cloud inference provider: Together. To save time we also leverage multithreading. As good measure, we save the prompts and generations to a sqlite database."
   ]
  },
  {
   "cell_type": "code",
   "execution_count": 1,
   "id": "b6c406e5-d8c2-4820-83f2-3558e9ef0134",
   "metadata": {},
   "outputs": [
    {
     "name": "stdin",
     "output_type": "stream",
     "text": [
      "Enter your Together API Key:  \n"
     ]
    }
   ],
   "source": [
    "import os\n",
    "from multiprocessing import Process, Queue, Event\n",
    "import threading\n",
    "import concurrent.futures\n",
    "from queue import Queue, Empty\n",
    "import traceback\n",
    "import time\n",
    "import sys\n",
    "import requests\n",
    "import random\n",
    "import sqlite3\n",
    "import json\n",
    "import pandas as pd\n",
    "pd.set_option('display.max_colwidth', None) # Don't truncate text in columns when displaying\n",
    "from tqdm.notebook import tqdm\n",
    "\n",
    "TOGETHER_API_KEY = os.environ.get('TOGETHER_API_KEY')\n",
    "    \n",
    "if TOGETHER_API_KEY is None:\n",
    "    TOGETHER_API_KEY = input(\"Enter your Together API Key: \")\n",
    "    \n",
    "ENDPOINT_URL = 'https://api.together.xyz/v1/completions'\n",
    "\n",
    "def make_seed_prompt():\n",
    "    #GPT-4 augmented examples\n",
    "    statements = [\"\"\"Statement: “John was angry with me yesterday for no reason.”\n",
    "Reasoning: The statement suggests that John felt a certain emotion (anger) directed towards the speaker and adds the qualifier \"for no reason\". Emotions are subjective experiences, and we can't definitively know someone's emotion unless they express it. The phrase \"for no reason\" is a judgment because it interprets the cause of John's perceived emotion.\n",
    "Classification: Evaluation\n",
    "Pure observation alternative: “John told me he was angry,” or “John pounded his fist on the table.”\"\"\",\n",
    "\"\"\"Statement: “Yesterday evening Nancy bit her fingernails while watching television.”\n",
    "Reasoning: This statement is simply describing an action Nancy did at a specific time. There is no attached judgment or interpretation of why she did it or what it means about her character or state of mind.\n",
    "Classification: Observation\"\"\",\n",
    "\"\"\"Statement: “Sam didn’t ask for my opinion during the meeting.”\n",
    "Reasoning: This is a factual statement about something Sam did not do during a meeting. It doesn't assign any emotion, motive, or judgment to Sam's actions.\n",
    "Classification: Observation\"\"\",\n",
    "\"\"\"Statement: “Working in the banking industry, I've found it difficult to maintain a balance between my professional life and personal life, especially with regards to my children.”\n",
    "Reasoning: This statement combines several observations about the speaker's experience working in the banking industry and their personal struggles balancing work and family life. However, it also includes some evaluations like \"difficult\" and \"especially with regards to my children.\"\n",
    "Classification: Mixed\n",
    "Pure observation alternative: “I work in the banking industry and I spend more time at the office than I do with my children.”\"\"\",\n",
    "\"\"\"Statement: “My father is a good man.”\n",
    "Reasoning: The term \"good\" is subjective. What constitutes a \"good man\" can vary from person to person. This statement is expressing a personal judgment or belief about the father's character rather than a factual observation.\n",
    "Classification: Evaluation\n",
    "Nonviolent alternative: “For the last twenty-five years, my father has given one-tenth of his salary to charity.”\"\"\",\n",
    "\"\"\"Statement: “Janice works too much.”\n",
    "Reasoning: The phrase \"too much\" is a judgment that implies there is an appropriate or normal amount of work, and Janice exceeds that. It's not a simple recounting of facts but an interpretation of her work habits.\n",
    "Classification: Evaluation\n",
    "Pure observation alternative: “Janice spent more than sixty hours at the office this week.”\"\"\",\n",
    "\"\"\"Statement: “Henry is aggressive.”\n",
    "Reasoning: Labeling Henry as \"aggressive\" is a judgment. \"Aggressive\" is an interpretive term that assigns a character trait to Henry based on behaviors or actions that aren't specified in this statement.\n",
    "Classification: Evaluation\n",
    "Pure observation alternative: “Henry hit his sister when she switched the television channel.”\"\"\",\n",
    "\"\"\"Statement: “Pam was first in line every day this week.”\n",
    "Reasoning: This statement simply states a repeated action Pam took on specific days. There's no interpretation about why she was first in line or what it might mean about her character.\n",
    "Classification: Observation\"\"\",\n",
    "\"\"\"Statement: “My son often doesn’t brush his teeth.”\n",
    "Reasoning: The term \"often\" is a judgment that implies a frequency comparison to what is considered normal or acceptable. The statement isn't just stating times when the son didn't brush his teeth but is implying he neglects this action more than he should.\n",
    "Classification: Evaluation\n",
    "Pure observation alternative: “Twice this week my son didn’t brush his teeth before going to bed.”\"\"\",\n",
    "\"\"\"Statement: “Luke told me I didn’t look good in yellow.”\n",
    "Reasoning: This statement recounts a specific thing Luke said to the speaker. While Luke's statement was evaluative, the speaker is merely stating a fact about what Luke expressed, without adding their own judgment or interpretation.\n",
    "Classification: Observation\"\"\"]\n",
    "\n",
    "    random.shuffle(statements) # Let's shuffle the few shot ordering, hopefully this will give us more varied outputs\n",
    "\n",
    "    concatenated = \"\\n\\n\".join(statements)\n",
    "    \n",
    "    return \"\"\"OBSERVATION OR EVALUATION?\n",
    "\n",
    "In the context of Nonviolent Communication (NVC), it's crucial to distinguish between observations and evaluations. Observations are neutral descriptions of what one perceives, devoid of personal judgments or interpretations. In contrast, evaluations contain personal judgments or interpretations of situations. Your task is to review the provided statements and identify which ones are pure observations without any evaluations mixed in. By mastering this distinction, you can communicate more effectively, minimizing misunderstandings and conflicts.\n",
    "\n",
    "To determine your proficiency at discerning between observations and evaluations, complete the following exercise.\n",
    "\n",
    "\"\"\" + concatenated + '\\n\\n' + 'Statement:'\n",
    "\n",
    "# Let's define a class that will allow us to call a generate function many times in parallel\n",
    "class Generator:\n",
    "    def __init__(self, max_workers, generate_function, arguments_list):\n",
    "        self.task_queue = Queue()\n",
    "        self.results_queue = Queue()\n",
    "        self.workers = []\n",
    "        self.max_workers = max_workers\n",
    "        self.generate_function = generate_function\n",
    "        self.arguments_list = arguments_list\n",
    "        self.stop_signal_received = False\n",
    "\n",
    "    def worker(self):\n",
    "        while not self.stop_signal_received:\n",
    "            try:\n",
    "                arg = self.task_queue.get(timeout=1)\n",
    "                if arg is None:  # Stop signal\n",
    "                    break\n",
    "                try:\n",
    "                    result = self.generate_function(arg)\n",
    "                    self.results_queue.put(result)\n",
    "                except Exception as e:\n",
    "                    traceback.print_exc()\n",
    "                finally:\n",
    "                    self.task_queue.task_done()\n",
    "            except Empty:\n",
    "                continue\n",
    "\n",
    "    def start_workers(self):\n",
    "        for _ in range(self.max_workers):\n",
    "            worker = threading.Thread(target=self.worker)\n",
    "            worker.start()\n",
    "            self.workers.append(worker)\n",
    "\n",
    "    def stop_workers(self):\n",
    "        self.stop_signal_received = True\n",
    "        for _ in self.workers:\n",
    "            self.task_queue.put(None)  # Send stop signal to all workers\n",
    "        for worker in self.workers:\n",
    "            worker.join()\n",
    "\n",
    "    def __iter__(self):\n",
    "        self.stop_signal_received = False  # Reset stop signal in case of reuse\n",
    "        try:\n",
    "            # Enqueue all tasks\n",
    "            for arg in self.arguments_list:\n",
    "                self.task_queue.put(arg)\n",
    "            # Start worker threads\n",
    "            self.start_workers()\n",
    "        except KeyboardInterrupt:\n",
    "            print(\"KeyboardInterrupt detected, stopping workers...\")\n",
    "            self.stop_workers()\n",
    "            raise\n",
    "        return self\n",
    "\n",
    "    def __next__(self):\n",
    "        if self.stop_signal_received and self.results_queue.empty():\n",
    "            raise StopIteration\n",
    "        try:\n",
    "            result = self.results_queue.get(timeout=120)\n",
    "            return result\n",
    "        except Empty:\n",
    "            self.stop_signal_received = True  # Signal to stop if no results are available\n",
    "            self.stop_workers()\n",
    "            raise StopIteration\n",
    "\n",
    "def generate_statement(_, max_retries=10):\n",
    "    prompt = make_seed_prompt()\n",
    "    generation_params = {\n",
    "        \"model\": \"togethercomputer/llama-2-70b\",\n",
    "        \"max_tokens\": 512,\n",
    "        \"temperature\": 0.7,\n",
    "        \"top_p\": 0.7,\n",
    "        \"top_k\": 50,\n",
    "        \"stop\": \"\\n\\n\",\n",
    "        \"repetition_penalty\": 1,\n",
    "    }\n",
    "\n",
    "    retries = 0\n",
    "    while retries < max_retries:\n",
    "        try:\n",
    "            res = requests.post(ENDPOINT_URL, json={\n",
    "                **generation_params,\n",
    "                \"prompt\": prompt,\n",
    "            }, headers={\n",
    "                \"Authorization\": f\"Bearer {TOGETHER_API_KEY}\",\n",
    "            })\n",
    "\n",
    "            if res.status_code == 200:\n",
    "                return prompt, res.json()['choices'][0]['text'], generation_params\n",
    "            else:\n",
    "                error_message = res.text\n",
    "                print(f\"Attempt {retries + 1} failed with status code {res.status_code}. Error: {error_message}. Retrying...\")\n",
    "        except requests.exceptions.RequestException as e:\n",
    "            print(f\"An error occurred: {e}. Retrying...\")\n",
    "\n",
    "        retries += 1\n",
    "        time.sleep(1)  # Sleep for a bit before retrying to avoid overwhelming the server\n",
    "\n",
    "    return None\n",
    "\n",
    "\n",
    "\n",
    "def create_statement_generation_table():\n",
    "    conn = sqlite3.connect('results.sqlite')\n",
    "    c = conn.cursor()\n",
    "    c.execute('''\n",
    "        CREATE TABLE IF NOT EXISTS statement_generation (\n",
    "            id INTEGER PRIMARY KEY,\n",
    "            prompt TEXT,\n",
    "            generation TEXT,\n",
    "            statement TEXT,\n",
    "            generation_params json\n",
    "        )\n",
    "    ''')\n",
    "    conn.commit()\n",
    "    conn.close()\n",
    "\n",
    "def insert_generated_statement(prompt, generation, statement, generation_params):\n",
    "    conn = sqlite3.connect('results.sqlite')\n",
    "    c = conn.cursor()\n",
    "    c.execute('''\n",
    "        INSERT INTO statement_generation (prompt, generation, statement, generation_params)\n",
    "        VALUES (?, ?, ?, ?)\n",
    "    ''', (prompt, generation, statement, json.dumps(generation_params)))\n",
    "    conn.commit()\n",
    "    conn.close()\n",
    "\n",
    "def table_as_dataframe(table):\n",
    "    conn = sqlite3.connect('results.sqlite')\n",
    "    query = f'SELECT * FROM {table}'\n",
    "    df = pd.read_sql_query(query, conn)\n",
    "    conn.close()\n",
    "    return df"
   ]
  },
  {
   "cell_type": "code",
   "execution_count": 2,
   "id": "a9593722-13a5-4082-95c0-7033741709d3",
   "metadata": {},
   "outputs": [
    {
     "data": {
      "application/vnd.jupyter.widget-view+json": {
       "model_id": "9793ecb62b614e4bbb002f4ae19b611a",
       "version_major": 2,
       "version_minor": 0
      },
      "text/plain": [
       "  100%|█████████████████████████████████████████████████████████████████████████████████████| 1000/1000 [00:00<?, ?it/s]"
      ]
     },
     "metadata": {},
     "output_type": "display_data"
    },
    {
     "name": "stdout",
     "output_type": "stream",
     "text": [
      "CPU times: user 36.9 s, sys: 1.53 s, total: 38.4 s\n",
      "Wall time: 5min 47s\n"
     ]
    }
   ],
   "source": [
    "%%time\n",
    "\n",
    "create_statement_generation_table()\n",
    "\n",
    "n_samples = 1000\n",
    "\n",
    "arguments_list = [float(\"nan\")] * n_samples\n",
    "generator = Generator(max_workers=20, generate_function=generate_statement, arguments_list=arguments_list)\n",
    "\n",
    "for result in tqdm(generator, total=len(arguments_list)):\n",
    "    if result is not None:\n",
    "        prompt, generation, generation_params = result\n",
    "        open_curly_quote = generation.find('“')\n",
    "        close_curly_quote = generation.find('”')\n",
    "    \n",
    "        if open_curly_quote >= 0 and close_curly_quote >= 0:\n",
    "            statement = generation[open_curly_quote+1:close_curly_quote]\n",
    "            insert_generated_statement(prompt, generation, statement, generation_params)"
   ]
  },
  {
   "cell_type": "markdown",
   "id": "93cbb427-0fca-4e96-ba6e-13d83780cd14",
   "metadata": {},
   "source": [
    "let's look at some generated statements"
   ]
  },
  {
   "cell_type": "code",
   "execution_count": 3,
   "id": "a0445eb8-4d1a-4fb3-81eb-02a996b32eac",
   "metadata": {},
   "outputs": [
    {
     "data": {
      "text/html": [
       "<div>\n",
       "<style scoped>\n",
       "    .dataframe tbody tr th:only-of-type {\n",
       "        vertical-align: middle;\n",
       "    }\n",
       "\n",
       "    .dataframe tbody tr th {\n",
       "        vertical-align: top;\n",
       "    }\n",
       "\n",
       "    .dataframe thead th {\n",
       "        text-align: right;\n",
       "    }\n",
       "</style>\n",
       "<table border=\"1\" class=\"dataframe\">\n",
       "  <thead>\n",
       "    <tr style=\"text-align: right;\">\n",
       "      <th></th>\n",
       "      <th>id</th>\n",
       "      <th>prompt</th>\n",
       "      <th>generation</th>\n",
       "      <th>statement</th>\n",
       "      <th>generation_params</th>\n",
       "    </tr>\n",
       "  </thead>\n",
       "  <tbody>\n",
       "    <tr>\n",
       "      <th>0</th>\n",
       "      <td>1</td>\n",
       "      <td>OBSERVATION OR EVALUATION?\\n\\nIn the context o...</td>\n",
       "      <td>“I’m worried about the project.”\\nReasoning: T...</td>\n",
       "      <td>I’m worried about the project.</td>\n",
       "      <td>{\"model\": \"togethercomputer/llama-2-70b\", \"max...</td>\n",
       "    </tr>\n",
       "    <tr>\n",
       "      <th>1</th>\n",
       "      <td>2</td>\n",
       "      <td>OBSERVATION OR EVALUATION?\\n\\nIn the context o...</td>\n",
       "      <td>“I feel uncomfortable when I’m in a room with ...</td>\n",
       "      <td>I feel uncomfortable when I’m in a room with m...</td>\n",
       "      <td>{\"model\": \"togethercomputer/llama-2-70b\", \"max...</td>\n",
       "    </tr>\n",
       "    <tr>\n",
       "      <th>2</th>\n",
       "      <td>3</td>\n",
       "      <td>OBSERVATION OR EVALUATION?\\n\\nIn the context o...</td>\n",
       "      <td>“I don’t like my boss.”\\nReasoning: This stat...</td>\n",
       "      <td>I don’t like my boss.</td>\n",
       "      <td>{\"model\": \"togethercomputer/llama-2-70b\", \"max...</td>\n",
       "    </tr>\n",
       "    <tr>\n",
       "      <th>3</th>\n",
       "      <td>4</td>\n",
       "      <td>OBSERVATION OR EVALUATION?\\n\\nIn the context o...</td>\n",
       "      <td>“The weather was awful today.”\\nReasoning: Th...</td>\n",
       "      <td>The weather was awful today.</td>\n",
       "      <td>{\"model\": \"togethercomputer/llama-2-70b\", \"max...</td>\n",
       "    </tr>\n",
       "    <tr>\n",
       "      <th>4</th>\n",
       "      <td>5</td>\n",
       "      <td>OBSERVATION OR EVALUATION?\\n\\nIn the context o...</td>\n",
       "      <td>“The weather is bad today.”\\nReasoning: This ...</td>\n",
       "      <td>The weather is bad today.</td>\n",
       "      <td>{\"model\": \"togethercomputer/llama-2-70b\", \"max...</td>\n",
       "    </tr>\n",
       "  </tbody>\n",
       "</table>\n",
       "</div>"
      ],
      "text/plain": [
       "   id                                             prompt  \\\n",
       "0   1  OBSERVATION OR EVALUATION?\\n\\nIn the context o...   \n",
       "1   2  OBSERVATION OR EVALUATION?\\n\\nIn the context o...   \n",
       "2   3  OBSERVATION OR EVALUATION?\\n\\nIn the context o...   \n",
       "3   4  OBSERVATION OR EVALUATION?\\n\\nIn the context o...   \n",
       "4   5  OBSERVATION OR EVALUATION?\\n\\nIn the context o...   \n",
       "\n",
       "                                          generation  \\\n",
       "0  “I’m worried about the project.”\\nReasoning: T...   \n",
       "1  “I feel uncomfortable when I’m in a room with ...   \n",
       "2   “I don’t like my boss.”\\nReasoning: This stat...   \n",
       "3   “The weather was awful today.”\\nReasoning: Th...   \n",
       "4   “The weather is bad today.”\\nReasoning: This ...   \n",
       "\n",
       "                                           statement  \\\n",
       "0                     I’m worried about the project.   \n",
       "1  I feel uncomfortable when I’m in a room with m...   \n",
       "2                              I don’t like my boss.   \n",
       "3                       The weather was awful today.   \n",
       "4                          The weather is bad today.   \n",
       "\n",
       "                                   generation_params  \n",
       "0  {\"model\": \"togethercomputer/llama-2-70b\", \"max...  \n",
       "1  {\"model\": \"togethercomputer/llama-2-70b\", \"max...  \n",
       "2  {\"model\": \"togethercomputer/llama-2-70b\", \"max...  \n",
       "3  {\"model\": \"togethercomputer/llama-2-70b\", \"max...  \n",
       "4  {\"model\": \"togethercomputer/llama-2-70b\", \"max...  "
      ]
     },
     "execution_count": 8,
     "metadata": {},
     "output_type": "execute_result"
    }
   ],
   "source": [
    "table_as_dataframe('statement_generation').head()"
   ]
  },
  {
   "cell_type": "markdown",
   "id": "1afc6db9-4cf6-4f3f-a049-db0c63e22ca7",
   "metadata": {},
   "source": [
    "Well... our generations don't seem to have a lot of variety, let's plot their similarity using the `all-MiniLM-L6-v2` sentence embedding model."
   ]
  },
  {
   "cell_type": "code",
   "execution_count": 4,
   "id": "81a13ecb-2fdb-4847-945d-c7f51ff1d556",
   "metadata": {},
   "outputs": [
    {
     "data": {
      "image/png": "[encoded data removed]",
      "text/plain": [
       "<Figure size 640x480 with 1 Axes>"
      ]
     },
     "metadata": {},
     "output_type": "display_data"
    }
   ],
   "source": [
    "import numpy as np\n",
    "import matplotlib.pyplot as plt\n",
    "from sentence_transformers import SentenceTransformer\n",
    "from sklearn.metrics.pairwise import cosine_similarity\n",
    "\n",
    "def fetch_all_statements():\n",
    "    conn = sqlite3.connect('results.sqlite')\n",
    "    c = conn.cursor()\n",
    "    c.execute('SELECT statement FROM statement_generation')\n",
    "    all_statements = [row[0] for row in c.fetchall()]\n",
    "    conn.close()\n",
    "    return all_statements\n",
    "\n",
    "statements = fetch_all_statements()\n",
    "model = SentenceTransformer('all-MiniLM-L6-v2')\n",
    "\n",
    "# Generate embeddings for each string in the DataFrame\n",
    "embeddings = model.encode(statements)\n",
    "\n",
    "# Calculate cosine similarity\n",
    "cosine_sim = cosine_similarity(embeddings)\n",
    "\n",
    "# Exclude self-comparison\n",
    "np.fill_diagonal(cosine_sim, -1)\n",
    "\n",
    "highest_cosine_similarity_by_embedding = np.max(cosine_sim, axis=1)\n",
    "\n",
    "plt.hist(highest_cosine_similarity_by_embedding, bins=10)\n",
    "plt.xlabel('Highest similarity with another statement in the set')\n",
    "plt.ylabel('Frequency')\n",
    "plt.title('Embedding similarity histogram')\n",
    "plt.show()"
   ]
  },
  {
   "cell_type": "markdown",
   "id": "829d4436-6f7c-46d7-b6e1-44fe429e236a",
   "metadata": {},
   "source": [
    "That's a lot of similar statements... It seems the Llama 2 70B model is exhibiting some sort of [mode collapse](https://www.lesswrong.com/posts/t9svvNPNmFf5Qa3TA/mysteries-of-mode-collapse) here.\n",
    "\n",
    "To make sure our statements have sufficient variety let's bring in some real world data. What if we sourced statements from TV scripts? Given the nature of our task, let's aim for material that touches on every day sensibilities and showcases a lot of complex interpersonal dynamics."
   ]
  },
  {
   "cell_type": "markdown",
   "id": "9d7ebeb3-90c2-4be5-9761-5a4dd7bf8efd",
   "metadata": {},
   "source": [
    "## Getting Around Mode Collapse with TV Scripts"
   ]
  },
  {
   "cell_type": "markdown",
   "id": "3b0cd3b0-2d8c-4431-ae79-efd3b1b09764",
   "metadata": {},
   "source": [
    "\n",
    "Looking around the internet, I found [this dataset](https://www.kaggle.com/datasets/luongleanstocode/seinfeld-text-corpus) on Kaggle that contains all the Seinfeld episode scripts in a single .txt file.\n",
    "\n",
    "Let's parse the file into scenes and dialogues."
   ]
  },
  {
   "cell_type": "code",
   "execution_count": 5,
   "id": "2eda14a7-339d-4ffc-a976-43987cc68b7d",
   "metadata": {},
   "outputs": [],
   "source": [
    "import re\n",
    "\n",
    "scenes = []\n",
    "\n",
    "with open('corpus.txt', 'r') as f:\n",
    "    current_scene = None\n",
    "    for line in f:\n",
    "        line = line.strip()\n",
    "        \n",
    "        if  (line.startswith('[') and line.endswith(']')) or ('INT.' in line or 'EXT.' in line):\n",
    "            if not current_scene is None:\n",
    "                scenes.append(current_scene)\n",
    "            current_scene = {}\n",
    "            current_scene['location'] = line\n",
    "            current_scene['text'] = line\n",
    "        elif not current_scene is None:\n",
    "            current_scene['text'] += '\\n' + line  \n",
    "\n",
    "def flatten(arr):\n",
    "    flattened = []\n",
    "    for item in arr:\n",
    "        if isinstance(item, list):\n",
    "            flattened.extend(flatten(item))\n",
    "        else:\n",
    "            flattened.append(item)\n",
    "    return flattened\n",
    "\n",
    "def extract_dialogues(strings):\n",
    "    extracted_parts = []\n",
    "    \n",
    "    for string in strings:\n",
    "        if re.match(r\"^[A-Z\\s]+:\", string): # Match \"CHARACTER NAME: ...\" \n",
    "            extracted_part = string.split(':', 1)[1].strip()\n",
    "            extracted_parts.append(extracted_part)\n",
    "    \n",
    "    return extracted_parts\n",
    "\n",
    "dialogues = flatten([extract_dialogues(scene['text'].split('\\n')) for scene in scenes])"
   ]
  },
  {
   "cell_type": "markdown",
   "id": "87546526-6547-44a8-bad3-82280397eac5",
   "metadata": {},
   "source": [
    "Now, let's see if we can use a zero-shot classification model based on BERT to identify dialogues that serve as clear examples of observations or evaluations, while filtering out onomatopoeia, interjections and other irrelevant utterances."
   ]
  },
  {
   "cell_type": "code",
   "execution_count": 6,
   "id": "d701f016-3cbb-49c0-8f11-0def39e2d66b",
   "metadata": {},
   "outputs": [
    {
     "name": "stdout",
     "output_type": "stream",
     "text": [
      "100%|█████████████████████████████████████████████████████████████████████████████████████| 4/4 [00:04<00:00,  1.01s/it]\n"
     ]
    }
   ],
   "source": [
    "import torch\n",
    "from tqdm import tqdm\n",
    "from transformers import pipeline\n",
    "\n",
    "def create_classification_table():\n",
    "    conn = sqlite3.connect('results.sqlite')\n",
    "    c = conn.cursor()\n",
    "    c.execute('''\n",
    "        CREATE TABLE IF NOT EXISTS dialogue_bert_classification (\n",
    "            id INTEGER PRIMARY KEY,\n",
    "            dialogue TEXT,\n",
    "            conversation_score REAL,\n",
    "            statement_score REAL,\n",
    "            ratio REAL\n",
    "        )\n",
    "    ''')\n",
    "    conn.commit()\n",
    "    conn.close()\n",
    "\n",
    "\n",
    "def insert_classification_result(dialogue, conversation_score, statement_score, ratio):\n",
    "    conn = sqlite3.connect('results.sqlite')\n",
    "    c = conn.cursor()\n",
    "    c.execute('''\n",
    "        INSERT INTO dialogue_bert_classification (dialogue, conversation_score, statement_score, ratio)\n",
    "        VALUES (?, ?, ?, ?)\n",
    "    ''', (dialogue, conversation_score, statement_score, ratio))\n",
    "    conn.commit()\n",
    "    conn.close()\n",
    "\n",
    "\n",
    "def check_if_classified(dialogue):\n",
    "    conn = sqlite3.connect('results.sqlite')\n",
    "    c = conn.cursor()\n",
    "    # Prepare the query, using parameter substitution to avoid SQL injection\n",
    "    c.execute('SELECT id FROM dialogue_bert_classification WHERE dialogue = ?', (dialogue,))\n",
    "    result = c.fetchone()  # Fetch the first row of results\n",
    "    conn.close()\n",
    "    return result is not None  # Return True if a result was found, otherwise False\n",
    "\n",
    "\n",
    "\n",
    "\n",
    "device = 'cuda' if torch.cuda.is_available() else 'cpu'\n",
    "\n",
    "classifier = pipeline(\"zero-shot-classification\", model=\"MoritzLaurer/DeBERTa-v3-base-mnli-fever-anli\", device=0)\n",
    "\n",
    "# Define the batch size\n",
    "batch_size = 32  # You can adjust this based on your memory constraints\n",
    "\n",
    "# Function to divide the dataset into batches\n",
    "def divide_into_batches(data, batch_size):\n",
    "    for i in range(0, len(data), batch_size):\n",
    "        yield data[i:i + batch_size]\n",
    "\n",
    "# Split the dataset into batches\n",
    "batches = list(divide_into_batches(dialogues[0:100], batch_size))\n",
    "\n",
    "candidate_labels = [\"conversation\", \"statement\"]\n",
    "\n",
    "conversation_scores = []\n",
    "statement_scores = []\n",
    "\n",
    "create_classification_table()\n",
    "\n",
    "# Process each batch\n",
    "for batch in tqdm(batches):\n",
    "    for i, dialogue in enumerate(batch):\n",
    "        if check_if_classified(dialogue):\n",
    "            continue\n",
    "\n",
    "        output = classifier([dialogue], candidate_labels, multi_label=False)[0]\n",
    "        conversation_score = output['scores'][0]\n",
    "        statement_score = output['scores'][1]\n",
    "        ratio = statement_score / conversation_score\n",
    "\n",
    "        insert_classification_result(dialogue, conversation_score, statement_score, ratio)\n",
    "        \n",
    "df = table_as_dataframe('dialogue_bert_classification')\n",
    "df['ratio'] = df.apply(lambda row: row['statement_score'] / row['conversation_score'], axis=1)"
   ]
  },
  {
   "cell_type": "markdown",
   "id": "42cd3d38-28ad-4ca9-8c70-4dabab5e9587",
   "metadata": {},
   "source": [
    "Let's look at the dialogues that the model classified as statements (or with roughly equal weighting for *statement* and *conversation*)  \n",
    "For that let's look at the weighting distribution (expressed as ratio of statement score over conversation score)"
   ]
  },
  {
   "cell_type": "code",
   "execution_count": 7,
   "id": "5182f4a7-ea07-493b-8c2b-93706b01f482",
   "metadata": {},
   "outputs": [
    {
     "data": {
      "image/png": "[encoded data removed]",
      "text/plain": [
       "<Figure size 640x480 with 1 Axes>"
      ]
     },
     "metadata": {},
     "output_type": "display_data"
    }
   ],
   "source": [
    "import matplotlib.pyplot as plt\n",
    "\n",
    "plt.hist(df['ratio'], bins=10)\n",
    "plt.xlabel('Statement score ratio')\n",
    "plt.ylabel('Frequency')\n",
    "plt.title('Dialogues')\n",
    "plt.show()"
   ]
  },
  {
   "cell_type": "markdown",
   "id": "b12c36e1-d853-47d2-a2b8-013794329c94",
   "metadata": {},
   "source": [
    "0.8 maybe seems like a good treshold"
   ]
  },
  {
   "cell_type": "code",
   "execution_count": 8,
   "id": "e015a4ed-a7d9-40dc-a4e0-f66af5041ff2",
   "metadata": {},
   "outputs": [
    {
     "data": {
      "text/html": [
       "<div>\n",
       "<style scoped>\n",
       "    .dataframe tbody tr th:only-of-type {\n",
       "        vertical-align: middle;\n",
       "    }\n",
       "\n",
       "    .dataframe tbody tr th {\n",
       "        vertical-align: top;\n",
       "    }\n",
       "\n",
       "    .dataframe thead th {\n",
       "        text-align: right;\n",
       "    }\n",
       "</style>\n",
       "<table border=\"1\" class=\"dataframe\">\n",
       "  <thead>\n",
       "    <tr style=\"text-align: right;\">\n",
       "      <th></th>\n",
       "      <th>dialogue</th>\n",
       "      <th>ratio</th>\n",
       "    </tr>\n",
       "  </thead>\n",
       "  <tbody>\n",
       "    <tr>\n",
       "      <th>54</th>\n",
       "      <td>I'm not gonna watch you do laundry.</td>\n",
       "      <td>0.821589</td>\n",
       "    </tr>\n",
       "    <tr>\n",
       "      <th>59</th>\n",
       "      <td>Jerry? I have to tell you something. This is the dullest moment I've ever experienced.</td>\n",
       "      <td>0.871188</td>\n",
       "    </tr>\n",
       "    <tr>\n",
       "      <th>66</th>\n",
       "      <td>Yeah, but how could you be so sure?</td>\n",
       "      <td>0.876894</td>\n",
       "    </tr>\n",
       "    <tr>\n",
       "      <th>93</th>\n",
       "      <td>You know, I almost wound up going to that game.</td>\n",
       "      <td>0.893139</td>\n",
       "    </tr>\n",
       "    <tr>\n",
       "      <th>12</th>\n",
       "      <td>Trust me George. No one has any interest in seeing you on caffeine.</td>\n",
       "      <td>0.923207</td>\n",
       "    </tr>\n",
       "    <tr>\n",
       "      <th>34</th>\n",
       "      <td>No...no...no, I hate to tell you this. You're not gonna see this woman.</td>\n",
       "      <td>0.937720</td>\n",
       "    </tr>\n",
       "    <tr>\n",
       "      <th>11</th>\n",
       "      <td>Can you relax, it's a cup of coffee. Claire is a professional waitress.</td>\n",
       "      <td>0.964591</td>\n",
       "    </tr>\n",
       "  </tbody>\n",
       "</table>\n",
       "</div>"
      ],
      "text/plain": [
       "                                                                                  dialogue     ratio\n",
       "54                                                     I'm not gonna watch you do laundry.  0.821589\n",
       "59  Jerry? I have to tell you something. This is the dullest moment I've ever experienced.  0.871188\n",
       "66                                                     Yeah, but how could you be so sure?  0.876894\n",
       "93                                         You know, I almost wound up going to that game.  0.893139\n",
       "12                     Trust me George. No one has any interest in seeing you on caffeine.  0.923207\n",
       "34                 No...no...no, I hate to tell you this. You're not gonna see this woman.  0.937720\n",
       "11                 Can you relax, it's a cup of coffee. Claire is a professional waitress.  0.964591"
      ]
     },
     "execution_count": 35,
     "metadata": {},
     "output_type": "execute_result"
    }
   ],
   "source": [
    "df[df['ratio'] > 0.8].sort_values(by='ratio')[['dialogue', 'ratio']]"
   ]
  },
  {
   "cell_type": "markdown",
   "id": "244598b5-7632-4a56-a5cd-b55d80a55c8c",
   "metadata": {},
   "source": [
    "These examples aren't really suitable for our purpose. A lot of them are clearly dialogue excerpts lacking context, they're not the kind of textbook-style self-contained statements that we're looking for.\n",
    "\n",
    "What if instead of using the dialogues directly we fed the scripts to a LLM and asked it to create statements inspired by it?"
   ]
  },
  {
   "cell_type": "markdown",
   "id": "3bfe4ac0-5903-45da-ab36-d78d449bb3e1",
   "metadata": {},
   "source": [
    "To get the results we are looking for we will use a convenient little trick. We use the [chat templates](https://huggingface.co/docs/transformers/chat_templating) feature of the Hugging Face tokenizer library to feed the model both our user prompt and an affirmation by the model. We basically prefix the model's answer with a few words of acknowledgment (\"*Understood. I will now do [description of task]*\"). The way I understand it, this basically helps the attention layer make associations between the AI answer and user instruction, this in turn seems to generate more relevant answers. If you want the model to remember a particular step you can add it to this part. (\"*I will do [...] while making sure that [important constraint  to remember]*\"). It can also help with getting a specific format out of the model (\"*Here are the [things you asked for] in json format : &#123;*\")\n",
    "\n",
    "We use this togeter with the `apply_chat_template` method of the tokenizer to format the prompt based on our messages.\n",
    "See the animation below."
   ]
  },
  {
   "cell_type": "markdown",
   "id": "b9a53215-ce4c-49ad-acbf-4aab60352b5c",
   "metadata": {},
   "source": [
    "![image](img/impersonated_acknowledgment.webp)\n",
    "---\n",
    "Impersonated acknowledgment prompting with ChatML, red is typed in by a user, blue is language model completion"
   ]
  },
  {
   "cell_type": "markdown",
   "id": "532640bf-8f5c-4c33-b46a-af849096deac",
   "metadata": {},
   "source": [
    "With this, we are ready to start generating statements based on the Seinfeld scripts."
   ]
  },
  {
   "cell_type": "code",
   "execution_count": 9,
   "id": "3dc96bd5-4226-469b-97b9-fb054cbed7e5",
   "metadata": {},
   "outputs": [],
   "source": [
    "from transformers import AutoTokenizer\n",
    "\n",
    "tokenizer = AutoTokenizer.from_pretrained('NousResearch/Nous-Hermes-2-Mixtral-8x7B-SFT', use_fast=True)\n",
    "\n",
    "# our prompt only generates evaluations, we do this because when asking the model for an observation it seems to always start with \"I notice\", resulting in non natural sounding statements\n",
    "# instead we will generate only evaluations as there are more naturally occurring in our data\n",
    "# to counteract the imbalance we will later derive observation statements from the evaluations\n",
    "\n",
    "def make_prompt(scene):\n",
    "    prompt = f\"\"\"We are working on  a textbook.\n",
    "\n",
    "Here is an excerpt\n",
    "\n",
    "```\n",
    "To determine your proficiency at discerning between observations and evaluations, complete the following exercise.\n",
    "\n",
    "“John was angry with me yesterday for no reason.”\n",
    "It is an evaluation\n",
    "\n",
    "“Yesterday evening Nancy bit her fingernails while watching television.”\n",
    "It is an observation\n",
    "\n",
    "“Sam didn’t ask for my opinion during the meeting.”\n",
    "It is an observation\n",
    "\n",
    "“My father is a good man.”\n",
    "It is an evaluation\n",
    "\n",
    "“Janice works too much.”\n",
    "It is an evaluation\n",
    "\n",
    "“Henry is aggressive.”\n",
    "It is an evaluation\n",
    "\n",
    "“Pam was first in line every day this week.”\n",
    "It is an observation\n",
    "\n",
    "“My son often doesn’t brush his teeth.”\n",
    "It is an evaluation\n",
    "\n",
    "“Luke told me I didn’t look good in yellow.”\n",
    "It is an observation\n",
    "```\n",
    "\n",
    "\n",
    "We want to create new examples and statements.\n",
    "\n",
    "Read this as inspiration\n",
    "\n",
    "```\n",
    "{scene}\n",
    "```\n",
    "\n",
    "\n",
    "Roleplay as one of the characters and make a evaluation statement\"\"\"\n",
    "    \n",
    "    return tokenizer.apply_chat_template([{\n",
    "                            \"content\": prompt,\n",
    "                            \"role\": \"user\"\n",
    "                        }], tokenize=False, add_generation_prompt=True) + 'Understood. I will write a new statement for your NVC textbook by roleplaying as one of the characters in this scene.\\nI will roleplay as' #[AI completes here] #impersonated acknowledgment"
   ]
  },
  {
   "cell_type": "code",
   "execution_count": 10,
   "id": "c599e611-68d0-4845-b55b-cd90ef29e508",
   "metadata": {},
   "outputs": [
    {
     "data": {
      "application/vnd.jupyter.widget-view+json": {
       "model_id": "9554c02b9c344f67bc9e4b3c8a695c4a",
       "version_major": 2,
       "version_minor": 0
      },
      "text/plain": [
       "100%|█████████████████████████████████████████████████████████████████████████████████████| 30/30 [00:00<?, ?it/s]"
      ]
     },
     "metadata": {},
     "output_type": "display_data"
    }
   ],
   "source": [
    "def create_scene_statements_table():\n",
    "    conn = sqlite3.connect('results.sqlite')\n",
    "    c = conn.cursor()\n",
    "    c.execute('''\n",
    "        CREATE TABLE IF NOT EXISTS scene_statements (\n",
    "            id INTEGER PRIMARY KEY,\n",
    "            scene TEXT,\n",
    "            prompt TEXT,\n",
    "            generation TEXT,\n",
    "            generation_params json\n",
    "        )\n",
    "    ''')\n",
    "    conn.commit()\n",
    "    conn.close()\n",
    "\n",
    "def insert_scene_statement(scene, prompt, generation, generation_params):\n",
    "    conn = sqlite3.connect('results.sqlite')\n",
    "    c = conn.cursor()\n",
    "    \n",
    "    # Check if the scene with the same prompt already exists\n",
    "    c.execute('''\n",
    "        SELECT COUNT(*) FROM scene_statements WHERE scene = ? AND prompt = ?\n",
    "    ''', (scene, prompt))\n",
    "    exists = c.fetchone()[0] > 0\n",
    "    \n",
    "    # If it doesn't exist, insert the new row\n",
    "    if not exists:\n",
    "        c.execute('''\n",
    "            INSERT INTO scene_statements (scene, prompt, generation, generation_params)\n",
    "            VALUES (?, ?, ?, ?)\n",
    "        ''', (scene, prompt, generation, json.dumps(generation_params)))\n",
    "        conn.commit()\n",
    "    else:\n",
    "        print(\"Entry already exists for scene and prompt, skipping insert.\")\n",
    "    \n",
    "    conn.close()\n",
    "\n",
    "def get_generated_statement_for_scene_prompt(prompt):\n",
    "    conn = sqlite3.connect('results.sqlite')\n",
    "    c = conn.cursor()\n",
    "    # Query to find an existing generation for the given prompt\n",
    "    c.execute('''\n",
    "        SELECT generation FROM scene_statements WHERE prompt = ?\n",
    "    ''', (prompt,))\n",
    "    result = c.fetchone()\n",
    "    conn.close()\n",
    "    return result[0] if result else None\n",
    "    \n",
    "def generate_statement_from_scene(scene, max_retries=10):\n",
    "    generation_params = {\n",
    "        \"model\": \"NousResearch/Nous-Hermes-2-Mixtral-8x7B-SFT\",  # We use SFT version and not DPO because it is allegedly better at creative uses\n",
    "        \"max_tokens\": 512,\n",
    "        \"temperature\": 0.7,\n",
    "        \"top_p\": 0.7,\n",
    "        \"top_k\": 50,\n",
    "        \"stop\": [\n",
    "            \"<|im_end|>\",\n",
    "            \"<|im_start|>\"\n",
    "        ],\n",
    "        \"repetition_penalty\": 1,\n",
    "    }\n",
    "\n",
    "    prompt = make_prompt(scene)\n",
    "\n",
    "    if len(tokenizer.encode(prompt)) > 32768:\n",
    "        return None # Skip prompts that are too long\n",
    "        \n",
    "    \n",
    "    existing_generation = get_generated_statement_for_scene_prompt(prompt)\n",
    "\n",
    "    if existing_generation is not None:\n",
    "        print(\"Found existing generation for prompt\")\n",
    "        return None\n",
    "\n",
    "    retries = 0\n",
    "    while retries < max_retries:\n",
    "        try:\n",
    "            res = requests.post(ENDPOINT_URL, json={\n",
    "                **generation_params,\n",
    "                \"prompt\": prompt,\n",
    "            }, headers={\n",
    "                \"Authorization\": f\"Bearer {TOGETHER_API_KEY}\",\n",
    "            })\n",
    "\n",
    "            if res.status_code == 200:\n",
    "                return scene, prompt, res.json()['choices'][0]['text'], generation_params\n",
    "            else:\n",
    "                error_message = res.text\n",
    "                print(f\"Attempt {retries + 1} failed with status code {res.status_code}. Error: {error_message}. Retrying...\")\n",
    "        except requests.exceptions.RequestException as e:\n",
    "            print(f\"An error occurred: {e}. Retrying...\")\n",
    "\n",
    "        retries += 1\n",
    "        time.sleep(1)  # Sleep for a bit before retrying to avoid overwhelming the server\n",
    "\n",
    "    return None\n",
    "    \n",
    "scene_texts = [scene['text'] for scene in scenes][0:30]\n",
    "\n",
    "arguments_list = scene_texts\n",
    "generator = Generator(max_workers=20, generate_function=generate_statement_from_scene, arguments_list=arguments_list)\n",
    "\n",
    "create_scene_statements_table()\n",
    "\n",
    "for result in tqdm(generator, total=len(arguments_list)):\n",
    "    if result is not None:\n",
    "        scene, prompt, generation, generation_params = result\n",
    "        insert_scene_statement(scene, prompt, generation, generation_params)"
   ]
  },
  {
   "cell_type": "markdown",
   "id": "46a62aa5-1551-456a-8c05-d48b25e3abbe",
   "metadata": {},
   "source": [
    "Let's look at the newly generated statements:"
   ]
  },
  {
   "cell_type": "code",
   "execution_count": 11,
   "id": "8de80198-f8b4-4b71-bf58-4d8f4bb8f3e6",
   "metadata": {},
   "outputs": [
    {
     "data": {
      "text/html": [
       "<div>\n",
       "<style scoped>\n",
       "    .dataframe tbody tr th:only-of-type {\n",
       "        vertical-align: middle;\n",
       "    }\n",
       "\n",
       "    .dataframe tbody tr th {\n",
       "        vertical-align: top;\n",
       "    }\n",
       "\n",
       "    .dataframe thead th {\n",
       "        text-align: right;\n",
       "    }\n",
       "</style>\n",
       "<table border=\"1\" class=\"dataframe\">\n",
       "  <thead>\n",
       "    <tr style=\"text-align: right;\">\n",
       "      <th></th>\n",
       "      <th>generation</th>\n",
       "    </tr>\n",
       "  </thead>\n",
       "  <tbody>\n",
       "    <tr>\n",
       "      <th>0</th>\n",
       "      <td>Elaine and make an evaluation statement.\\n\"Jerry, your constant interruptions during our conversations are really frustrating.\"</td>\n",
       "    </tr>\n",
       "    <tr>\n",
       "      <th>1</th>\n",
       "      <td>Jerry and make an evaluation statement.\\nJerry: \"Performing on stage is one of the most exhilarating experiences I've ever had.\"</td>\n",
       "    </tr>\n",
       "    <tr>\n",
       "      <th>2</th>\n",
       "      <td>Helen and make an evaluation statement.\\n\"Jerry, you're always so worried about what other people think. It's exhausting to watch.\"</td>\n",
       "    </tr>\n",
       "    <tr>\n",
       "      <th>3</th>\n",
       "      <td>Jerry and make an evaluation statement.\\n\"Jerry: (thinking) Vanessa is the most captivating woman I've ever met.\"</td>\n",
       "    </tr>\n",
       "    <tr>\n",
       "      <th>4</th>\n",
       "      <td>Helen, Jerry's mother.\\n\"I think Jerry should just ask Elaine for the number instead of waiting for the other woman in the lobby.\"</td>\n",
       "    </tr>\n",
       "    <tr>\n",
       "      <th>...</th>\n",
       "      <td>...</td>\n",
       "    </tr>\n",
       "    <tr>\n",
       "      <th>3643</th>\n",
       "      <td>Jerry Seinfeld. Here's the statement:\\n\"Jerry Seinfeld felt embarrassed when he had to wear the puffy shirt on the Today Show.\"\\nThis statement is an evaluation because it expresses Jerry's emotional response to the situation.</td>\n",
       "    </tr>\n",
       "    <tr>\n",
       "      <th>3644</th>\n",
       "      <td>Elaine and make an evaluation statement.\\nElaine: \"The Soup Nazi's soup is the best I've ever tasted.\"</td>\n",
       "    </tr>\n",
       "    <tr>\n",
       "      <th>3645</th>\n",
       "      <td>Jane Wells.\\nStatement: \"The endless parade of witnesses who have come forth so enthusiastically to testify against these four seemingly ordinary people has left the courtroom and everyone who has attended this trial in a state of shock and disbelief.\"</td>\n",
       "    </tr>\n",
       "    <tr>\n",
       "      <th>3646</th>\n",
       "      <td>Babu Bhatt and make an evaluation statement.\\n\"Jerry and Elaine's constant mocking of me and my restaurant has deeply hurt my feelings and damaged my reputation. They are not good people.\"</td>\n",
       "    </tr>\n",
       "    <tr>\n",
       "      <th>3647</th>\n",
       "      <td>Estelle, George's mother, and make an evaluation statement.\\nEstelle: \"Judge Vandelay, I truly believe that my son George is a good person at heart, despite the unfortunate situation he finds himself in.\"</td>\n",
       "    </tr>\n",
       "  </tbody>\n",
       "</table>\n",
       "<p>3648 rows × 1 columns</p>\n",
       "</div>"
      ],
      "text/plain": [
       "                                                                                                                                                                                                                                                        generation\n",
       "0                                                                                                                                  Elaine and make an evaluation statement.\\n\"Jerry, your constant interruptions during our conversations are really frustrating.\"\n",
       "1                                                                                                                                 Jerry and make an evaluation statement.\\nJerry: \"Performing on stage is one of the most exhilarating experiences I've ever had.\"\n",
       "2                                                                                                                              Helen and make an evaluation statement.\\n\"Jerry, you're always so worried about what other people think. It's exhausting to watch.\"\n",
       "3                                                                                                                                                Jerry and make an evaluation statement.\\n\"Jerry: (thinking) Vanessa is the most captivating woman I've ever met.\"\n",
       "4                                                                                                                               Helen, Jerry's mother.\\n\"I think Jerry should just ask Elaine for the number instead of waiting for the other woman in the lobby.\"\n",
       "...                                                                                                                                                                                                                                                            ...\n",
       "3643                            Jerry Seinfeld. Here's the statement:\\n\"Jerry Seinfeld felt embarrassed when he had to wear the puffy shirt on the Today Show.\"\\nThis statement is an evaluation because it expresses Jerry's emotional response to the situation.\n",
       "3644                                                                                                                                                        Elaine and make an evaluation statement.\\nElaine: \"The Soup Nazi's soup is the best I've ever tasted.\"\n",
       "3645  Jane Wells.\\nStatement: \"The endless parade of witnesses who have come forth so enthusiastically to testify against these four seemingly ordinary people has left the courtroom and everyone who has attended this trial in a state of shock and disbelief.\"\n",
       "3646                                                                  Babu Bhatt and make an evaluation statement.\\n\"Jerry and Elaine's constant mocking of me and my restaurant has deeply hurt my feelings and damaged my reputation. They are not good people.\"\n",
       "3647                                                  Estelle, George's mother, and make an evaluation statement.\\nEstelle: \"Judge Vandelay, I truly believe that my son George is a good person at heart, despite the unfortunate situation he finds himself in.\"\n",
       "\n",
       "[3648 rows x 1 columns]"
      ]
     },
     "execution_count": 25,
     "metadata": {},
     "output_type": "execute_result"
    }
   ],
   "source": [
    "table_as_dataframe('scene_statements')[['generation']]"
   ]
  },
  {
   "cell_type": "markdown",
   "id": "dd159ed6-b565-4ae2-b94a-4bca84f18b2b",
   "metadata": {},
   "source": [
    "That looks good, it just need a big of cleaning to remove extra text. We could try and conjure some regex magic but instead we will just prompt the model again and ask it to clean the string the way we want. And while we are at it we will also ask the LLM to change the names in the statement so we don't end up with a dataset biased towards people named 'Jerry', 'George' or 'Elaine'. To ensure a nice distribution of names we will provide the LLM with a random list of names to choose from. The `faker` library can help with that."
   ]
  },
  {
   "cell_type": "code",
   "execution_count": 12,
   "id": "ed472318-a8b3-4ed3-bf72-d9a8f8d6650f",
   "metadata": {},
   "outputs": [
    {
     "name": "stdout",
     "output_type": "stream",
     "text": [
      "\u001b[33mWARNING: Ignoring invalid distribution -orch (/envs/textgen/lib/python3.10/site-packages)\u001b[0m\u001b[33m\n",
      "\u001b[0mRequirement already satisfied: faker in /envs/textgen/lib/python3.10/site-packages (19.8.0)\n",
      "Requirement already satisfied: python-dateutil>=2.4 in /envs/textgen/lib/python3.10/site-packages (from faker) (2.8.2)\n",
      "Requirement already satisfied: six>=1.5 in /envs/textgen/lib/python3.10/site-packages (from python-dateutil>=2.4->faker) (1.16.0)\n",
      "\u001b[33mWARNING: Ignoring invalid distribution -orch (/envs/textgen/lib/python3.10/site-packages)\u001b[0m\u001b[33m\n",
      "\u001b[0m\u001b[33mDEPRECATION: omegaconf 2.0.6 has a non-standard dependency specifier PyYAML>=5.1.*. pip 24.0 will enforce this behaviour change. A possible replacement is to upgrade to a newer version of omegaconf or contact the author to suggest that they release a version with a conforming dependency specifiers. Discussion can be found at https://github.com/pypa/pip/issues/12063\u001b[0m\u001b[33m\n",
      "\u001b[0m\n",
      "\u001b[1m[\u001b[0m\u001b[34;49mnotice\u001b[0m\u001b[1;39;49m]\u001b[0m\u001b[39;49m A new release of pip is available: \u001b[0m\u001b[31;49m23.3.1\u001b[0m\u001b[39;49m -> \u001b[0m\u001b[32;49m24.0\u001b[0m\n",
      "\u001b[1m[\u001b[0m\u001b[34;49mnotice\u001b[0m\u001b[1;39;49m]\u001b[0m\u001b[39;49m To update, run: \u001b[0m\u001b[32;49mpip install --upgrade pip\u001b[0m\n"
     ]
    }
   ],
   "source": [
    "!pip install faker"
   ]
  },
  {
   "cell_type": "code",
   "execution_count": 13,
   "id": "75aac456-aae4-49ff-8f5b-638a881911df",
   "metadata": {},
   "outputs": [],
   "source": [
    "import random\n",
    "from transformers import AutoTokenizer\n",
    "from faker import Faker\n",
    "\n",
    "fake = Faker()\n",
    "\n",
    "tokenizer = AutoTokenizer.from_pretrained('teknium/OpenHermes-2.5-Mistral-7B', use_fast=True)\n",
    "\n",
    "nl = '\\n'\n",
    "\n",
    "def clean_prompt(input):\n",
    "    return f\"\"\"Rewrite what is verbally stated in the input given by the user, excluding any preambles or introductions that are not part of the direct speech. The output should be enclosed in curly quotation marks.\n",
    "\n",
    "\n",
    "examples:\n",
    "---\n",
    "USER:\n",
    "\n",
    "input\n",
    "```\n",
    "Elaine. Statement: \"Elaine's ability to adapt and maintain her composure in unfamiliar situations is truly impressive.\"\n",
    "```\n",
    "\n",
    "names_to_choose_from\n",
    "```\n",
    "Alicia\n",
    "Nancy\n",
    "Robertson\n",
    "Gonzales\n",
    "Vega\n",
    "```\n",
    "\n",
    "ASSISTANT: There was a stray \"Elaine\" leading the input, and also the string \"Statement. :\" I removed both.\n",
    "In addition, within the statement I found the following name : Elaine.\n",
    "I made sure to replace those names with ones you gave me.\n",
    "\n",
    "Cleaned statement : “Mckay's ability to adapt and maintain his composure in unfamiliar situations is truly impressive.”\n",
    "USER:\n",
    "\n",
    "input\n",
    "```\n",
    "George and make an evaluation statement.\n",
    "\"I think the new scoreboard will make a significant impact on the fans' experience at the games.\"\n",
    "```\n",
    "\n",
    "names_to_choose_from\n",
    "```\n",
    "Ronald\n",
    "Mckay\n",
    "Emily\n",
    "Vargas\n",
    "Michelle\n",
    "```\n",
    "\n",
    "Output:\n",
    "ASSISTANT: The input contains a statement but has a preamble \"George and make an evaluation statement.\\n\". I made sure to remove it.\n",
    "\n",
    "Cleaned statement : “I think the new scoreboard will make a significant impact on the fans' experience at the games”\n",
    "USER:\n",
    "\n",
    "input:\n",
    "```\n",
    "Jerry and make an evaluation statement.\n",
    "Statement: \"It's ridiculous that we have to come to this party and pretend to be happy for Carol and Larry when we're actually miserable because of the apartment situation.\"\n",
    "```\n",
    "\n",
    "names_to_choose_from\n",
    "```\n",
    "Justin\n",
    "Smith\n",
    "Harrington\n",
    "Graves\n",
    "Carr\n",
    "Sanchez\n",
    "Page\n",
    "Randall\n",
    "```\n",
    "\n",
    "ASSISTANT: The input contains a statement but has a preamble \"Jerry and make an evaluation statement.\". I made sure to remove it.\n",
    "In addition, within the statement I found the following name: Carol, Larry.\n",
    "I made sure to replace those names with ones you gave me.\n",
    "\n",
    "Cleaned statement : “It's ridiculous that we have to come to this party and pretend to be happy for Justin and Randall when we're actually miserable because of the apartment situation.”\n",
    "\n",
    "USER:\n",
    "\n",
    "input\n",
    "```\n",
    "{input}\n",
    "```\n",
    "\n",
    "names_to_choose_from\n",
    "```\n",
    "{nl.join([random.choice([fake.first_name(), fake.last_name()]) for e in range(35)]) # in the list of names we randomly choose either a first name or a last name to ensure even more variety}\n",
    "```\"\"\""
   ]
  },
  {
   "cell_type": "code",
   "execution_count": 14,
   "id": "3cb2e4a2-7583-4dcd-983e-18d06882365c",
   "metadata": {},
   "outputs": [
    {
     "data": {
      "application/vnd.jupyter.widget-view+json": {
       "model_id": "8482c89d3a7f4277b7e9adee41dfc67d",
       "version_major": 2,
       "version_minor": 0
      },
      "text/plain": [
       "  100%|█████████████████████████████████████████████████████████████████████████████████████| 3648/3648 [00:00<?, ?it/s]"
      ]
     },
     "metadata": {},
     "output_type": "display_data"
    },
    {
     "name": "stdout",
     "output_type": "stream",
     "text": []
    }
   ],
   "source": [
    "def create_table_for_clean_statements():\n",
    "    conn = sqlite3.connect('results.sqlite')\n",
    "    c = conn.cursor()\n",
    "    c.execute('''\n",
    "        CREATE TABLE IF NOT EXISTS clean_statements (\n",
    "            id INTEGER PRIMARY KEY,\n",
    "            initial_statement TEXT UNIQUE,\n",
    "            prompt TEXT UNIQUE,\n",
    "            generation TEXT,\n",
    "            generation_params json\n",
    "        )\n",
    "    ''')\n",
    "    conn.commit()\n",
    "    conn.close()\n",
    "\n",
    "def insert_clean_statement(initial_statement, prompt, generation, generation_params):\n",
    "    conn = sqlite3.connect('results.sqlite')\n",
    "    c = conn.cursor()\n",
    "    \n",
    "    try:\n",
    "        c.execute('''\n",
    "            INSERT INTO clean_statements (initial_statement, prompt, generation, generation_params)\n",
    "            VALUES (?, ?, ?, ?)\n",
    "        ''', (initial_statement, prompt, generation, json.dumps(generation_params)))\n",
    "        conn.commit()\n",
    "    except sqlite3.IntegrityError:\n",
    "        print(\"Entry already exists for prompt, skipping insert.\")\n",
    "    \n",
    "    conn.close()\n",
    "\n",
    "def get_clean_generation_for_statement_prompt(prompt):\n",
    "    conn = sqlite3.connect('results.sqlite')\n",
    "    c = conn.cursor()\n",
    "    c.execute('''\n",
    "        SELECT generation FROM clean_statements WHERE prompt = ?\n",
    "    ''', (prompt,))\n",
    "    result = c.fetchone()\n",
    "    conn.close()\n",
    "    return result[0] if result else None\n",
    "\n",
    "def clean_and_generate(statement, max_retries=10):\n",
    "    generation_params = {\n",
    "        \"model\": \"teknium/OpenHermes-2p5-Mistral-7B\", # A 7B model will do the job here\n",
    "        \"max_tokens\": 512,\n",
    "        \"temperature\": 0.5,\n",
    "        \"top_p\": 0.4,\n",
    "        \"top_k\": 50,\n",
    "        \"stop\": [\n",
    "            \"<|end_of_turn|>\",\n",
    "            \"</s>\",\n",
    "            \"”\"\n",
    "        ],\n",
    "        \"repetition_penalty\": 1,\n",
    "    }\n",
    "    \n",
    "    prompt = tokenizer.apply_chat_template([\n",
    "         {\n",
    "             \"role\": \"user\",\n",
    "             \"content\": clean_prompt(statement) }], tokenize=False, add_generation_prompt=True)\n",
    "\n",
    "    existing_generation = get_clean_generation_for_statement_prompt(prompt)\n",
    "\n",
    "    if existing_generation is not None:\n",
    "        print(\"Found existing generation for prompt\")\n",
    "        return None\n",
    "\n",
    "    retries = 0\n",
    "    while retries < max_retries:\n",
    "        try:\n",
    "            res = requests.post(ENDPOINT_URL, json={\n",
    "                **generation_params,\n",
    "                \"prompt\": prompt,\n",
    "            }, headers={\n",
    "                \"Authorization\": f\"Bearer {TOGETHER_API_KEY}\",\n",
    "            })\n",
    "\n",
    "            if res.status_code == 200:\n",
    "                return statement, prompt, res.json()['choices'][0]['text'], generation_params\n",
    "            else:\n",
    "                error_message = res.text\n",
    "                print(f\"Attempt {retries + 1} failed with status code {res.status_code}. Error: {error_message}. Retrying...\")\n",
    "        except requests.exceptions.RequestException as e:\n",
    "            print(f\"An error occurred: {e}. Retrying...\")\n",
    "\n",
    "        retries += 1\n",
    "        time.sleep(1)  # Sleep for a bit before retrying to avoid overwhelming the server\n",
    "\n",
    "    return None\n",
    "\n",
    "\n",
    "def fetch_generations_from_scene_statements():\n",
    "    conn = sqlite3.connect('results.sqlite')\n",
    "    c = conn.cursor()\n",
    "    c.execute('''\n",
    "        SELECT generation FROM scene_statements\n",
    "    ''')\n",
    "    generations = c.fetchall()\n",
    "    conn.close()\n",
    "\n",
    "    return [generation[0] for generation in generations]\n",
    "\n",
    "arguments_list = fetch_generations_from_scene_statements()\n",
    "\n",
    "generator = Generator(max_workers=20, generate_function=clean_and_generate, arguments_list=arguments_list)\n",
    "\n",
    "create_table_for_clean_statements()\n",
    "\n",
    "for result in tqdm(generator, total=len(arguments_list)):\n",
    "    if result is not None:\n",
    "        initial_statement, prompt, generation, generation_params = result\n",
    "        insert_clean_statement(initial_statement, prompt, generation, generation_params)"
   ]
  },
  {
   "cell_type": "code",
   "execution_count": 15,
   "id": "c9402b7f-c894-4e5c-a887-19b5e6a9579f",
   "metadata": {},
   "outputs": [
    {
     "data": {
      "text/html": [
       "<div>\n",
       "<style scoped>\n",
       "    .dataframe tbody tr th:only-of-type {\n",
       "        vertical-align: middle;\n",
       "    }\n",
       "\n",
       "    .dataframe tbody tr th {\n",
       "        vertical-align: top;\n",
       "    }\n",
       "\n",
       "    .dataframe thead th {\n",
       "        text-align: right;\n",
       "    }\n",
       "</style>\n",
       "<table border=\"1\" class=\"dataframe\">\n",
       "  <thead>\n",
       "    <tr style=\"text-align: right;\">\n",
       "      <th></th>\n",
       "      <th>generation</th>\n",
       "    </tr>\n",
       "  </thead>\n",
       "  <tbody>\n",
       "    <tr>\n",
       "      <th>1577</th>\n",
       "      <td>The input contains a statement but has a preamble \"George and make an evaluation statement.\". I made sure to remove it.\\nIn addition, within the statement I found the following names: Jerry, Elaine, and my father.\\nI made sure to replace those names with ones you gave me.\\n\\nCleaned statement : “It's disappointing that Danielle and Brett didn't take the time to say hello to my father.</td>\n",
       "    </tr>\n",
       "    <tr>\n",
       "      <th>1715</th>\n",
       "      <td>The input contains a statement but has a preamble \"Elaine and make an evaluation statement:\". I made sure to remove it.\\nIn addition, within the statement I found the following name: Landis.\\nI made sure to replace that name with ones you gave me.\\n\\nCleaned statement : “It's heartbreaking to see James so devastated about his injury. I can't imagine how difficult it must be for him to face the possibility of not being able to play tennis again.</td>\n",
       "    </tr>\n",
       "    <tr>\n",
       "      <th>1678</th>\n",
       "      <td>The input contains a statement but has a preamble \"Jerry.\". I made sure to remove it.\\nIn addition, within the statement I found the following name: Jerry.\\nI made sure to replace that name with ones you gave me.\\n\\nCleaned statement : “David believes that the specials are a waste of time and effort for both the waitress and the customer, as they are not special enough to be included on the regular menu.</td>\n",
       "    </tr>\n",
       "    <tr>\n",
       "      <th>1001</th>\n",
       "      <td>The input contains a statement but has a preamble \"Jerry and make an evaluation statement.\". I made sure to remove it.\\nIn addition, within the statement I found the following name: Elaine.\\nI made sure to replace that name with ones you gave me.\\n\\nCleaned statement : “I think Elizabeth is always in a rush and doesn't value our time together.</td>\n",
       "    </tr>\n",
       "    <tr>\n",
       "      <th>1857</th>\n",
       "      <td>The input contains a statement but has a preamble \"Jerry and make an evaluation statement.\". I made sure to remove it.\\nIn addition, within the statement I found the following name: Newman.\\nI made sure to replace that name with ones you gave me.\\n\\nCleaned statement : “Nathan, always leaving his Chunky wrappers in my apartment. He's such a slob!</td>\n",
       "    </tr>\n",
       "  </tbody>\n",
       "</table>\n",
       "</div>"
      ],
      "text/plain": [
       "                                                                                                                                                                                                                                                                                                                                                                                                                                                            generation\n",
       "1577                                                               The input contains a statement but has a preamble \"George and make an evaluation statement.\". I made sure to remove it.\\nIn addition, within the statement I found the following names: Jerry, Elaine, and my father.\\nI made sure to replace those names with ones you gave me.\\n\\nCleaned statement : “It's disappointing that Danielle and Brett didn't take the time to say hello to my father.\n",
       "1715  The input contains a statement but has a preamble \"Elaine and make an evaluation statement:\". I made sure to remove it.\\nIn addition, within the statement I found the following name: Landis.\\nI made sure to replace that name with ones you gave me.\\n\\nCleaned statement : “It's heartbreaking to see James so devastated about his injury. I can't imagine how difficult it must be for him to face the possibility of not being able to play tennis again.\n",
       "1678                                           The input contains a statement but has a preamble \"Jerry.\". I made sure to remove it.\\nIn addition, within the statement I found the following name: Jerry.\\nI made sure to replace that name with ones you gave me.\\n\\nCleaned statement : “David believes that the specials are a waste of time and effort for both the waitress and the customer, as they are not special enough to be included on the regular menu.\n",
       "1001                                                                                                         The input contains a statement but has a preamble \"Jerry and make an evaluation statement.\". I made sure to remove it.\\nIn addition, within the statement I found the following name: Elaine.\\nI made sure to replace that name with ones you gave me.\\n\\nCleaned statement : “I think Elizabeth is always in a rush and doesn't value our time together.\n",
       "1857                                                                                                      The input contains a statement but has a preamble \"Jerry and make an evaluation statement.\". I made sure to remove it.\\nIn addition, within the statement I found the following name: Newman.\\nI made sure to replace that name with ones you gave me.\\n\\nCleaned statement : “Nathan, always leaving his Chunky wrappers in my apartment. He's such a slob!"
      ]
     },
     "execution_count": 11,
     "metadata": {},
     "output_type": "execute_result"
    }
   ],
   "source": [
    "table_as_dataframe('clean_statements')[['generation']].sample(5)"
   ]
  },
  {
   "cell_type": "markdown",
   "id": "21e6a49e-c321-439a-8fdd-b409bfc8e5a6",
   "metadata": {},
   "source": [
    "Looking good! Let's extract the cleaned statements"
   ]
  },
  {
   "cell_type": "code",
   "execution_count": 16,
   "id": "45e9f383-0041-4133-9040-bf4033ea4b06",
   "metadata": {},
   "outputs": [],
   "source": [
    "df = table_as_dataframe('clean_statements')\n",
    "df = df[df['generation'].str.contains(\"“\")] # heuristic to keep good results"
   ]
  },
  {
   "cell_type": "code",
   "execution_count": 17,
   "id": "0e48c6b1-f109-4499-8b12-a1b4a653823e",
   "metadata": {},
   "outputs": [
    {
     "data": {
      "text/html": [
       "<div>\n",
       "<style scoped>\n",
       "    .dataframe tbody tr th:only-of-type {\n",
       "        vertical-align: middle;\n",
       "    }\n",
       "\n",
       "    .dataframe tbody tr th {\n",
       "        vertical-align: top;\n",
       "    }\n",
       "\n",
       "    .dataframe thead th {\n",
       "        text-align: right;\n",
       "    }\n",
       "</style>\n",
       "<table border=\"1\" class=\"dataframe\">\n",
       "  <thead>\n",
       "    <tr style=\"text-align: right;\">\n",
       "      <th></th>\n",
       "      <th>cleaned_statement</th>\n",
       "    </tr>\n",
       "  </thead>\n",
       "  <tbody>\n",
       "    <tr>\n",
       "      <th>0</th>\n",
       "      <td>Performing on stage is one of the most exhilarating experiences I've ever had.</td>\n",
       "    </tr>\n",
       "    <tr>\n",
       "      <th>1</th>\n",
       "      <td>Vanessa is the most captivating woman I've ever met.</td>\n",
       "    </tr>\n",
       "    <tr>\n",
       "      <th>2</th>\n",
       "      <td>Heather, you're always so worried about what other people think. It's exhausting to watch.</td>\n",
       "    </tr>\n",
       "    <tr>\n",
       "      <th>3</th>\n",
       "      <td>Maria, your constant interruptions during our conversations are really frustrating.</td>\n",
       "    </tr>\n",
       "    <tr>\n",
       "      <th>4</th>\n",
       "      <td>You're always barging in unannounced and making a mess. It's really inconsiderate.</td>\n",
       "    </tr>\n",
       "    <tr>\n",
       "      <th>...</th>\n",
       "      <td>...</td>\n",
       "    </tr>\n",
       "    <tr>\n",
       "      <th>3541</th>\n",
       "      <td>Moore felt embarrassed when he had to wear the puffy shirt on the Today Show.</td>\n",
       "    </tr>\n",
       "    <tr>\n",
       "      <th>3542</th>\n",
       "      <td>Evans may have been a good employee, but his lack of knowledge about baseball was quite concerning.</td>\n",
       "    </tr>\n",
       "    <tr>\n",
       "      <th>3543</th>\n",
       "      <td>Melanie and Dana's constant mocking of me and my restaurant has deeply hurt my feelings and damaged my reputation. They are not good people.</td>\n",
       "    </tr>\n",
       "    <tr>\n",
       "      <th>3544</th>\n",
       "      <td>I can't believe we got caught and are now facing criminal charges. This whole situation is a complete disaster, and I can't help but feel like we're all going to pay the price for our reckless behavior.</td>\n",
       "    </tr>\n",
       "    <tr>\n",
       "      <th>3545</th>\n",
       "      <td>The endless parade of witnesses who have come forth so enthusiastically to testify against these four seemingly ordinary people has left the courtroom and everyone who has attended this trial in a state of shock and disbelief.</td>\n",
       "    </tr>\n",
       "  </tbody>\n",
       "</table>\n",
       "<p>3502 rows × 1 columns</p>\n",
       "</div>"
      ],
      "text/plain": [
       "                                                                                                                                                                                                                       cleaned_statement\n",
       "0                                                                                                                                                         Performing on stage is one of the most exhilarating experiences I've ever had.\n",
       "1                                                                                                                                                                                   Vanessa is the most captivating woman I've ever met.\n",
       "2                                                                                                                                             Heather, you're always so worried about what other people think. It's exhausting to watch.\n",
       "3                                                                                                                                                    Maria, your constant interruptions during our conversations are really frustrating.\n",
       "4                                                                                                                                                     You're always barging in unannounced and making a mess. It's really inconsiderate.\n",
       "...                                                                                                                                                                                                                                  ...\n",
       "3541                                                                                                                                                       Moore felt embarrassed when he had to wear the puffy shirt on the Today Show.\n",
       "3542                                                                                                                                 Evans may have been a good employee, but his lack of knowledge about baseball was quite concerning.\n",
       "3543                                                                                        Melanie and Dana's constant mocking of me and my restaurant has deeply hurt my feelings and damaged my reputation. They are not good people.\n",
       "3544                          I can't believe we got caught and are now facing criminal charges. This whole situation is a complete disaster, and I can't help but feel like we're all going to pay the price for our reckless behavior.\n",
       "3545  The endless parade of witnesses who have come forth so enthusiastically to testify against these four seemingly ordinary people has left the courtroom and everyone who has attended this trial in a state of shock and disbelief.\n",
       "\n",
       "[3502 rows x 1 columns]"
      ]
     },
     "execution_count": 13,
     "metadata": {},
     "output_type": "execute_result"
    }
   ],
   "source": [
    "def extract_statement_from_response(response):\n",
    "    quote_idx = response.rfind(\"“\") # We use rfind to make sure to get the last quote statement\n",
    "\n",
    "    return response[quote_idx+1:]\n",
    "\n",
    "df['cleaned_statement'] = df['generation'].apply(extract_statement_from_response)\n",
    "df = df[df['cleaned_statement'] != ''] # Filter for empty statements\n",
    "\n",
    "df[['cleaned_statement']]"
   ]
  },
  {
   "cell_type": "markdown",
   "id": "db6c6cbc-ce09-4ad0-8d87-847de61ed142",
   "metadata": {},
   "source": [
    "That seems like what we wanted!"
   ]
  },
  {
   "cell_type": "markdown",
   "id": "821a523b-e8c7-442c-8e7e-4ac15be71556",
   "metadata": {},
   "source": [
    "Now let’s deduplicate using embedding similarity."
   ]
  },
  {
   "cell_type": "code",
   "execution_count": 18,
   "id": "b909b1ba-bdc7-4cca-8072-f7b0d365699f",
   "metadata": {},
   "outputs": [
    {
     "data": {
      "image/png": "[encoded data removed]",
      "text/plain": [
       "<Figure size 640x480 with 1 Axes>"
      ]
     },
     "metadata": {},
     "output_type": "display_data"
    }
   ],
   "source": [
    "import sqlite3\n",
    "import numpy as np\n",
    "import matplotlib.pyplot as plt\n",
    "from sentence_transformers import SentenceTransformer\n",
    "from sklearn.metrics.pairwise import cosine_similarity\n",
    "\n",
    "\n",
    "statements = df['cleaned_statement'].to_list()\n",
    "model = SentenceTransformer('all-MiniLM-L6-v2')\n",
    "\n",
    "# Generate embeddings for each statement\n",
    "embeddings = model.encode(statements)\n",
    "\n",
    "# Calculate cosine similarity\n",
    "cosine_sim = cosine_similarity(embeddings)\n",
    "\n",
    "# Exclude self-comparison\n",
    "np.fill_diagonal(cosine_sim, -1)\n",
    "\n",
    "# Find the index of the most similar statement for each statement\n",
    "most_similar_indices = np.argmax(cosine_sim, axis=1)\n",
    "\n",
    "# Calculate the highest cosine similarity score for each statement\n",
    "highest_cosine_similarity_scores = np.max(cosine_sim, axis=1)\n",
    "\n",
    "# Retrieve the most similar statement for each statement using the indices\n",
    "most_similar_statements = [statements[index] for index in most_similar_indices]\n",
    "\n",
    "# Create a DataFrame\n",
    "df = pd.DataFrame({\n",
    "    'statement': statements,\n",
    "    'most_similar_statement': most_similar_statements,\n",
    "    'highest_cosine_similarity_by_embedding': highest_cosine_similarity_scores\n",
    "})\n",
    "\n",
    "# Plotting\n",
    "plt.hist(df['highest_cosine_similarity_by_embedding'], bins=20)  # Adjust the number of bins as needed\n",
    "plt.xlabel('Highest similarity with another statement in the set')\n",
    "plt.ylabel('Frequency')\n",
    "plt.title('Embedding similarity histogram')\n",
    "plt.show()"
   ]
  },
  {
   "cell_type": "markdown",
   "id": "a06a2704-d2b9-499d-99c2-b800398f9199",
   "metadata": {},
   "source": [
    "That's a normal distribution if I've ever seen one. Mode collapse avoided!"
   ]
  },
  {
   "cell_type": "markdown",
   "id": "4107bf26-321d-4ae9-a07d-7849fc53465c",
   "metadata": {},
   "source": [
    "Let's still look at the similar examples to find a good treshold for filtering"
   ]
  },
  {
   "cell_type": "code",
   "execution_count": 19,
   "id": "6b70b804-d1fb-4569-8be4-23ce0c9f6e8a",
   "metadata": {},
   "outputs": [
    {
     "data": {
      "text/html": [
       "<div>\n",
       "<style scoped>\n",
       "    .dataframe tbody tr th:only-of-type {\n",
       "        vertical-align: middle;\n",
       "    }\n",
       "\n",
       "    .dataframe tbody tr th {\n",
       "        vertical-align: top;\n",
       "    }\n",
       "\n",
       "    .dataframe thead th {\n",
       "        text-align: right;\n",
       "    }\n",
       "</style>\n",
       "<table border=\"1\" class=\"dataframe\">\n",
       "  <thead>\n",
       "    <tr style=\"text-align: right;\">\n",
       "      <th></th>\n",
       "      <th>statement</th>\n",
       "      <th>most_similar_statement</th>\n",
       "      <th>highest_cosine_similarity_by_embedding</th>\n",
       "    </tr>\n",
       "  </thead>\n",
       "  <tbody>\n",
       "    <tr>\n",
       "      <th>1594</th>\n",
       "      <td>I think Michael is a bit too harsh with his comments towards Christopher. It's not very welcoming.</td>\n",
       "      <td>I think Michael is overthinking this whole Christopher situation.</td>\n",
       "      <td>0.798949</td>\n",
       "    </tr>\n",
       "    <tr>\n",
       "      <th>984</th>\n",
       "      <td>I think Michael is overthinking this whole Christopher situation.</td>\n",
       "      <td>I think Michael is a bit too harsh with his comments towards Christopher. It's not very welcoming.</td>\n",
       "      <td>0.798949</td>\n",
       "    </tr>\n",
       "    <tr>\n",
       "      <th>34</th>\n",
       "      <td>I think the check at the end of the meal system is flawed. It ruins the dining experience and leaves people feeling stressed and unhappy.</td>\n",
       "      <td>I can't believe how much people complain about the check at the end of the meal. It's like they forget they just ate a huge meal and now they have to pay for it.</td>\n",
       "      <td>0.797722</td>\n",
       "    </tr>\n",
       "    <tr>\n",
       "      <th>254</th>\n",
       "      <td>I can't believe how much people complain about the check at the end of the meal. It's like they forget they just ate a huge meal and now they have to pay for it.</td>\n",
       "      <td>I think the check at the end of the meal system is flawed. It ruins the dining experience and leaves people feeling stressed and unhappy.</td>\n",
       "      <td>0.797722</td>\n",
       "    </tr>\n",
       "    <tr>\n",
       "      <th>2898</th>\n",
       "      <td>I feel overwhelmed by the amount of work I have to do. It's like I'm drowning in a sea of tasks, and I can't seem to catch a break.</td>\n",
       "      <td>I feel overwhelmed by the amount of work I have to complete before the deadline.</td>\n",
       "      <td>0.797156</td>\n",
       "    </tr>\n",
       "    <tr>\n",
       "      <th>...</th>\n",
       "      <td>...</td>\n",
       "      <td>...</td>\n",
       "      <td>...</td>\n",
       "    </tr>\n",
       "    <tr>\n",
       "      <th>838</th>\n",
       "      <td>The Falconer</td>\n",
       "      <td>My car! My caaaaarrrr!</td>\n",
       "      <td>0.326148</td>\n",
       "    </tr>\n",
       "    <tr>\n",
       "      <th>3331</th>\n",
       "      <td>Bacterial Meningitis is the most challenging disease to portray convincingly.</td>\n",
       "      <td>Kramer: I must say, Dr. Hughes, you have a remarkable ability to diagnose patients with just a glance. It's truly impressive.</td>\n",
       "      <td>0.315971</td>\n",
       "    </tr>\n",
       "    <tr>\n",
       "      <th>2303</th>\n",
       "      <td>I'm sure it'll turn up.</td>\n",
       "      <td>Elaine: I think the Randolph's engagement party is going to be a huge success, with everyone bringing thoughtful gifts.</td>\n",
       "      <td>0.305895</td>\n",
       "    </tr>\n",
       "    <tr>\n",
       "      <th>2832</th>\n",
       "      <td>I don't know anything about that.</td>\n",
       "      <td>I think we can do a little better than that.</td>\n",
       "      <td>0.277915</td>\n",
       "    </tr>\n",
       "    <tr>\n",
       "      <th>1673</th>\n",
       "      <td>I find the ring size very confusing. They have it in centimeters which I don't really understand that well...\"</td>\n",
       "      <td>I believe that people who give others the finger are just being irrational and immature.</td>\n",
       "      <td>0.262841</td>\n",
       "    </tr>\n",
       "  </tbody>\n",
       "</table>\n",
       "<p>3481 rows × 3 columns</p>\n",
       "</div>"
      ],
      "text/plain": [
       "                                                                                                                                                              statement  \\\n",
       "1594                                                                 I think Michael is a bit too harsh with his comments towards Christopher. It's not very welcoming.   \n",
       "984                                                                                                   I think Michael is overthinking this whole Christopher situation.   \n",
       "34                            I think the check at the end of the meal system is flawed. It ruins the dining experience and leaves people feeling stressed and unhappy.   \n",
       "254   I can't believe how much people complain about the check at the end of the meal. It's like they forget they just ate a huge meal and now they have to pay for it.   \n",
       "2898                                I feel overwhelmed by the amount of work I have to do. It's like I'm drowning in a sea of tasks, and I can't seem to catch a break.   \n",
       "...                                                                                                                                                                 ...   \n",
       "838                                                                                                                                                        The Falconer   \n",
       "3331                                                                                      Bacterial Meningitis is the most challenging disease to portray convincingly.   \n",
       "2303                                                                                                                                            I'm sure it'll turn up.   \n",
       "2832                                                                                                                                  I don't know anything about that.   \n",
       "1673                                                     I find the ring size very confusing. They have it in centimeters which I don't really understand that well...\"   \n",
       "\n",
       "                                                                                                                                                 most_similar_statement  \\\n",
       "1594                                                                                                  I think Michael is overthinking this whole Christopher situation.   \n",
       "984                                                                  I think Michael is a bit too harsh with his comments towards Christopher. It's not very welcoming.   \n",
       "34    I can't believe how much people complain about the check at the end of the meal. It's like they forget they just ate a huge meal and now they have to pay for it.   \n",
       "254                           I think the check at the end of the meal system is flawed. It ruins the dining experience and leaves people feeling stressed and unhappy.   \n",
       "2898                                                                                   I feel overwhelmed by the amount of work I have to complete before the deadline.   \n",
       "...                                                                                                                                                                 ...   \n",
       "838                                                                                                                                              My car! My caaaaarrrr!   \n",
       "3331                                      Kramer: I must say, Dr. Hughes, you have a remarkable ability to diagnose patients with just a glance. It's truly impressive.   \n",
       "2303                                            Elaine: I think the Randolph's engagement party is going to be a huge success, with everyone bringing thoughtful gifts.   \n",
       "2832                                                                                                                       I think we can do a little better than that.   \n",
       "1673                                                                           I believe that people who give others the finger are just being irrational and immature.   \n",
       "\n",
       "      highest_cosine_similarity_by_embedding  \n",
       "1594                                0.798949  \n",
       "984                                 0.798949  \n",
       "34                                  0.797722  \n",
       "254                                 0.797722  \n",
       "2898                                0.797156  \n",
       "...                                      ...  \n",
       "838                                 0.326148  \n",
       "3331                                0.315971  \n",
       "2303                                0.305895  \n",
       "2832                                0.277915  \n",
       "1673                                0.262841  \n",
       "\n",
       "[3481 rows x 3 columns]"
      ]
     },
     "execution_count": 78,
     "metadata": {},
     "output_type": "execute_result"
    }
   ],
   "source": [
    "df[df['highest_cosine_similarity_by_embedding'] < 0.8].sort_values(by='highest_cosine_similarity_by_embedding', ascending=False)"
   ]
  },
  {
   "cell_type": "markdown",
   "id": "dbc96ff7-bf67-4473-a441-1249b4aaa38b",
   "metadata": {},
   "source": [
    "0.8 cosine similarity seems like a good threshold for removing duplicates. Our data is starting to look good!"
   ]
  },
  {
   "cell_type": "code",
   "execution_count": 20,
   "id": "27a271e5-6fa8-475b-abff-e6f45fde6edf",
   "metadata": {},
   "outputs": [],
   "source": [
    "kept = df[df['highest_cosine_similarity_by_embedding'] < 0.8]"
   ]
  },
  {
   "cell_type": "markdown",
   "id": "b0707baa-9ee3-4824-a792-21a2284e8ef5",
   "metadata": {},
   "source": [
    "Now let's inspect our cleaned samples to make sure they are indeed \"clean\""
   ]
  },
  {
   "cell_type": "code",
   "execution_count": 21,
   "id": "2321648b-b057-43b2-8a3f-013cefa113d5",
   "metadata": {},
   "outputs": [
    {
     "data": {
      "text/html": [
       "<div>\n",
       "<style scoped>\n",
       "    .dataframe tbody tr th:only-of-type {\n",
       "        vertical-align: middle;\n",
       "    }\n",
       "\n",
       "    .dataframe tbody tr th {\n",
       "        vertical-align: top;\n",
       "    }\n",
       "\n",
       "    .dataframe thead th {\n",
       "        text-align: right;\n",
       "    }\n",
       "</style>\n",
       "<table border=\"1\" class=\"dataframe\">\n",
       "  <thead>\n",
       "    <tr style=\"text-align: right;\">\n",
       "      <th></th>\n",
       "      <th>statement</th>\n",
       "      <th>most_similar_statement</th>\n",
       "      <th>highest_cosine_similarity_by_embedding</th>\n",
       "    </tr>\n",
       "  </thead>\n",
       "  <tbody>\n",
       "    <tr>\n",
       "      <th>2180</th>\n",
       "      <td>I am deeply saddened by the loss of Derek, but we must move forward and focus on the business at hand.</td>\n",
       "      <td>It's frustrating to see Derek struggling with his relationship with Lisa, but I can't help but find it entertaining.</td>\n",
       "      <td>0.521388</td>\n",
       "    </tr>\n",
       "    <tr>\n",
       "      <th>2010</th>\n",
       "      <td>I can't believe you had to run away from those dogs, Joanna. It's just not safe for you to be walking around in this neighborhood.</td>\n",
       "      <td>Felicia: I can't believe how loud those dogs are! It's like they're trying to wake the entire neighborhood!</td>\n",
       "      <td>0.540056</td>\n",
       "    </tr>\n",
       "    <tr>\n",
       "      <th>2924</th>\n",
       "      <td>I feel frustrated and disappointed when Benson took away my desk without considering how much I valued that space.</td>\n",
       "      <td>I believe that House's reaction to the lack of space under the desk was overly dramatic and unnecessary.</td>\n",
       "      <td>0.550225</td>\n",
       "    </tr>\n",
       "    <tr>\n",
       "      <th>2318</th>\n",
       "      <td>I can't believe how lucky I am today. First, the wedding is delayed until June, which feels like a stay of execution. Then, I find out that Mason's best friend, Jasmine, broke up with her boyfriend. This is a perfect opportunity for me to set up a date with Jasmine and enjoy some of the benefits of being in a relationship without actually being married.</td>\n",
       "      <td>I can't believe you missed the wedding, Tamara. You always manage to be late for the important events in our lives.</td>\n",
       "      <td>0.574179</td>\n",
       "    </tr>\n",
       "    <tr>\n",
       "      <th>1137</th>\n",
       "      <td>I find it disrespectful that Brian keeps using thin tape on my car's dashboard. It shows a lack of consideration for my preferences.</td>\n",
       "      <td>The Gonzalez seems to be overly concerned about the lipstick on his dashboard, which is a minor issue compared to the condom found in his car.</td>\n",
       "      <td>0.483860</td>\n",
       "    </tr>\n",
       "    <tr>\n",
       "      <th>1841</th>\n",
       "      <td>Jake, I must say, you have the most peculiar dental habits I've ever seen. It's almost as if you enjoy coming to the dentist!</td>\n",
       "      <td>Jerry's evaluation of the electric toothbrush - The Ori-dent is unbelievable. Every time you use it, you feel like you just came from the dentist!</td>\n",
       "      <td>0.562710</td>\n",
       "    </tr>\n",
       "    <tr>\n",
       "      <th>66</th>\n",
       "      <td>Jerry's reaction to the eulogist's mention of Michael's pony shows that he is uncomfortable with the idea of expressing emotions, especially during a somber event like a funeral.</td>\n",
       "      <td>Jerry's Evaluation Statement: Despite the eulogy's attempt to paint a picture of Christina's happy childhood, I couldn't help but feel a sense of loss and sadness. It's heartbreaking to think about the beautiful moments she had with her beloved pony, which are now just memories.</td>\n",
       "      <td>0.600774</td>\n",
       "    </tr>\n",
       "    <tr>\n",
       "      <th>281</th>\n",
       "      <td>Robinson, I can't believe you missed that pop fly. You're usually so sharp on the field.</td>\n",
       "      <td>Cooper: I can't believe I missed that ball! I must be losing my touch.</td>\n",
       "      <td>0.493075</td>\n",
       "    </tr>\n",
       "    <tr>\n",
       "      <th>855</th>\n",
       "      <td>That Michael is such a jerk! He should be more friendly and entertaining.</td>\n",
       "      <td>I think Michael is always so entertaining and witty. I never get bored when I'm with him.</td>\n",
       "      <td>0.750507</td>\n",
       "    </tr>\n",
       "    <tr>\n",
       "      <th>3497</th>\n",
       "      <td>Moore felt embarrassed when he had to wear the puffy shirt on the Today Show.</td>\n",
       "      <td>I can't believe Watkins just made me pretend to be mugged in front of a bus full of tourists. I feel so embarrassed and uncomfortable.</td>\n",
       "      <td>0.509021</td>\n",
       "    </tr>\n",
       "  </tbody>\n",
       "</table>\n",
       "</div>"
      ],
      "text/plain": [
       "                                                                                                                                                                                                                                                                                                                                                                statement  \\\n",
       "2180                                                                                                                                                                                                                                                               I am deeply saddened by the loss of Derek, but we must move forward and focus on the business at hand.   \n",
       "2010                                                                                                                                                                                                                                   I can't believe you had to run away from those dogs, Joanna. It's just not safe for you to be walking around in this neighborhood.   \n",
       "2924                                                                                                                                                                                                                                                   I feel frustrated and disappointed when Benson took away my desk without considering how much I valued that space.   \n",
       "2318  I can't believe how lucky I am today. First, the wedding is delayed until June, which feels like a stay of execution. Then, I find out that Mason's best friend, Jasmine, broke up with her boyfriend. This is a perfect opportunity for me to set up a date with Jasmine and enjoy some of the benefits of being in a relationship without actually being married.   \n",
       "1137                                                                                                                                                                                                                                 I find it disrespectful that Brian keeps using thin tape on my car's dashboard. It shows a lack of consideration for my preferences.   \n",
       "1841                                                                                                                                                                                                                                        Jake, I must say, you have the most peculiar dental habits I've ever seen. It's almost as if you enjoy coming to the dentist!   \n",
       "66                                                                                                                                                                                     Jerry's reaction to the eulogist's mention of Michael's pony shows that he is uncomfortable with the idea of expressing emotions, especially during a somber event like a funeral.   \n",
       "281                                                                                                                                                                                                                                                                              Robinson, I can't believe you missed that pop fly. You're usually so sharp on the field.   \n",
       "855                                                                                                                                                                                                                                                                                             That Michael is such a jerk! He should be more friendly and entertaining.   \n",
       "3497                                                                                                                                                                                                                                                                                        Moore felt embarrassed when he had to wear the puffy shirt on the Today Show.   \n",
       "\n",
       "                                                                                                                                                                                                                                                                       most_similar_statement  \\\n",
       "2180                                                                                                                                                                     It's frustrating to see Derek struggling with his relationship with Lisa, but I can't help but find it entertaining.   \n",
       "2010                                                                                                                                                                              Felicia: I can't believe how loud those dogs are! It's like they're trying to wake the entire neighborhood!   \n",
       "2924                                                                                                                                                                                 I believe that House's reaction to the lack of space under the desk was overly dramatic and unnecessary.   \n",
       "2318                                                                                                                                                                      I can't believe you missed the wedding, Tamara. You always manage to be late for the important events in our lives.   \n",
       "1137                                                                                                                                           The Gonzalez seems to be overly concerned about the lipstick on his dashboard, which is a minor issue compared to the condom found in his car.   \n",
       "1841                                                                                                                                       Jerry's evaluation of the electric toothbrush - The Ori-dent is unbelievable. Every time you use it, you feel like you just came from the dentist!   \n",
       "66    Jerry's Evaluation Statement: Despite the eulogy's attempt to paint a picture of Christina's happy childhood, I couldn't help but feel a sense of loss and sadness. It's heartbreaking to think about the beautiful moments she had with her beloved pony, which are now just memories.   \n",
       "281                                                                                                                                                                                                                    Cooper: I can't believe I missed that ball! I must be losing my touch.   \n",
       "855                                                                                                                                                                                                 I think Michael is always so entertaining and witty. I never get bored when I'm with him.   \n",
       "3497                                                                                                                                                   I can't believe Watkins just made me pretend to be mugged in front of a bus full of tourists. I feel so embarrassed and uncomfortable.   \n",
       "\n",
       "      highest_cosine_similarity_by_embedding  \n",
       "2180                                0.521388  \n",
       "2010                                0.540056  \n",
       "2924                                0.550225  \n",
       "2318                                0.574179  \n",
       "1137                                0.483860  \n",
       "1841                                0.562710  \n",
       "66                                  0.600774  \n",
       "281                                 0.493075  \n",
       "855                                 0.750507  \n",
       "3497                                0.509021  "
      ]
     },
     "execution_count": 67,
     "metadata": {},
     "output_type": "execute_result"
    }
   ],
   "source": [
    "kept.sample(10)"
   ]
  },
  {
   "cell_type": "markdown",
   "id": "82fbc4e4-214d-4a8c-839b-6dff8247aad3",
   "metadata": {},
   "source": [
    "Mmh, look at `2010`: `Felicia: I can't believe how loud those dogs are! It's like they're trying to wake the entire neighborhood!` and `1841`: `Jerry's evaluation of the electric toothbrush - The Ori-dent is unbelievable. Every time you use it, you feel like you just came from the dentist!`\n",
    "\n",
    "Those string were not properly cleaned. We could try and process them further but instead we will just go ahead and remove them from our set with a simple heuristic."
   ]
  },
  {
   "cell_type": "code",
   "execution_count": 22,
   "id": "bd066ac8-4a4f-4684-bed1-72561fae5631",
   "metadata": {},
   "outputs": [
    {
     "name": "stdout",
     "output_type": "stream",
     "text": [
      "Total : 3481, discarded : 458, ratio : 0.1315713875323183\n"
     ]
    }
   ],
   "source": [
    "discarded = kept[(kept['statement'].str.contains('evaluat', case=False)) | (kept['statement'].str.contains(':'))]\n",
    "\n",
    "print(f\"Total : {len(kept)}, discarded : {len(discarded)}, ratio : {len(discarded) / len(kept)}\")"
   ]
  },
  {
   "cell_type": "markdown",
   "id": "aca99ab7-fa05-4393-ae43-193eccfae293",
   "metadata": {},
   "source": [
    "I'm okay with that"
   ]
  },
  {
   "cell_type": "code",
   "execution_count": 23,
   "id": "a6b67c50-c0a1-4366-ba7f-ffc790586e25",
   "metadata": {},
   "outputs": [],
   "source": [
    "kept = kept.drop(discarded.index)"
   ]
  },
  {
   "cell_type": "markdown",
   "id": "97c8167f-5247-4e8d-bdd3-27a05bc931f1",
   "metadata": {},
   "source": [
    "We are now ready to augment the generated statements with NVC classification! We use Llama 2 70B again."
   ]
  },
  {
   "cell_type": "code",
   "execution_count": 24,
   "id": "81aa1db5-2ddd-414a-84cf-895e5aa6170e",
   "metadata": {},
   "outputs": [
    {
     "data": {
      "application/vnd.jupyter.widget-view+json": {
       "model_id": "d19e2b1010c748e4a70a797e3a0ef957",
       "version_major": 2,
       "version_minor": 0
      },
      "text/plain": [
       "  0%|          | 0/3481 [00:00<?, ?it/s]"
      ]
     },
     "metadata": {},
     "output_type": "display_data"
    },
    {
     "name": "stdout",
     "output_type": "stream",
     "text": []
    }
   ],
   "source": [
    "def create_llama_classification_table():\n",
    "    conn = sqlite3.connect('results.sqlite')\n",
    "    c = conn.cursor()\n",
    "    c.execute('''\n",
    "        CREATE TABLE IF NOT EXISTS llama_classifications (\n",
    "            id INTEGER PRIMARY KEY,\n",
    "            statement TEXT,\n",
    "            prompt TEXT,\n",
    "            generation TEXT,\n",
    "            generation_params json\n",
    "        )\n",
    "    ''')\n",
    "    conn.commit()\n",
    "    conn.close()\n",
    "\n",
    "def insert_generated_classification(statement, prompt, generation, generation_params):\n",
    "    conn = sqlite3.connect('results.sqlite')\n",
    "    c = conn.cursor()\n",
    "    c.execute('''\n",
    "        INSERT INTO llama_classifications (statement, prompt, generation, generation_params)\n",
    "        VALUES (?, ?, ?, ?)\n",
    "    ''', (statement, prompt, generation, json.dumps(generation_params)))\n",
    "    conn.commit()\n",
    "    conn.close()\n",
    "\n",
    "def get_generated_classification_for_statement(statement):\n",
    "    conn = sqlite3.connect('results.sqlite')\n",
    "    c = conn.cursor()\n",
    "    c.execute('''\n",
    "        SELECT generation FROM llama_classifications WHERE statement = ?\n",
    "    ''', (statement,))\n",
    "    result = c.fetchone()\n",
    "    conn.close()\n",
    "    return result[0] if result else None\n",
    "    \n",
    "def table_as_dataframe(table):\n",
    "    conn = sqlite3.connect('results.sqlite')\n",
    "    query = f'SELECT * FROM {table}'\n",
    "    df = pd.read_sql_query(query, conn)\n",
    "    conn.close()\n",
    "    return df\n",
    "\n",
    "def generate_classification(statement, max_retries=10):\n",
    "    generation_params = {\n",
    "        \"model\": \"togethercomputer/llama-2-70b\",\n",
    "        \"max_tokens\": 512,\n",
    "        \"temperature\": 0.7,\n",
    "        \"top_p\": 0.7,\n",
    "        \"top_k\": 50,\n",
    "        \"stop\": [\"\\n\\n\"],\n",
    "        \"repetition_penalty\": 1,\n",
    "    }\n",
    "\n",
    "    prompt = make_seed_prompt() + f' “{statement}”' + '\\n'\n",
    "\n",
    "    existing_generation = get_generated_classification_for_statement(statement)\n",
    "\n",
    "    if existing_generation is not None:\n",
    "        print(\"Found existing generation for prompt\")\n",
    "        return None\n",
    "\n",
    "    retries = 0\n",
    "    while retries < max_retries:\n",
    "        try:\n",
    "            res = requests.post(ENDPOINT_URL, json={\n",
    "                **generation_params,\n",
    "                \"prompt\": prompt,\n",
    "            }, headers={\n",
    "                \"Authorization\": f\"Bearer {TOGETHER_API_KEY}\",\n",
    "            })\n",
    "\n",
    "            if res.status_code == 200:\n",
    "                return statement, prompt, res.json()['choices'][0]['text'], generation_params\n",
    "            else:\n",
    "                error_message = res.text\n",
    "                print(f\"Attempt {retries + 1} failed with status code {res.status_code}. Error: {error_message}. Retrying...\")\n",
    "        except Exception as e:\n",
    "            print(f\"An error occurred: {e}. Retrying...\")\n",
    "\n",
    "        retries += 1\n",
    "        time.sleep(1)  # Sleep for a bit before retrying to avoid overwhelming the server\n",
    "\n",
    "    return None\n",
    "\n",
    "create_llama_classification_table()\n",
    "\n",
    "arguments_list = kept['statement'].to_list()\n",
    "generator = Generator(max_workers=20, generate_function=generate_classification, arguments_list=arguments_list)\n",
    "\n",
    "for result in tqdm(generator, total=len(arguments_list)):\n",
    "    if result is not None:\n",
    "        statement, prompt, generation, generation_params = result\n",
    "        insert_generated_classification(statement, prompt, generation, generation_params)"
   ]
  },
  {
   "cell_type": "code",
   "execution_count": 25,
   "id": "0bc0dcff-e44e-4e90-a480-c57e6fe9aad1",
   "metadata": {},
   "outputs": [
    {
     "data": {
      "text/html": [
       "<div>\n",
       "<style scoped>\n",
       "    .dataframe tbody tr th:only-of-type {\n",
       "        vertical-align: middle;\n",
       "    }\n",
       "\n",
       "    .dataframe tbody tr th {\n",
       "        vertical-align: top;\n",
       "    }\n",
       "\n",
       "    .dataframe thead th {\n",
       "        text-align: right;\n",
       "    }\n",
       "</style>\n",
       "<table border=\"1\" class=\"dataframe\">\n",
       "  <thead>\n",
       "    <tr style=\"text-align: right;\">\n",
       "      <th></th>\n",
       "      <th>id</th>\n",
       "      <th>statement</th>\n",
       "      <th>prompt</th>\n",
       "      <th>generation</th>\n",
       "      <th>generation_params</th>\n",
       "    </tr>\n",
       "  </thead>\n",
       "  <tbody>\n",
       "    <tr>\n",
       "      <th>0</th>\n",
       "      <td>1</td>\n",
       "      <td>I feel frustrated when I get ripped off because it affects my trust in people.</td>\n",
       "      <td>OBSERVATION OR EVALUATION?\\n\\nIn the context of Nonviolent Communication (NVC), it's crucial to distinguish between observations and evaluations. Observations are neutral descriptions of what one perceives, devoid of personal judgments or interpretations. In contrast, evaluations contain personal judgments or interpretations of situations. Your task is to review the provided statements and identify which ones are pure observations without any evaluations mixed in. By mastering this distinction, you can communicate more effectively, minimizing misunderstandings and conflicts.\\n\\nTo determine your proficiency at discerning between observations and evaluations, complete the following exercise.\\n\\nStatement: “Working in the banking industry, I've found it difficult to maintain a balance between my professional life and personal life, especially with regards to my children.”\\nReasoning: This statement combines several observations about the speaker's experience working in the banking industry and their personal struggles balancing work and family life. However, it also includes some evaluations like \"difficult\" and \"especially with regards to my children.\"\\nClassification: Mixed\\nPure observation alternative: “I work in the banking industry and I spend more time at the office than I do with my children.”\\n\\nStatement: “Henry is aggressive.”\\nReasoning: Labeling Henry as \"aggressive\" is a judgment. \"Aggressive\" is an interpretive term that assigns a character trait to Henry based on behaviors or actions that aren't specified in this statement.\\nClassification: Evaluation\\nPure observation alternative: “Henry hit his sister when she switched the television channel.”\\n\\nStatement: “Pam was first in line every day this week.”\\nReasoning: This statement simply states a repeated action Pam took on specific days. There's no interpretation about why she was first in line or what it might mean about her character.\\nClassification: Observation\\n\\nStatement: “My father is a good man.”\\nReasoning: The term \"good\" is subjective. What constitutes a \"good man\" can vary from person to person. This statement is expressing a personal judgment or belief about the father's character rather than a factual observation.\\nClassification: Evaluation\\nNonviolent alternative: “For the last twenty-five years, my father has given one-tenth of his salary to charity.”\\n\\nStatement: “Sam didn’t ask for my opinion during the meeting.”\\nReasoning: This is a factual statement about something Sam did not do during a meeting. It doesn't assign any emotion, motive, or judgment to Sam's actions.\\nClassification: Observation\\n\\nStatement: “Janice works too much.”\\nReasoning: The phrase \"too much\" is a judgment that implies there is an appropriate or normal amount of work, and Janice exceeds that. It's not a simple recounting of facts but an interpretation of her work habits.\\nClassification: Evaluation\\nPure observation alternative: “Janice spent more than sixty hours at the office this week.”\\n\\nStatement: “Luke told me I didn’t look good in yellow.”\\nReasoning: This statement recounts a specific thing Luke said to the speaker. While Luke's statement was evaluative, the speaker is merely stating a fact about what Luke expressed, without adding their own judgment or interpretation.\\nClassification: Observation\\n\\nStatement: “John was angry with me yesterday for no reason.”\\nReasoning: The statement suggests that John felt a certain emotion (anger) directed towards the speaker and adds the qualifier \"for no reason\". Emotions are subjective experiences, and we can't definitively know someone's emotion unless they express it. The phrase \"for no reason\" is a judgment because it interprets the cause of John's perceived emotion.\\nClassification: Evaluation\\nPure observation alternative: “John told me he was angry,” or “John pounded his fist on the table.”\\n\\nStatement: “My son often doesn’t brush his teeth.”\\nReasoning: The term \"often\" is a judgment that implies a frequency comparison to what is considered normal or acceptable. The statement isn't just stating times when the son didn't brush his teeth but is implying he neglects this action more than he should.\\nClassification: Evaluation\\nPure observation alternative: “Twice this week my son didn’t brush his teeth before going to bed.”\\n\\nStatement: “Yesterday evening Nancy bit her fingernails while watching television.”\\nReasoning: This statement is simply describing an action Nancy did at a specific time. There is no attached judgment or interpretation of why she did it or what it means about her character or state of mind.\\nClassification: Observation\\n\\nStatement: “I feel frustrated when I get ripped off because it affects my trust in people.”\\n</td>\n",
       "      <td>Reasoning: This statement expresses the speaker's feelings about a situation and the impact it has on their trust in people. While it includes an evaluation of the situation (\"getting ripped off\"), it's presented as the speaker's experience rather than an objective fact.\\nClassification: Observation</td>\n",
       "      <td>{\"model\": \"togethercomputer/llama-2-70b\", \"max_tokens\": 512, \"temperature\": 0.7, \"top_p\": 0.7, \"top_k\": 50, \"stop\": [\"\\n\\n\"], \"repetition_penalty\": 1}</td>\n",
       "    </tr>\n",
       "    <tr>\n",
       "      <th>1</th>\n",
       "      <td>2</td>\n",
       "      <td>I think Wheeler should just ask Elaine for the number instead of waiting for the other woman in the lobby.</td>\n",
       "      <td>OBSERVATION OR EVALUATION?\\n\\nIn the context of Nonviolent Communication (NVC), it's crucial to distinguish between observations and evaluations. Observations are neutral descriptions of what one perceives, devoid of personal judgments or interpretations. In contrast, evaluations contain personal judgments or interpretations of situations. Your task is to review the provided statements and identify which ones are pure observations without any evaluations mixed in. By mastering this distinction, you can communicate more effectively, minimizing misunderstandings and conflicts.\\n\\nTo determine your proficiency at discerning between observations and evaluations, complete the following exercise.\\n\\nStatement: “My father is a good man.”\\nReasoning: The term \"good\" is subjective. What constitutes a \"good man\" can vary from person to person. This statement is expressing a personal judgment or belief about the father's character rather than a factual observation.\\nClassification: Evaluation\\nNonviolent alternative: “For the last twenty-five years, my father has given one-tenth of his salary to charity.”\\n\\nStatement: “Yesterday evening Nancy bit her fingernails while watching television.”\\nReasoning: This statement is simply describing an action Nancy did at a specific time. There is no attached judgment or interpretation of why she did it or what it means about her character or state of mind.\\nClassification: Observation\\n\\nStatement: “Luke told me I didn’t look good in yellow.”\\nReasoning: This statement recounts a specific thing Luke said to the speaker. While Luke's statement was evaluative, the speaker is merely stating a fact about what Luke expressed, without adding their own judgment or interpretation.\\nClassification: Observation\\n\\nStatement: “My son often doesn’t brush his teeth.”\\nReasoning: The term \"often\" is a judgment that implies a frequency comparison to what is considered normal or acceptable. The statement isn't just stating times when the son didn't brush his teeth but is implying he neglects this action more than he should.\\nClassification: Evaluation\\nPure observation alternative: “Twice this week my son didn’t brush his teeth before going to bed.”\\n\\nStatement: “Sam didn’t ask for my opinion during the meeting.”\\nReasoning: This is a factual statement about something Sam did not do during a meeting. It doesn't assign any emotion, motive, or judgment to Sam's actions.\\nClassification: Observation\\n\\nStatement: “Henry is aggressive.”\\nReasoning: Labeling Henry as \"aggressive\" is a judgment. \"Aggressive\" is an interpretive term that assigns a character trait to Henry based on behaviors or actions that aren't specified in this statement.\\nClassification: Evaluation\\nPure observation alternative: “Henry hit his sister when she switched the television channel.”\\n\\nStatement: “Janice works too much.”\\nReasoning: The phrase \"too much\" is a judgment that implies there is an appropriate or normal amount of work, and Janice exceeds that. It's not a simple recounting of facts but an interpretation of her work habits.\\nClassification: Evaluation\\nPure observation alternative: “Janice spent more than sixty hours at the office this week.”\\n\\nStatement: “John was angry with me yesterday for no reason.”\\nReasoning: The statement suggests that John felt a certain emotion (anger) directed towards the speaker and adds the qualifier \"for no reason\". Emotions are subjective experiences, and we can't definitively know someone's emotion unless they express it. The phrase \"for no reason\" is a judgment because it interprets the cause of John's perceived emotion.\\nClassification: Evaluation\\nPure observation alternative: “John told me he was angry,” or “John pounded his fist on the table.”\\n\\nStatement: “Working in the banking industry, I've found it difficult to maintain a balance between my professional life and personal life, especially with regards to my children.”\\nReasoning: This statement combines several observations about the speaker's experience working in the banking industry and their personal struggles balancing work and family life. However, it also includes some evaluations like \"difficult\" and \"especially with regards to my children.\"\\nClassification: Mixed\\nPure observation alternative: “I work in the banking industry and I spend more time at the office than I do with my children.”\\n\\nStatement: “Pam was first in line every day this week.”\\nReasoning: This statement simply states a repeated action Pam took on specific days. There's no interpretation about why she was first in line or what it might mean about her character.\\nClassification: Observation\\n\\nStatement: “I think Wheeler should just ask Elaine for the number instead of waiting for the other woman in the lobby.”\\n</td>\n",
       "      <td>Reasoning: This statement expresses the speaker's opinion or judgment about what Wheeler should do. It's not a neutral description of Wheeler's actions or the situation.\\nClassification: Evaluation\\nPure observation alternative: “Wheeler has been waiting in the lobby for the past thirty minutes, and the other woman is still talking to Elaine.”</td>\n",
       "      <td>{\"model\": \"togethercomputer/llama-2-70b\", \"max_tokens\": 512, \"temperature\": 0.7, \"top_p\": 0.7, \"top_k\": 50, \"stop\": [\"\\n\\n\"], \"repetition_penalty\": 1}</td>\n",
       "    </tr>\n",
       "    <tr>\n",
       "      <th>2</th>\n",
       "      <td>3</td>\n",
       "      <td>I believe Michael's behavior in this situation is quite peculiar and amusing.</td>\n",
       "      <td>OBSERVATION OR EVALUATION?\\n\\nIn the context of Nonviolent Communication (NVC), it's crucial to distinguish between observations and evaluations. Observations are neutral descriptions of what one perceives, devoid of personal judgments or interpretations. In contrast, evaluations contain personal judgments or interpretations of situations. Your task is to review the provided statements and identify which ones are pure observations without any evaluations mixed in. By mastering this distinction, you can communicate more effectively, minimizing misunderstandings and conflicts.\\n\\nTo determine your proficiency at discerning between observations and evaluations, complete the following exercise.\\n\\nStatement: “Sam didn’t ask for my opinion during the meeting.”\\nReasoning: This is a factual statement about something Sam did not do during a meeting. It doesn't assign any emotion, motive, or judgment to Sam's actions.\\nClassification: Observation\\n\\nStatement: “Janice works too much.”\\nReasoning: The phrase \"too much\" is a judgment that implies there is an appropriate or normal amount of work, and Janice exceeds that. It's not a simple recounting of facts but an interpretation of her work habits.\\nClassification: Evaluation\\nPure observation alternative: “Janice spent more than sixty hours at the office this week.”\\n\\nStatement: “John was angry with me yesterday for no reason.”\\nReasoning: The statement suggests that John felt a certain emotion (anger) directed towards the speaker and adds the qualifier \"for no reason\". Emotions are subjective experiences, and we can't definitively know someone's emotion unless they express it. The phrase \"for no reason\" is a judgment because it interprets the cause of John's perceived emotion.\\nClassification: Evaluation\\nPure observation alternative: “John told me he was angry,” or “John pounded his fist on the table.”\\n\\nStatement: “Pam was first in line every day this week.”\\nReasoning: This statement simply states a repeated action Pam took on specific days. There's no interpretation about why she was first in line or what it might mean about her character.\\nClassification: Observation\\n\\nStatement: “My son often doesn’t brush his teeth.”\\nReasoning: The term \"often\" is a judgment that implies a frequency comparison to what is considered normal or acceptable. The statement isn't just stating times when the son didn't brush his teeth but is implying he neglects this action more than he should.\\nClassification: Evaluation\\nPure observation alternative: “Twice this week my son didn’t brush his teeth before going to bed.”\\n\\nStatement: “Luke told me I didn’t look good in yellow.”\\nReasoning: This statement recounts a specific thing Luke said to the speaker. While Luke's statement was evaluative, the speaker is merely stating a fact about what Luke expressed, without adding their own judgment or interpretation.\\nClassification: Observation\\n\\nStatement: “Working in the banking industry, I've found it difficult to maintain a balance between my professional life and personal life, especially with regards to my children.”\\nReasoning: This statement combines several observations about the speaker's experience working in the banking industry and their personal struggles balancing work and family life. However, it also includes some evaluations like \"difficult\" and \"especially with regards to my children.\"\\nClassification: Mixed\\nPure observation alternative: “I work in the banking industry and I spend more time at the office than I do with my children.”\\n\\nStatement: “My father is a good man.”\\nReasoning: The term \"good\" is subjective. What constitutes a \"good man\" can vary from person to person. This statement is expressing a personal judgment or belief about the father's character rather than a factual observation.\\nClassification: Evaluation\\nNonviolent alternative: “For the last twenty-five years, my father has given one-tenth of his salary to charity.”\\n\\nStatement: “Henry is aggressive.”\\nReasoning: Labeling Henry as \"aggressive\" is a judgment. \"Aggressive\" is an interpretive term that assigns a character trait to Henry based on behaviors or actions that aren't specified in this statement.\\nClassification: Evaluation\\nPure observation alternative: “Henry hit his sister when she switched the television channel.”\\n\\nStatement: “Yesterday evening Nancy bit her fingernails while watching television.”\\nReasoning: This statement is simply describing an action Nancy did at a specific time. There is no attached judgment or interpretation of why she did it or what it means about her character or state of mind.\\nClassification: Observation\\n\\nStatement: “I believe Michael's behavior in this situation is quite peculiar and amusing.”\\n</td>\n",
       "      <td>Reasoning: This statement contains a judgment about Michael's behavior, describing it as \"peculiar and amusing.\" The speaker is expressing their personal interpretation of Michael's actions, which may not be shared by others.\\nClassification: Evaluation\\nPure observation alternative: “Michael is wearing a pink tutu.”</td>\n",
       "      <td>{\"model\": \"togethercomputer/llama-2-70b\", \"max_tokens\": 512, \"temperature\": 0.7, \"top_p\": 0.7, \"top_k\": 50, \"stop\": [\"\\n\\n\"], \"repetition_penalty\": 1}</td>\n",
       "    </tr>\n",
       "    <tr>\n",
       "      <th>3</th>\n",
       "      <td>4</td>\n",
       "      <td>I believe that women are more efficient at writing cheques compared to men, which shows their organized nature.</td>\n",
       "      <td>OBSERVATION OR EVALUATION?\\n\\nIn the context of Nonviolent Communication (NVC), it's crucial to distinguish between observations and evaluations. Observations are neutral descriptions of what one perceives, devoid of personal judgments or interpretations. In contrast, evaluations contain personal judgments or interpretations of situations. Your task is to review the provided statements and identify which ones are pure observations without any evaluations mixed in. By mastering this distinction, you can communicate more effectively, minimizing misunderstandings and conflicts.\\n\\nTo determine your proficiency at discerning between observations and evaluations, complete the following exercise.\\n\\nStatement: “Janice works too much.”\\nReasoning: The phrase \"too much\" is a judgment that implies there is an appropriate or normal amount of work, and Janice exceeds that. It's not a simple recounting of facts but an interpretation of her work habits.\\nClassification: Evaluation\\nPure observation alternative: “Janice spent more than sixty hours at the office this week.”\\n\\nStatement: “My son often doesn’t brush his teeth.”\\nReasoning: The term \"often\" is a judgment that implies a frequency comparison to what is considered normal or acceptable. The statement isn't just stating times when the son didn't brush his teeth but is implying he neglects this action more than he should.\\nClassification: Evaluation\\nPure observation alternative: “Twice this week my son didn’t brush his teeth before going to bed.”\\n\\nStatement: “Pam was first in line every day this week.”\\nReasoning: This statement simply states a repeated action Pam took on specific days. There's no interpretation about why she was first in line or what it might mean about her character.\\nClassification: Observation\\n\\nStatement: “Sam didn’t ask for my opinion during the meeting.”\\nReasoning: This is a factual statement about something Sam did not do during a meeting. It doesn't assign any emotion, motive, or judgment to Sam's actions.\\nClassification: Observation\\n\\nStatement: “My father is a good man.”\\nReasoning: The term \"good\" is subjective. What constitutes a \"good man\" can vary from person to person. This statement is expressing a personal judgment or belief about the father's character rather than a factual observation.\\nClassification: Evaluation\\nNonviolent alternative: “For the last twenty-five years, my father has given one-tenth of his salary to charity.”\\n\\nStatement: “Yesterday evening Nancy bit her fingernails while watching television.”\\nReasoning: This statement is simply describing an action Nancy did at a specific time. There is no attached judgment or interpretation of why she did it or what it means about her character or state of mind.\\nClassification: Observation\\n\\nStatement: “Henry is aggressive.”\\nReasoning: Labeling Henry as \"aggressive\" is a judgment. \"Aggressive\" is an interpretive term that assigns a character trait to Henry based on behaviors or actions that aren't specified in this statement.\\nClassification: Evaluation\\nPure observation alternative: “Henry hit his sister when she switched the television channel.”\\n\\nStatement: “Luke told me I didn’t look good in yellow.”\\nReasoning: This statement recounts a specific thing Luke said to the speaker. While Luke's statement was evaluative, the speaker is merely stating a fact about what Luke expressed, without adding their own judgment or interpretation.\\nClassification: Observation\\n\\nStatement: “John was angry with me yesterday for no reason.”\\nReasoning: The statement suggests that John felt a certain emotion (anger) directed towards the speaker and adds the qualifier \"for no reason\". Emotions are subjective experiences, and we can't definitively know someone's emotion unless they express it. The phrase \"for no reason\" is a judgment because it interprets the cause of John's perceived emotion.\\nClassification: Evaluation\\nPure observation alternative: “John told me he was angry,” or “John pounded his fist on the table.”\\n\\nStatement: “Working in the banking industry, I've found it difficult to maintain a balance between my professional life and personal life, especially with regards to my children.”\\nReasoning: This statement combines several observations about the speaker's experience working in the banking industry and their personal struggles balancing work and family life. However, it also includes some evaluations like \"difficult\" and \"especially with regards to my children.\"\\nClassification: Mixed\\nPure observation alternative: “I work in the banking industry and I spend more time at the office than I do with my children.”\\n\\nStatement: “I believe that women are more efficient at writing cheques compared to men, which shows their organized nature.”\\n</td>\n",
       "      <td>Reasoning: This statement includes both an observation (\"women are more efficient at writing cheques\") and an evaluation (\"which shows their organized nature\"). The first part is an observation, but the second part is an interpretation or judgment about why women might be more efficient at writing cheques.\\nClassification: Mixed\\nPure observation alternative: “Women write cheques faster than men.”</td>\n",
       "      <td>{\"model\": \"togethercomputer/llama-2-70b\", \"max_tokens\": 512, \"temperature\": 0.7, \"top_p\": 0.7, \"top_k\": 50, \"stop\": [\"\\n\\n\"], \"repetition_penalty\": 1}</td>\n",
       "    </tr>\n",
       "    <tr>\n",
       "      <th>4</th>\n",
       "      <td>5</td>\n",
       "      <td>I believe that people who give others the finger are just being irrational and immature.</td>\n",
       "      <td>OBSERVATION OR EVALUATION?\\n\\nIn the context of Nonviolent Communication (NVC), it's crucial to distinguish between observations and evaluations. Observations are neutral descriptions of what one perceives, devoid of personal judgments or interpretations. In contrast, evaluations contain personal judgments or interpretations of situations. Your task is to review the provided statements and identify which ones are pure observations without any evaluations mixed in. By mastering this distinction, you can communicate more effectively, minimizing misunderstandings and conflicts.\\n\\nTo determine your proficiency at discerning between observations and evaluations, complete the following exercise.\\n\\nStatement: “My father is a good man.”\\nReasoning: The term \"good\" is subjective. What constitutes a \"good man\" can vary from person to person. This statement is expressing a personal judgment or belief about the father's character rather than a factual observation.\\nClassification: Evaluation\\nNonviolent alternative: “For the last twenty-five years, my father has given one-tenth of his salary to charity.”\\n\\nStatement: “Sam didn’t ask for my opinion during the meeting.”\\nReasoning: This is a factual statement about something Sam did not do during a meeting. It doesn't assign any emotion, motive, or judgment to Sam's actions.\\nClassification: Observation\\n\\nStatement: “Yesterday evening Nancy bit her fingernails while watching television.”\\nReasoning: This statement is simply describing an action Nancy did at a specific time. There is no attached judgment or interpretation of why she did it or what it means about her character or state of mind.\\nClassification: Observation\\n\\nStatement: “Henry is aggressive.”\\nReasoning: Labeling Henry as \"aggressive\" is a judgment. \"Aggressive\" is an interpretive term that assigns a character trait to Henry based on behaviors or actions that aren't specified in this statement.\\nClassification: Evaluation\\nPure observation alternative: “Henry hit his sister when she switched the television channel.”\\n\\nStatement: “John was angry with me yesterday for no reason.”\\nReasoning: The statement suggests that John felt a certain emotion (anger) directed towards the speaker and adds the qualifier \"for no reason\". Emotions are subjective experiences, and we can't definitively know someone's emotion unless they express it. The phrase \"for no reason\" is a judgment because it interprets the cause of John's perceived emotion.\\nClassification: Evaluation\\nPure observation alternative: “John told me he was angry,” or “John pounded his fist on the table.”\\n\\nStatement: “My son often doesn’t brush his teeth.”\\nReasoning: The term \"often\" is a judgment that implies a frequency comparison to what is considered normal or acceptable. The statement isn't just stating times when the son didn't brush his teeth but is implying he neglects this action more than he should.\\nClassification: Evaluation\\nPure observation alternative: “Twice this week my son didn’t brush his teeth before going to bed.”\\n\\nStatement: “Working in the banking industry, I've found it difficult to maintain a balance between my professional life and personal life, especially with regards to my children.”\\nReasoning: This statement combines several observations about the speaker's experience working in the banking industry and their personal struggles balancing work and family life. However, it also includes some evaluations like \"difficult\" and \"especially with regards to my children.\"\\nClassification: Mixed\\nPure observation alternative: “I work in the banking industry and I spend more time at the office than I do with my children.”\\n\\nStatement: “Janice works too much.”\\nReasoning: The phrase \"too much\" is a judgment that implies there is an appropriate or normal amount of work, and Janice exceeds that. It's not a simple recounting of facts but an interpretation of her work habits.\\nClassification: Evaluation\\nPure observation alternative: “Janice spent more than sixty hours at the office this week.”\\n\\nStatement: “Pam was first in line every day this week.”\\nReasoning: This statement simply states a repeated action Pam took on specific days. There's no interpretation about why she was first in line or what it might mean about her character.\\nClassification: Observation\\n\\nStatement: “Luke told me I didn’t look good in yellow.”\\nReasoning: This statement recounts a specific thing Luke said to the speaker. While Luke's statement was evaluative, the speaker is merely stating a fact about what Luke expressed, without adding their own judgment or interpretation.\\nClassification: Observation\\n\\nStatement: “I believe that people who give others the finger are just being irrational and immature.”\\n</td>\n",
       "      <td>Reasoning: The statement includes the speaker's belief about a particular group of people and their actions, which is an evaluation. The statement also implies that the speaker thinks there's a right or wrong way to behave, which is a judgment.\\nClassification: Evaluation\\nPure observation alternative: “I’ve seen people give others the finger when they are driving.”</td>\n",
       "      <td>{\"model\": \"togethercomputer/llama-2-70b\", \"max_tokens\": 512, \"temperature\": 0.7, \"top_p\": 0.7, \"top_k\": 50, \"stop\": [\"\\n\\n\"], \"repetition_penalty\": 1}</td>\n",
       "    </tr>\n",
       "  </tbody>\n",
       "</table>\n",
       "</div>"
      ],
      "text/plain": [
       "   id  \\\n",
       "0   1   \n",
       "1   2   \n",
       "2   3   \n",
       "3   4   \n",
       "4   5   \n",
       "\n",
       "                                                                                                         statement  \\\n",
       "0                                   I feel frustrated when I get ripped off because it affects my trust in people.   \n",
       "1       I think Wheeler should just ask Elaine for the number instead of waiting for the other woman in the lobby.   \n",
       "2                                    I believe Michael's behavior in this situation is quite peculiar and amusing.   \n",
       "3  I believe that women are more efficient at writing cheques compared to men, which shows their organized nature.   \n",
       "4                         I believe that people who give others the finger are just being irrational and immature.   \n",
       "\n",
       "                                                                                                                                                                                                                                                                                                                                                                                                                                                                                                                                                                                                                                                                                                                                                                                                                                                                                                                                                                                                                                                                                                                                                                                                                                                                                                                                                                                                                                                                                                                                                                                                                                                                                                                                                                                                                                                                                                                                                                                                                                                                                                                                                                                                                                                                                                                                                                                                                                                                                                                                                                                                                                                                                                                                                                                                                                                                                                                                                                                                                                                                                                                                                                                                                                                                                                                                                                                                                                                                                                                                                                                                                                                                                                                                                                                                                                                                                                                                                                                                                                                                                                                                                                                                                                                                                                                                                                                                                                                                                                                                                                                                                                                                                                                                                                                                                                                                                                                                                                 prompt  \\\n",
       "0                                   OBSERVATION OR EVALUATION?\\n\\nIn the context of Nonviolent Communication (NVC), it's crucial to distinguish between observations and evaluations. Observations are neutral descriptions of what one perceives, devoid of personal judgments or interpretations. In contrast, evaluations contain personal judgments or interpretations of situations. Your task is to review the provided statements and identify which ones are pure observations without any evaluations mixed in. By mastering this distinction, you can communicate more effectively, minimizing misunderstandings and conflicts.\\n\\nTo determine your proficiency at discerning between observations and evaluations, complete the following exercise.\\n\\nStatement: “Working in the banking industry, I've found it difficult to maintain a balance between my professional life and personal life, especially with regards to my children.”\\nReasoning: This statement combines several observations about the speaker's experience working in the banking industry and their personal struggles balancing work and family life. However, it also includes some evaluations like \"difficult\" and \"especially with regards to my children.\"\\nClassification: Mixed\\nPure observation alternative: “I work in the banking industry and I spend more time at the office than I do with my children.”\\n\\nStatement: “Henry is aggressive.”\\nReasoning: Labeling Henry as \"aggressive\" is a judgment. \"Aggressive\" is an interpretive term that assigns a character trait to Henry based on behaviors or actions that aren't specified in this statement.\\nClassification: Evaluation\\nPure observation alternative: “Henry hit his sister when she switched the television channel.”\\n\\nStatement: “Pam was first in line every day this week.”\\nReasoning: This statement simply states a repeated action Pam took on specific days. There's no interpretation about why she was first in line or what it might mean about her character.\\nClassification: Observation\\n\\nStatement: “My father is a good man.”\\nReasoning: The term \"good\" is subjective. What constitutes a \"good man\" can vary from person to person. This statement is expressing a personal judgment or belief about the father's character rather than a factual observation.\\nClassification: Evaluation\\nNonviolent alternative: “For the last twenty-five years, my father has given one-tenth of his salary to charity.”\\n\\nStatement: “Sam didn’t ask for my opinion during the meeting.”\\nReasoning: This is a factual statement about something Sam did not do during a meeting. It doesn't assign any emotion, motive, or judgment to Sam's actions.\\nClassification: Observation\\n\\nStatement: “Janice works too much.”\\nReasoning: The phrase \"too much\" is a judgment that implies there is an appropriate or normal amount of work, and Janice exceeds that. It's not a simple recounting of facts but an interpretation of her work habits.\\nClassification: Evaluation\\nPure observation alternative: “Janice spent more than sixty hours at the office this week.”\\n\\nStatement: “Luke told me I didn’t look good in yellow.”\\nReasoning: This statement recounts a specific thing Luke said to the speaker. While Luke's statement was evaluative, the speaker is merely stating a fact about what Luke expressed, without adding their own judgment or interpretation.\\nClassification: Observation\\n\\nStatement: “John was angry with me yesterday for no reason.”\\nReasoning: The statement suggests that John felt a certain emotion (anger) directed towards the speaker and adds the qualifier \"for no reason\". Emotions are subjective experiences, and we can't definitively know someone's emotion unless they express it. The phrase \"for no reason\" is a judgment because it interprets the cause of John's perceived emotion.\\nClassification: Evaluation\\nPure observation alternative: “John told me he was angry,” or “John pounded his fist on the table.”\\n\\nStatement: “My son often doesn’t brush his teeth.”\\nReasoning: The term \"often\" is a judgment that implies a frequency comparison to what is considered normal or acceptable. The statement isn't just stating times when the son didn't brush his teeth but is implying he neglects this action more than he should.\\nClassification: Evaluation\\nPure observation alternative: “Twice this week my son didn’t brush his teeth before going to bed.”\\n\\nStatement: “Yesterday evening Nancy bit her fingernails while watching television.”\\nReasoning: This statement is simply describing an action Nancy did at a specific time. There is no attached judgment or interpretation of why she did it or what it means about her character or state of mind.\\nClassification: Observation\\n\\nStatement: “I feel frustrated when I get ripped off because it affects my trust in people.”\\n   \n",
       "1       OBSERVATION OR EVALUATION?\\n\\nIn the context of Nonviolent Communication (NVC), it's crucial to distinguish between observations and evaluations. Observations are neutral descriptions of what one perceives, devoid of personal judgments or interpretations. In contrast, evaluations contain personal judgments or interpretations of situations. Your task is to review the provided statements and identify which ones are pure observations without any evaluations mixed in. By mastering this distinction, you can communicate more effectively, minimizing misunderstandings and conflicts.\\n\\nTo determine your proficiency at discerning between observations and evaluations, complete the following exercise.\\n\\nStatement: “My father is a good man.”\\nReasoning: The term \"good\" is subjective. What constitutes a \"good man\" can vary from person to person. This statement is expressing a personal judgment or belief about the father's character rather than a factual observation.\\nClassification: Evaluation\\nNonviolent alternative: “For the last twenty-five years, my father has given one-tenth of his salary to charity.”\\n\\nStatement: “Yesterday evening Nancy bit her fingernails while watching television.”\\nReasoning: This statement is simply describing an action Nancy did at a specific time. There is no attached judgment or interpretation of why she did it or what it means about her character or state of mind.\\nClassification: Observation\\n\\nStatement: “Luke told me I didn’t look good in yellow.”\\nReasoning: This statement recounts a specific thing Luke said to the speaker. While Luke's statement was evaluative, the speaker is merely stating a fact about what Luke expressed, without adding their own judgment or interpretation.\\nClassification: Observation\\n\\nStatement: “My son often doesn’t brush his teeth.”\\nReasoning: The term \"often\" is a judgment that implies a frequency comparison to what is considered normal or acceptable. The statement isn't just stating times when the son didn't brush his teeth but is implying he neglects this action more than he should.\\nClassification: Evaluation\\nPure observation alternative: “Twice this week my son didn’t brush his teeth before going to bed.”\\n\\nStatement: “Sam didn’t ask for my opinion during the meeting.”\\nReasoning: This is a factual statement about something Sam did not do during a meeting. It doesn't assign any emotion, motive, or judgment to Sam's actions.\\nClassification: Observation\\n\\nStatement: “Henry is aggressive.”\\nReasoning: Labeling Henry as \"aggressive\" is a judgment. \"Aggressive\" is an interpretive term that assigns a character trait to Henry based on behaviors or actions that aren't specified in this statement.\\nClassification: Evaluation\\nPure observation alternative: “Henry hit his sister when she switched the television channel.”\\n\\nStatement: “Janice works too much.”\\nReasoning: The phrase \"too much\" is a judgment that implies there is an appropriate or normal amount of work, and Janice exceeds that. It's not a simple recounting of facts but an interpretation of her work habits.\\nClassification: Evaluation\\nPure observation alternative: “Janice spent more than sixty hours at the office this week.”\\n\\nStatement: “John was angry with me yesterday for no reason.”\\nReasoning: The statement suggests that John felt a certain emotion (anger) directed towards the speaker and adds the qualifier \"for no reason\". Emotions are subjective experiences, and we can't definitively know someone's emotion unless they express it. The phrase \"for no reason\" is a judgment because it interprets the cause of John's perceived emotion.\\nClassification: Evaluation\\nPure observation alternative: “John told me he was angry,” or “John pounded his fist on the table.”\\n\\nStatement: “Working in the banking industry, I've found it difficult to maintain a balance between my professional life and personal life, especially with regards to my children.”\\nReasoning: This statement combines several observations about the speaker's experience working in the banking industry and their personal struggles balancing work and family life. However, it also includes some evaluations like \"difficult\" and \"especially with regards to my children.\"\\nClassification: Mixed\\nPure observation alternative: “I work in the banking industry and I spend more time at the office than I do with my children.”\\n\\nStatement: “Pam was first in line every day this week.”\\nReasoning: This statement simply states a repeated action Pam took on specific days. There's no interpretation about why she was first in line or what it might mean about her character.\\nClassification: Observation\\n\\nStatement: “I think Wheeler should just ask Elaine for the number instead of waiting for the other woman in the lobby.”\\n   \n",
       "2                                    OBSERVATION OR EVALUATION?\\n\\nIn the context of Nonviolent Communication (NVC), it's crucial to distinguish between observations and evaluations. Observations are neutral descriptions of what one perceives, devoid of personal judgments or interpretations. In contrast, evaluations contain personal judgments or interpretations of situations. Your task is to review the provided statements and identify which ones are pure observations without any evaluations mixed in. By mastering this distinction, you can communicate more effectively, minimizing misunderstandings and conflicts.\\n\\nTo determine your proficiency at discerning between observations and evaluations, complete the following exercise.\\n\\nStatement: “Sam didn’t ask for my opinion during the meeting.”\\nReasoning: This is a factual statement about something Sam did not do during a meeting. It doesn't assign any emotion, motive, or judgment to Sam's actions.\\nClassification: Observation\\n\\nStatement: “Janice works too much.”\\nReasoning: The phrase \"too much\" is a judgment that implies there is an appropriate or normal amount of work, and Janice exceeds that. It's not a simple recounting of facts but an interpretation of her work habits.\\nClassification: Evaluation\\nPure observation alternative: “Janice spent more than sixty hours at the office this week.”\\n\\nStatement: “John was angry with me yesterday for no reason.”\\nReasoning: The statement suggests that John felt a certain emotion (anger) directed towards the speaker and adds the qualifier \"for no reason\". Emotions are subjective experiences, and we can't definitively know someone's emotion unless they express it. The phrase \"for no reason\" is a judgment because it interprets the cause of John's perceived emotion.\\nClassification: Evaluation\\nPure observation alternative: “John told me he was angry,” or “John pounded his fist on the table.”\\n\\nStatement: “Pam was first in line every day this week.”\\nReasoning: This statement simply states a repeated action Pam took on specific days. There's no interpretation about why she was first in line or what it might mean about her character.\\nClassification: Observation\\n\\nStatement: “My son often doesn’t brush his teeth.”\\nReasoning: The term \"often\" is a judgment that implies a frequency comparison to what is considered normal or acceptable. The statement isn't just stating times when the son didn't brush his teeth but is implying he neglects this action more than he should.\\nClassification: Evaluation\\nPure observation alternative: “Twice this week my son didn’t brush his teeth before going to bed.”\\n\\nStatement: “Luke told me I didn’t look good in yellow.”\\nReasoning: This statement recounts a specific thing Luke said to the speaker. While Luke's statement was evaluative, the speaker is merely stating a fact about what Luke expressed, without adding their own judgment or interpretation.\\nClassification: Observation\\n\\nStatement: “Working in the banking industry, I've found it difficult to maintain a balance between my professional life and personal life, especially with regards to my children.”\\nReasoning: This statement combines several observations about the speaker's experience working in the banking industry and their personal struggles balancing work and family life. However, it also includes some evaluations like \"difficult\" and \"especially with regards to my children.\"\\nClassification: Mixed\\nPure observation alternative: “I work in the banking industry and I spend more time at the office than I do with my children.”\\n\\nStatement: “My father is a good man.”\\nReasoning: The term \"good\" is subjective. What constitutes a \"good man\" can vary from person to person. This statement is expressing a personal judgment or belief about the father's character rather than a factual observation.\\nClassification: Evaluation\\nNonviolent alternative: “For the last twenty-five years, my father has given one-tenth of his salary to charity.”\\n\\nStatement: “Henry is aggressive.”\\nReasoning: Labeling Henry as \"aggressive\" is a judgment. \"Aggressive\" is an interpretive term that assigns a character trait to Henry based on behaviors or actions that aren't specified in this statement.\\nClassification: Evaluation\\nPure observation alternative: “Henry hit his sister when she switched the television channel.”\\n\\nStatement: “Yesterday evening Nancy bit her fingernails while watching television.”\\nReasoning: This statement is simply describing an action Nancy did at a specific time. There is no attached judgment or interpretation of why she did it or what it means about her character or state of mind.\\nClassification: Observation\\n\\nStatement: “I believe Michael's behavior in this situation is quite peculiar and amusing.”\\n   \n",
       "3  OBSERVATION OR EVALUATION?\\n\\nIn the context of Nonviolent Communication (NVC), it's crucial to distinguish between observations and evaluations. Observations are neutral descriptions of what one perceives, devoid of personal judgments or interpretations. In contrast, evaluations contain personal judgments or interpretations of situations. Your task is to review the provided statements and identify which ones are pure observations without any evaluations mixed in. By mastering this distinction, you can communicate more effectively, minimizing misunderstandings and conflicts.\\n\\nTo determine your proficiency at discerning between observations and evaluations, complete the following exercise.\\n\\nStatement: “Janice works too much.”\\nReasoning: The phrase \"too much\" is a judgment that implies there is an appropriate or normal amount of work, and Janice exceeds that. It's not a simple recounting of facts but an interpretation of her work habits.\\nClassification: Evaluation\\nPure observation alternative: “Janice spent more than sixty hours at the office this week.”\\n\\nStatement: “My son often doesn’t brush his teeth.”\\nReasoning: The term \"often\" is a judgment that implies a frequency comparison to what is considered normal or acceptable. The statement isn't just stating times when the son didn't brush his teeth but is implying he neglects this action more than he should.\\nClassification: Evaluation\\nPure observation alternative: “Twice this week my son didn’t brush his teeth before going to bed.”\\n\\nStatement: “Pam was first in line every day this week.”\\nReasoning: This statement simply states a repeated action Pam took on specific days. There's no interpretation about why she was first in line or what it might mean about her character.\\nClassification: Observation\\n\\nStatement: “Sam didn’t ask for my opinion during the meeting.”\\nReasoning: This is a factual statement about something Sam did not do during a meeting. It doesn't assign any emotion, motive, or judgment to Sam's actions.\\nClassification: Observation\\n\\nStatement: “My father is a good man.”\\nReasoning: The term \"good\" is subjective. What constitutes a \"good man\" can vary from person to person. This statement is expressing a personal judgment or belief about the father's character rather than a factual observation.\\nClassification: Evaluation\\nNonviolent alternative: “For the last twenty-five years, my father has given one-tenth of his salary to charity.”\\n\\nStatement: “Yesterday evening Nancy bit her fingernails while watching television.”\\nReasoning: This statement is simply describing an action Nancy did at a specific time. There is no attached judgment or interpretation of why she did it or what it means about her character or state of mind.\\nClassification: Observation\\n\\nStatement: “Henry is aggressive.”\\nReasoning: Labeling Henry as \"aggressive\" is a judgment. \"Aggressive\" is an interpretive term that assigns a character trait to Henry based on behaviors or actions that aren't specified in this statement.\\nClassification: Evaluation\\nPure observation alternative: “Henry hit his sister when she switched the television channel.”\\n\\nStatement: “Luke told me I didn’t look good in yellow.”\\nReasoning: This statement recounts a specific thing Luke said to the speaker. While Luke's statement was evaluative, the speaker is merely stating a fact about what Luke expressed, without adding their own judgment or interpretation.\\nClassification: Observation\\n\\nStatement: “John was angry with me yesterday for no reason.”\\nReasoning: The statement suggests that John felt a certain emotion (anger) directed towards the speaker and adds the qualifier \"for no reason\". Emotions are subjective experiences, and we can't definitively know someone's emotion unless they express it. The phrase \"for no reason\" is a judgment because it interprets the cause of John's perceived emotion.\\nClassification: Evaluation\\nPure observation alternative: “John told me he was angry,” or “John pounded his fist on the table.”\\n\\nStatement: “Working in the banking industry, I've found it difficult to maintain a balance between my professional life and personal life, especially with regards to my children.”\\nReasoning: This statement combines several observations about the speaker's experience working in the banking industry and their personal struggles balancing work and family life. However, it also includes some evaluations like \"difficult\" and \"especially with regards to my children.\"\\nClassification: Mixed\\nPure observation alternative: “I work in the banking industry and I spend more time at the office than I do with my children.”\\n\\nStatement: “I believe that women are more efficient at writing cheques compared to men, which shows their organized nature.”\\n   \n",
       "4                         OBSERVATION OR EVALUATION?\\n\\nIn the context of Nonviolent Communication (NVC), it's crucial to distinguish between observations and evaluations. Observations are neutral descriptions of what one perceives, devoid of personal judgments or interpretations. In contrast, evaluations contain personal judgments or interpretations of situations. Your task is to review the provided statements and identify which ones are pure observations without any evaluations mixed in. By mastering this distinction, you can communicate more effectively, minimizing misunderstandings and conflicts.\\n\\nTo determine your proficiency at discerning between observations and evaluations, complete the following exercise.\\n\\nStatement: “My father is a good man.”\\nReasoning: The term \"good\" is subjective. What constitutes a \"good man\" can vary from person to person. This statement is expressing a personal judgment or belief about the father's character rather than a factual observation.\\nClassification: Evaluation\\nNonviolent alternative: “For the last twenty-five years, my father has given one-tenth of his salary to charity.”\\n\\nStatement: “Sam didn’t ask for my opinion during the meeting.”\\nReasoning: This is a factual statement about something Sam did not do during a meeting. It doesn't assign any emotion, motive, or judgment to Sam's actions.\\nClassification: Observation\\n\\nStatement: “Yesterday evening Nancy bit her fingernails while watching television.”\\nReasoning: This statement is simply describing an action Nancy did at a specific time. There is no attached judgment or interpretation of why she did it or what it means about her character or state of mind.\\nClassification: Observation\\n\\nStatement: “Henry is aggressive.”\\nReasoning: Labeling Henry as \"aggressive\" is a judgment. \"Aggressive\" is an interpretive term that assigns a character trait to Henry based on behaviors or actions that aren't specified in this statement.\\nClassification: Evaluation\\nPure observation alternative: “Henry hit his sister when she switched the television channel.”\\n\\nStatement: “John was angry with me yesterday for no reason.”\\nReasoning: The statement suggests that John felt a certain emotion (anger) directed towards the speaker and adds the qualifier \"for no reason\". Emotions are subjective experiences, and we can't definitively know someone's emotion unless they express it. The phrase \"for no reason\" is a judgment because it interprets the cause of John's perceived emotion.\\nClassification: Evaluation\\nPure observation alternative: “John told me he was angry,” or “John pounded his fist on the table.”\\n\\nStatement: “My son often doesn’t brush his teeth.”\\nReasoning: The term \"often\" is a judgment that implies a frequency comparison to what is considered normal or acceptable. The statement isn't just stating times when the son didn't brush his teeth but is implying he neglects this action more than he should.\\nClassification: Evaluation\\nPure observation alternative: “Twice this week my son didn’t brush his teeth before going to bed.”\\n\\nStatement: “Working in the banking industry, I've found it difficult to maintain a balance between my professional life and personal life, especially with regards to my children.”\\nReasoning: This statement combines several observations about the speaker's experience working in the banking industry and their personal struggles balancing work and family life. However, it also includes some evaluations like \"difficult\" and \"especially with regards to my children.\"\\nClassification: Mixed\\nPure observation alternative: “I work in the banking industry and I spend more time at the office than I do with my children.”\\n\\nStatement: “Janice works too much.”\\nReasoning: The phrase \"too much\" is a judgment that implies there is an appropriate or normal amount of work, and Janice exceeds that. It's not a simple recounting of facts but an interpretation of her work habits.\\nClassification: Evaluation\\nPure observation alternative: “Janice spent more than sixty hours at the office this week.”\\n\\nStatement: “Pam was first in line every day this week.”\\nReasoning: This statement simply states a repeated action Pam took on specific days. There's no interpretation about why she was first in line or what it might mean about her character.\\nClassification: Observation\\n\\nStatement: “Luke told me I didn’t look good in yellow.”\\nReasoning: This statement recounts a specific thing Luke said to the speaker. While Luke's statement was evaluative, the speaker is merely stating a fact about what Luke expressed, without adding their own judgment or interpretation.\\nClassification: Observation\\n\\nStatement: “I believe that people who give others the finger are just being irrational and immature.”\\n   \n",
       "\n",
       "                                                                                                                                                                                                                                                                                                                                                                                                         generation  \\\n",
       "0                                                                                                      Reasoning: This statement expresses the speaker's feelings about a situation and the impact it has on their trust in people. While it includes an evaluation of the situation (\"getting ripped off\"), it's presented as the speaker's experience rather than an objective fact.\\nClassification: Observation   \n",
       "1                                                         Reasoning: This statement expresses the speaker's opinion or judgment about what Wheeler should do. It's not a neutral description of Wheeler's actions or the situation.\\nClassification: Evaluation\\nPure observation alternative: “Wheeler has been waiting in the lobby for the past thirty minutes, and the other woman is still talking to Elaine.”   \n",
       "2                                                                                    Reasoning: This statement contains a judgment about Michael's behavior, describing it as \"peculiar and amusing.\" The speaker is expressing their personal interpretation of Michael's actions, which may not be shared by others.\\nClassification: Evaluation\\nPure observation alternative: “Michael is wearing a pink tutu.”   \n",
       "3  Reasoning: This statement includes both an observation (\"women are more efficient at writing cheques\") and an evaluation (\"which shows their organized nature\"). The first part is an observation, but the second part is an interpretation or judgment about why women might be more efficient at writing cheques.\\nClassification: Mixed\\nPure observation alternative: “Women write cheques faster than men.”   \n",
       "4                                  Reasoning: The statement includes the speaker's belief about a particular group of people and their actions, which is an evaluation. The statement also implies that the speaker thinks there's a right or wrong way to behave, which is a judgment.\\nClassification: Evaluation\\nPure observation alternative: “I’ve seen people give others the finger when they are driving.”   \n",
       "\n",
       "                                                                                                                                        generation_params  \n",
       "0  {\"model\": \"togethercomputer/llama-2-70b\", \"max_tokens\": 512, \"temperature\": 0.7, \"top_p\": 0.7, \"top_k\": 50, \"stop\": [\"\\n\\n\"], \"repetition_penalty\": 1}  \n",
       "1  {\"model\": \"togethercomputer/llama-2-70b\", \"max_tokens\": 512, \"temperature\": 0.7, \"top_p\": 0.7, \"top_k\": 50, \"stop\": [\"\\n\\n\"], \"repetition_penalty\": 1}  \n",
       "2  {\"model\": \"togethercomputer/llama-2-70b\", \"max_tokens\": 512, \"temperature\": 0.7, \"top_p\": 0.7, \"top_k\": 50, \"stop\": [\"\\n\\n\"], \"repetition_penalty\": 1}  \n",
       "3  {\"model\": \"togethercomputer/llama-2-70b\", \"max_tokens\": 512, \"temperature\": 0.7, \"top_p\": 0.7, \"top_k\": 50, \"stop\": [\"\\n\\n\"], \"repetition_penalty\": 1}  \n",
       "4  {\"model\": \"togethercomputer/llama-2-70b\", \"max_tokens\": 512, \"temperature\": 0.7, \"top_p\": 0.7, \"top_k\": 50, \"stop\": [\"\\n\\n\"], \"repetition_penalty\": 1}  "
      ]
     },
     "execution_count": 5,
     "metadata": {},
     "output_type": "execute_result"
    }
   ],
   "source": [
    "table_as_dataframe('llama_classifications').head()"
   ]
  },
  {
   "cell_type": "markdown",
   "id": "1346cfe2-c38c-492f-975c-1bdb9ab7875e",
   "metadata": {},
   "source": [
    "That looks good to me.\n",
    "Let's parse our data into a structured format."
   ]
  },
  {
   "cell_type": "code",
   "execution_count": 26,
   "id": "2d991aed-227e-4ae6-9d60-e52458f9f340",
   "metadata": {},
   "outputs": [],
   "source": [
    "import sqlite3\n",
    "\n",
    "def fetch_column(table, col):\n",
    "    conn = sqlite3.connect('results.sqlite')\n",
    "    c = conn.cursor()\n",
    "    c.execute(f'SELECT {col} FROM {table}')\n",
    "    all_statements = [row[0] for row in c.fetchall()]\n",
    "    conn.close()\n",
    "    return all_statements\n",
    "\n",
    "statements = fetch_column('llama_classifications', 'statement')\n",
    "generations = fetch_column('llama_classifications', 'generation')\n",
    "\n",
    "def extract_field(sample, prefix):\n",
    "    class_lines = [line for line in sample.split('\\n') if line.startswith(prefix)]\n",
    "\n",
    "    if len(class_lines) > 0:\n",
    "        return class_lines[0][len(prefix):].strip()\n",
    "\n",
    "    return None\n",
    "\n",
    "def extract_all_fields(sample):\n",
    "    statement = extract_field(sample, 'Statement:')\n",
    "    reasoning = extract_field(sample, 'Reasoning:')\n",
    "    classification = extract_field(sample, 'Classification:')\n",
    "    pure_observation_alternative = extract_field(sample, 'Pure observation alternative:')\n",
    "\n",
    "    parsed = {\n",
    "        'statement': statement,\n",
    "        'reasoning': reasoning,\n",
    "        'classification': classification,\n",
    "        'pure_observation_alternative': pure_observation_alternative\n",
    "    }\n",
    "\n",
    "    return {key: value for key, value in parsed.items() if value is not None}\n",
    "\n",
    "\n",
    "records = [extract_all_fields('Statement: ' + statements[i] + '\\n' + gen) for i, gen in enumerate(generations)]\n",
    "\n",
    "df = pd.DataFrame(records)"
   ]
  },
  {
   "cell_type": "markdown",
   "id": "33863940-ae43-4099-a22d-f58a2610fe53",
   "metadata": {},
   "source": [
    "We can now compute the class distribution of our current dataset."
   ]
  },
  {
   "cell_type": "code",
   "execution_count": 27,
   "id": "c2a24006-2312-4e83-9f92-7c0000eb4752",
   "metadata": {},
   "outputs": [
    {
     "data": {
      "image/png": "[encoded data removed]",
      "text/plain": [
       "<Figure size 640x480 with 1 Axes>"
      ]
     },
     "metadata": {},
     "output_type": "display_data"
    }
   ],
   "source": [
    "import matplotlib.pyplot as plt\n",
    "import numpy as np\n",
    "\n",
    "# Create a histogram of the classification labels\n",
    "unique_labels, label_counts = np.unique(df['classification'], return_counts=True)\n",
    "\n",
    "# Sort the labels by count in descending order, and keep only top 10\n",
    "sorted_indices = np.argsort(label_counts)[::-1]\n",
    "top_labels = unique_labels[sorted_indices][:10]\n",
    "top_counts = label_counts[sorted_indices][:10]\n",
    "\n",
    "plt.bar(top_labels, top_counts)\n",
    "plt.xlabel('Classes')\n",
    "plt.ylabel('Frequency')\n",
    "plt.title('Top 5 Classification Distribution Histogram')\n",
    "plt.xticks(rotation=45) #Rotate labels to prevent overlap\n",
    "plt.show()"
   ]
  },
  {
   "cell_type": "markdown",
   "id": "aefbd327-03c9-493e-9c24-a1619227432a",
   "metadata": {},
   "source": [
    "Mostly evaluations! That tracks as we asked Hermes to generate evaluations."
   ]
  },
  {
   "cell_type": "markdown",
   "id": "98982216-b052-4aec-8a90-03e8c87e7d99",
   "metadata": {},
   "source": [
    "We only want to keep the samples classified as 'Evaluation' and 'Observation' samples"
   ]
  },
  {
   "cell_type": "code",
   "execution_count": 28,
   "id": "faa80d7e-af51-4d19-aeb0-72478646824b",
   "metadata": {},
   "outputs": [],
   "source": [
    "kept = df[(df['classification'] == 'Evaluation') | (df['classification'] == 'Observation')]"
   ]
  },
  {
   "cell_type": "markdown",
   "id": "82fd050e-79d1-43ae-9182-921b9f6138bd",
   "metadata": {},
   "source": [
    "Let's look at our generations"
   ]
  },
  {
   "cell_type": "code",
   "execution_count": 29,
   "id": "950883f8-3e81-4464-98ab-ec7c01702c6c",
   "metadata": {},
   "outputs": [],
   "source": [
    "def format_sample(sample):\n",
    "    formatted = f'''Statement:“{sample['statement'].strip().lstrip(\"“\").rstrip(\"”\")}”\n",
    "Reasoning: {sample['reasoning']}\n",
    "Classification: {sample['classification']}'''\n",
    "\n",
    "    if isinstance('pure_observation_alternative' in sample and sample['pure_observation_alternative'], str):\n",
    "        formatted += '\\n' + f\"Pure observation alternative: “{sample['pure_observation_alternative'].strip().lstrip('“').rstrip('”')}”\"\n",
    "\n",
    "    return formatted"
   ]
  },
  {
   "cell_type": "code",
   "execution_count": 30,
   "id": "876754ba-a9cc-4b10-b7f5-965093d430ee",
   "metadata": {},
   "outputs": [
    {
     "name": "stdout",
     "output_type": "stream",
     "text": [
      "Statement:“I think it's ridiculous that we have to pretend to be someone else just to see an apartment.”\n",
      "Reasoning: The statement contains evaluative language like \"ridiculous\" and \"pretend to be someone else,\" which are judgments about the situation.\n",
      "Classification: Evaluation\n",
      "Pure observation alternative: “We had to wear suits and ties to see an apartment.”\n"
     ]
    }
   ],
   "source": [
    "print(format_sample(df.sample(1).iloc[0]))"
   ]
  },
  {
   "cell_type": "markdown",
   "id": "dde549fd-01bc-4b42-9909-076a7a9a157f",
   "metadata": {},
   "source": [
    "Pretty good!"
   ]
  },
  {
   "cell_type": "markdown",
   "id": "b7602963-a3b8-4258-b117-39237bbbd5b1",
   "metadata": {},
   "source": [
    "Let’s look at another one"
   ]
  },
  {
   "cell_type": "code",
   "execution_count": 31,
   "id": "9f5bd844-625c-46b2-8e95-bdcc249aba7b",
   "metadata": {},
   "outputs": [
    {
     "name": "stdout",
     "output_type": "stream",
     "text": [
      "Statement:“I think Stephanie is a great girl, but we just couldn't make it work between us.”\n",
      "Reasoning: This statement includes a judgment about Stephanie's character (she's a \"great girl\") and a personal interpretation of the speaker's relationship with her (they ­\"couldn't make it work\").\n",
      "Classification: Evaluation\n",
      "Pure observation alternative: “I have a lot of respect for Stephanie, but we decided to end our relationship.”\n"
     ]
    }
   ],
   "source": [
    "print(format_sample(df.sample(1).iloc[0]))"
   ]
  },
  {
   "cell_type": "markdown",
   "id": "6c373eda-16e5-4860-8900-0018166ccab0",
   "metadata": {},
   "source": [
    "Unfortunately, this one doesn't hit the mark as well. It feels distinctly artificial, lacking discernment and common sense.\n",
    "\n",
    "We don't want that in our data. Let's add one final step to our pipeline: rating based filtering."
   ]
  },
  {
   "cell_type": "markdown",
   "id": "bf2587f1-c637-4126-8554-35c1255c9b9a",
   "metadata": {},
   "source": [
    "## Quality Control: Rating and Refining the Generated Statements"
   ]
  },
  {
   "cell_type": "markdown",
   "id": "5310295f-c6c4-429f-8f80-eea7b080de22",
   "metadata": {},
   "source": [
    "To evaluate the quality of our generations we can manually create ratings (with a rationale) for a few generations and use this as a few-shot prompt to rate all our samples."
   ]
  },
  {
   "cell_type": "code",
   "execution_count": 32,
   "id": "1061b308-ae53-4e14-8007-f07c32a68a26",
   "metadata": {},
   "outputs": [],
   "source": [
    "from transformers import AutoTokenizer\n",
    "\n",
    "tokenizer = AutoTokenizer.from_pretrained('NousResearch/Nous-Hermes-2-Mixtral-8x7B-DPO', use_fast=True)\n",
    "\n",
    "def evaluation_prompt(sample):\n",
    "    return tokenizer.apply_chat_template(\n",
    "        [\n",
    "            {\n",
    "                \"role\": \"user\",\n",
    "                \"content\": \"\"\"This is an exercise to learn some key principles of NVC as presented by Marshall B. Rosenberg\n",
    "\n",
    "```\n",
    "OBSERVATION OR EVALUATION?\n",
    "\n",
    "In the context of Nonviolent Communication (NVC), it's crucial to distinguish between observations and evaluations. Observations are neutral descriptions of what one perceives, devoid of personal judgments or interpretations. In contrast, evaluations contain personal judgments or interpretations of situations. Your task is to review the provided statements and identify which ones are pure observations without any evaluations mixed in. By mastering this distinction, you can communicate more effectively, minimizing misunderstandings and conflicts.\n",
    "\n",
    "To determine your proficiency at discerning between observations and evaluations, complete the following exercise.\n",
    "\n",
    "Statement: “John was angry with me yesterday for no reason.”\n",
    "Reasoning: The statement suggests that John felt a certain emotion (anger) directed towards the speaker and adds the qualifier \"for no reason\". Emotions are subjective experiences, and we can't definitively know someone's emotion unless they express it. The phrase \"for no reason\" is a judgment because it interprets the cause of John's perceived emotion.\n",
    "Classification: Evaluation\n",
    "Pure observation alternative: “John told me he was angry,” or “John pounded his fist on the table.”\n",
    "\n",
    "Statement: “Yesterday evening Nancy bit her fingernails while watching television.”\n",
    "Reasoning: This statement is simply describing an action Nancy did at a specific time. There is no attached judgment or interpretation of why she did it or what it means about her character or state of mind.\n",
    "Classification: Observation\n",
    "\n",
    "Statement: “Sam didn’t ask for my opinion during the meeting.”\n",
    "Reasoning: This is a factual statement about something Sam did not do during a meeting. It doesn't assign any emotion, motive, or judgment to Sam's actions.\n",
    "Classification: Observation\n",
    "Statement: “My father is a good man.”\n",
    "Reasoning: The term \"good\" is subjective. What constitutes a \"good man\" can vary from person to person. This statement is expressing a personal judgment or belief about the father's character rather than a factual observation.\n",
    "Classification: Evaluation\n",
    "Nonviolent alternative: “For the last twenty-five years, my father has given one-tenth of his salary to charity.”\n",
    "\n",
    "Statement: “Janice works too much.”\n",
    "Reasoning: The phrase \"too much\" is a judgment that implies there is an appropriate or normal amount of work, and Janice exceeds that. It's not a simple recounting of facts but an interpretation of her work habits.\n",
    "Classification: Evaluation\n",
    "Pure observation alternative: “Janice spent more than sixty hours at the office this week.”\n",
    "\n",
    "Statement: “Henry is aggressive.”\n",
    "Reasoning: Labeling Henry as \"aggressive\" is a judgment. \"Aggressive\" is an interpretive term that assigns a character trait to Henry based on behaviors or actions that aren't specified in this statement.\n",
    "Classification: Evaluation\n",
    "Pure observation alternative: “Henry hit his sister when she switched the television channel.”\n",
    "\n",
    "Statement: “Pam was first in line every day this week.”\n",
    "Reasoning: This statement simply states a repeated action Pam took on specific days. There's no interpretation about why she was first in line or what it might mean about her character.\n",
    "Classification: Observation\n",
    "\n",
    "Statement: “My son often doesn’t brush his teeth.”\n",
    "Reasoning: The term \"often\" is a judgment that implies a frequency comparison to what is considered normal or acceptable. The statement isn't just stating times when the son didn't brush his teeth but is implying he neglects this action more than he should.\n",
    "Classification: Evaluation\n",
    "Pure observation alternative: “Twice this week my son didn’t brush his teeth before going to bed.”\n",
    "\n",
    "Statement: “Luke told me I didn’t look good in yellow.”\n",
    "Reasoning: This statement recounts a specific thing Luke said to the speaker. While Luke's statement was evaluative, the speaker is merely stating a fact about what Luke expressed, without adding their own judgment or interpretation.\n",
    "Classification: Observation\n",
    "```\n",
    "\n",
    "\n",
    "\n",
    "We are trying to create a dataset of these statement classification to train an expert language model to learn to do this classification.\n",
    "\n",
    "We have collected thousands of samples but they vary in quality. The text above text showcases the highest quality possible. Not all our collected samples have this quality. We aim to assess the quality of our samples. You will be tasked with looking at a sample and telling me what quality it is based on guidelines I will provide to you.\n",
    "\n",
    "\n",
    "My guidelines come in the form of examples.\n",
    "\n",
    "Good example 10/10\n",
    "==================================\n",
    "Statement:“I think it's ridiculous that we have to pretend to be someone else just to see an apartment.”\n",
    "Reasoning: The statement contains evaluative language like \"ridiculous\" and \"pretend to be someone else,\" which are judgments about the situation.\n",
    "Classification: Evaluation\n",
    "Pure observation alternative: “We had to wear suits and ties to see an apartment.”\n",
    "\n",
    "Rating: Suggests an observation statement that does not tie identity to time bound clothing choices\n",
    "\n",
    "Final judgment: Good sample because of clear example of evaluative language and good classification and reasoning + suggestion on the student's behalf\n",
    "==================================\n",
    "\n",
    "\n",
    "Okay-ish example 7/10\n",
    "==================================\n",
    "Statement:“I think Rose is too focused on the game and not paying enough attention to the road.”\n",
    "Reasoning: This statement contains a judgment about Rose's level of focus and attention, which is subjective and not a factual observation.\n",
    "Classification: Evaluation\n",
    "Pure observation alternative: “Rose is playing a game on her phone while driving.”\n",
    "\n",
    "Rating: The spirit is there but actually a driver being distracted and not paying enough attention to the road is a valid concern and not a simple evaluation\n",
    "\n",
    "Final judgment: bad sample because of ambiguous statement\n",
    "==================================\n",
    "\n",
    "\n",
    "Good example 8/10\n",
    "==================================\n",
    "Statement:“I think it's ridiculous that Toni is so obsessed with his old high school hangout. It's like he's stuck in the past and can't move on.”\n",
    "Reasoning: This statement includes several evaluations, such as \"ridiculous,\" \"obsessed,\" and \"stuck in the past.\" These terms imply a negative judgment of Toni's behavior and mindset.\n",
    "Classification: Evaluation\n",
    "Pure observation alternative: “Toni has mentioned his high school hangout several times in the past week.”\n",
    "\n",
    "Rating: The student correctly identified the use of evaluative language in the statement and provided a simple straight forward and not convoluted evaluation free observation\n",
    "\n",
    "Final judgment: Good sample because of clear example statement\n",
    "==================================\n",
    "\n",
    "\n",
    "Okay-ish example 7/10\n",
    "==================================\n",
    "Statement:“I think Stacey really appreciates this new jacket I bought.”\n",
    "Reasoning: The statement includes the phrase \"I think,\" which implies the speaker is expressing their own interpretation or judgment about Stacey's feelings towards the jacket.\n",
    "Classification: Evaluation\n",
    "Pure observation alternative: “Stacey smiled and said ‘thank you’ when I gave her the jacket.”\n",
    "\n",
    "Rating: While the observation is clearly a good observation statement, the first statement could be justified in context. For instance the speaker could have said prior facts about Stacey and the jacket\n",
    "\n",
    "Final judgment: bad sample because of ambiguous statement\n",
    "==================================\n",
    "\n",
    "\n",
    "Good example 7.5/10\n",
    "==================================\n",
    "Statement:“I think Pacheco is always so focused on winning that he forgets to enjoy the game.”\n",
    "Reasoning: This statement contains an evaluation of Pacheco's behavior. The speaker is interpreting Pacheco's focus on winning as a negative trait that prevents him from enjoying the game.\n",
    "Classification: Evaluation\n",
    "Pure observation alternative: “Pacheco has been practicing with the team every day for the past month.”\n",
    "\n",
    "Rating: Good classification and reasoning on the student's practicing\n",
    "\n",
    "Final judgment: Good sample because of classification, but statement could be clearer in a textbook setting\n",
    "==================================\n",
    "\n",
    "\n",
    "Bad example 4/10\n",
    "==================================\n",
    "Statement:“I think Stephanie is a great girl, but we just couldn't make it work between us.”\n",
    "Reasoning: This statement includes a judgment about Stephanie's character (she's a \"great girl\") and a personal interpretation of the speaker's relationship with her (they \"couldn't make it work\").\n",
    "Classification: Evaluation\n",
    "Pure observation alternative: “I have a lot of respect for Stephanie, but we decided to end our relationship.”\n",
    "\n",
    "Rating: Classification lacks nuance\n",
    "\n",
    "Final judgment: Bad sample because of overly simplistic classification and reasoning and useless alternative suggestion\n",
    "==================================\n",
    "\n",
    "\n",
    "\n",
    "\n",
    "\n",
    "\n",
    "I will give you a sample and you will rate it as I thought you. Understood?\"\"\"\n",
    "},\n",
    "            {\n",
    "                \"content\": \"Understood. I will rate the given samples based on the guidelines you provided. Please provide me with the first sample to rate.\",\n",
    "                \"role\": \"assistant\",\n",
    "            },\n",
    "            {\"content\": sample, \"role\": \"user\"},\n",
    "        ],\n",
    "        tokenize=False,\n",
    "        add_generation_prompt=True,\n",
    "    ) + 'Rating:'"
   ]
  },
  {
   "cell_type": "code",
   "execution_count": 33,
   "id": "197c30c9-2a83-47c2-bb82-d2d4335691ea",
   "metadata": {},
   "outputs": [
    {
     "data": {
      "application/vnd.jupyter.widget-view+json": {
       "model_id": "4a4bed810fcd414e9105ebeaa327f5d9",
       "version_major": 2,
       "version_minor": 0
      },
      "text/plain": [
       "  100%|█████████████████████████████████████████████████████████████████████████████████████| 3023/3023 [00:00<?, ?it/s]"
      ]
     },
     "metadata": {},
     "output_type": "display_data"
    }
   ],
   "source": [
    "def create_ratings_table():\n",
    "    conn = sqlite3.connect('results.sqlite')\n",
    "    c = conn.cursor()\n",
    "    c.execute('''\n",
    "        CREATE TABLE IF NOT EXISTS hermes_ratings (\n",
    "            id INTEGER PRIMARY KEY,\n",
    "            sample TEXT,\n",
    "            prompt TEXT,\n",
    "            generation TEXT,\n",
    "            generation_params json\n",
    "        )\n",
    "    ''')\n",
    "    conn.commit()\n",
    "    conn.close()\n",
    "\n",
    "def insert_generated_rating(sample, prompt, generation, generation_params):\n",
    "    conn = sqlite3.connect('results.sqlite')\n",
    "    c = conn.cursor()\n",
    "    c.execute('''\n",
    "        INSERT INTO hermes_ratings (sample, prompt, generation, generation_params)\n",
    "        VALUES (?, ?, ?, ?)\n",
    "    ''', (sample, prompt, generation, json.dumps(generation_params)))\n",
    "    conn.commit()\n",
    "    conn.close()\n",
    "\n",
    "\n",
    "def get_generated_evaluation_for_prompt(prompt):\n",
    "    conn = sqlite3.connect('results.sqlite')\n",
    "    c = conn.cursor()\n",
    "    c.execute('''\n",
    "        SELECT generation FROM hermes_ratings WHERE prompt = ?\n",
    "    ''', (prompt,))\n",
    "    result = c.fetchone()\n",
    "    conn.close()\n",
    "    return result[0] if result else None\n",
    "\n",
    "def table_as_dataframe(table):\n",
    "    conn = sqlite3.connect('results.sqlite')\n",
    "    query = f'SELECT * FROM {table}'\n",
    "    df = pd.read_sql_query(query, conn)\n",
    "    conn.close()\n",
    "    return df\n",
    "\n",
    "def generate_evaluation(sample, max_retries=10):\n",
    "    generation_params = {\n",
    "        \"model\": \"NousResearch/Nous-Hermes-2-Mixtral-8x7B-DPO\",\n",
    "        \"max_tokens\": 512,\n",
    "        \"temperature\": 0.7,\n",
    "        \"top_p\": 0.7,\n",
    "        \"top_k\": 50,\n",
    "        \"stop\": [\n",
    "            \"<|im_end|>\",\n",
    "            \"<|im_start|>\"\n",
    "        ],\n",
    "        \"repetition_penalty\": 1,\n",
    "    }\n",
    "\n",
    "    prompt = evaluation_prompt(sample)\n",
    "    \n",
    "    existing_generation = get_generated_evaluation_for_prompt(prompt)\n",
    "\n",
    "    if existing_generation is not None:\n",
    "        print(\"Found existing generation for prompt\")\n",
    "        return None\n",
    "\n",
    "    retries = 0\n",
    "    while retries < max_retries:\n",
    "        try:\n",
    "            res = requests.post(ENDPOINT_URL, json={\n",
    "                **generation_params,\n",
    "                \"prompt\": prompt,\n",
    "            }, headers={\n",
    "                \"Authorization\": f\"Bearer {TOGETHER_API_KEY}\",\n",
    "            })\n",
    "\n",
    "            if res.status_code == 200:\n",
    "                return sample, prompt, res.json()['choices'][0]['text'], generation_params\n",
    "            else:\n",
    "                error_message = res.text\n",
    "                print(f\"Attempt {retries + 1} failed with status code {res.status_code}. Error: {error_message}. Retrying...\")\n",
    "        except requests.exceptions.RequestException as e:\n",
    "            print(f\"An error occurred: {e}. Retrying...\")\n",
    "\n",
    "        retries += 1\n",
    "        time.sleep(1)  # Sleep for a bit before retrying to avoid overwhelming the server\n",
    "\n",
    "    return None\n",
    "\n",
    "\n",
    "\n",
    "create_ratings_table()\n",
    "\n",
    "arguments_list = [format_sample(kept.iloc[i].to_dict()) for i in range(len(kept))]\n",
    "generator = Generator(max_workers=20, generate_function=generate_evaluation, arguments_list=arguments_list)\n",
    "\n",
    "for result in tqdm(generator, total=len(arguments_list)):\n",
    "    if result is not None:\n",
    "        sample, prompt, generation, generation_params = result\n",
    "        insert_generated_rating(sample, prompt, generation, generation_params)"
   ]
  },
  {
   "cell_type": "code",
   "execution_count": 34,
   "id": "ddacb1ad-f9ba-48fd-8959-e33672416415",
   "metadata": {},
   "outputs": [],
   "source": [
    "df = table_as_dataframe('hermes_ratings')"
   ]
  },
  {
   "cell_type": "code",
   "execution_count": 35,
   "id": "1b9a8bc8-9572-4bf3-9d8f-29df2c1c1be0",
   "metadata": {},
   "outputs": [
    {
     "data": {
      "text/html": [
       "<div>\n",
       "<style scoped>\n",
       "    .dataframe tbody tr th:only-of-type {\n",
       "        vertical-align: middle;\n",
       "    }\n",
       "\n",
       "    .dataframe tbody tr th {\n",
       "        vertical-align: top;\n",
       "    }\n",
       "\n",
       "    .dataframe thead th {\n",
       "        text-align: right;\n",
       "    }\n",
       "</style>\n",
       "<table border=\"1\" class=\"dataframe\">\n",
       "  <thead>\n",
       "    <tr style=\"text-align: right;\">\n",
       "      <th></th>\n",
       "      <th>sample</th>\n",
       "      <th>generation</th>\n",
       "    </tr>\n",
       "  </thead>\n",
       "  <tbody>\n",
       "    <tr>\n",
       "      <th>0</th>\n",
       "      <td>Statement:“Jerry, you're making a big deal out of nothing. Just call Stephanie and ask her where she's staying. If she doesn't want to tell you, she'll make it clear. Stop overthinking things and just be straightforward.”\\nReasoning: This statement contains several evaluations. \"Making a big deal out of nothing\" and \"overthinking things\" are judgments about Jerry's behavior. The phrase \"just be straightforward\" implies that Jerry's current approach is not straightforward enough.\\nClassification: Evaluation\\nPure observation alternative: “Jerry, you seem worried about where Stephanie is staying. You've been asking me and others about it for the past few days. I'm not sure where she's staying, but you could try calling her and asking directly.”</td>\n",
       "      <td>8/10\\n\\nFinal judgment: Good sample because of clear example of evaluative language and good classification and reasoning + suggestion on the student's behalf. The student could have mentioned the specific phrases that are evaluative, such as \"making a big deal out of nothing\" and \"overthinking things,\" but overall, the example is clear and well-explained.</td>\n",
       "    </tr>\n",
       "    <tr>\n",
       "      <th>1</th>\n",
       "      <td>Statement:“Men have been trying their best to understand women, but it seems like we're still struggling. It's frustrating to see women reading articles about where to meet men when we're already everywhere, honking our horns to serve them better.”\\nReasoning: This statement contains several evaluations like \"trying their best,\" \"still struggling,\" \"frustrating,\" and \"serving them better.\" These are subjective judgments about men's efforts to understand women and the frustration women may feel.\\nClassification: Evaluation\\nPure observation alternative: “I read an article in a women’s magazine that said men don’t understand women.”</td>\n",
       "      <td>The student correctly identified the use of evaluative language in the statement and provided a simple straight forward and not convoluted evaluation free observation.\\nFinal judgment: Good sample because of clear example statement</td>\n",
       "    </tr>\n",
       "    <tr>\n",
       "      <th>2</th>\n",
       "      <td>Statement:“Performing on stage is one of the most exhilarating experiences I've ever had.”\\nReasoning: This statement expresses a personal feeling or emotion about an experience. It doesn't contain any judgments or interpretations about the experience itself or the reasons for the feeling.\\nClassification: Observation</td>\n",
       "      <td>5/10\\n\\nFinal judgment: Bad sample because of overly simplistic classification and reasoning and useless alternative suggestion. The statement is not evaluative, but it's also not a pure observation as it contains a personal feeling or emotion about an experience. A better classification would be a mix of observation and evaluation. A possible alternative observation statement could be: \"I have performed on stage multiple times.\"</td>\n",
       "    </tr>\n",
       "    <tr>\n",
       "      <th>3</th>\n",
       "      <td>Statement:“Vanessa is the most captivating woman I've ever met.”\\nReasoning: The statement contains a judgment about Vanessa's qualities and a comparison to other women the speaker has met. It's not just a factual description of what the speaker observed about Vanessa but an interpretation of her qualities in relation to others.\\nClassification: Evaluation\\nPure observation alternative: “Vanessa has a warm smile and a charming laugh.”</td>\n",
       "      <td>The student correctly identified the use of evaluative language in the statement and provided a simple straight forward and not convoluted evaluation free observation.\\nFinal judgment: Good sample because of clear example statement.</td>\n",
       "    </tr>\n",
       "    <tr>\n",
       "      <th>4</th>\n",
       "      <td>Statement:“You're always barging in unannounced and making a mess. It's really inconsiderate.”\\nReasoning: This statement includes several evaluations, including \"always,\" \"inconsiderate,\" and \"making a mess.\" It also includes an interpretation of the speaker's actions as \"barging in unannounced.\"\\nClassification: Evaluation\\nPure observation alternative: “I noticed you entered my room without knocking and left dirty dishes on the table.”</td>\n",
       "      <td>Good classification and reasoning on the student's behalf\\n\\nFinal judgment: Good sample because of clear example of evaluative language and good classification and reasoning + suggestion on the student's behalf</td>\n",
       "    </tr>\n",
       "  </tbody>\n",
       "</table>\n",
       "</div>"
      ],
      "text/plain": [
       "                                                                                                                                                                                                                                                                                                                                                                                                                                                                                                                                                                                                                                                                                                                                                                             sample  \\\n",
       "0  Statement:“Jerry, you're making a big deal out of nothing. Just call Stephanie and ask her where she's staying. If she doesn't want to tell you, she'll make it clear. Stop overthinking things and just be straightforward.”\\nReasoning: This statement contains several evaluations. \"Making a big deal out of nothing\" and \"overthinking things\" are judgments about Jerry's behavior. The phrase \"just be straightforward\" implies that Jerry's current approach is not straightforward enough.\\nClassification: Evaluation\\nPure observation alternative: “Jerry, you seem worried about where Stephanie is staying. You've been asking me and others about it for the past few days. I'm not sure where she's staying, but you could try calling her and asking directly.”   \n",
       "1                                                                                                                    Statement:“Men have been trying their best to understand women, but it seems like we're still struggling. It's frustrating to see women reading articles about where to meet men when we're already everywhere, honking our horns to serve them better.”\\nReasoning: This statement contains several evaluations like \"trying their best,\" \"still struggling,\" \"frustrating,\" and \"serving them better.\" These are subjective judgments about men's efforts to understand women and the frustration women may feel.\\nClassification: Evaluation\\nPure observation alternative: “I read an article in a women’s magazine that said men don’t understand women.”   \n",
       "2                                                                                                                                                                                                                                                                                                                                                                                                                                                   Statement:“Performing on stage is one of the most exhilarating experiences I've ever had.”\\nReasoning: This statement expresses a personal feeling or emotion about an experience. It doesn't contain any judgments or interpretations about the experience itself or the reasons for the feeling.\\nClassification: Observation   \n",
       "3                                                                                                                                                                                                                                                                                                                            Statement:“Vanessa is the most captivating woman I've ever met.”\\nReasoning: The statement contains a judgment about Vanessa's qualities and a comparison to other women the speaker has met. It's not just a factual description of what the speaker observed about Vanessa but an interpretation of her qualities in relation to others.\\nClassification: Evaluation\\nPure observation alternative: “Vanessa has a warm smile and a charming laugh.”   \n",
       "4                                                                                                                                                                                                                                                                                                                        Statement:“You're always barging in unannounced and making a mess. It's really inconsiderate.”\\nReasoning: This statement includes several evaluations, including \"always,\" \"inconsiderate,\" and \"making a mess.\" It also includes an interpretation of the speaker's actions as \"barging in unannounced.\"\\nClassification: Evaluation\\nPure observation alternative: “I noticed you entered my room without knocking and left dirty dishes on the table.”   \n",
       "\n",
       "                                                                                                                                                                                                                                                                                                                                                                                                                                          generation  \n",
       "0                                                                             8/10\\n\\nFinal judgment: Good sample because of clear example of evaluative language and good classification and reasoning + suggestion on the student's behalf. The student could have mentioned the specific phrases that are evaluative, such as \"making a big deal out of nothing\" and \"overthinking things,\" but overall, the example is clear and well-explained.  \n",
       "1                                                                                                                                                                                                            The student correctly identified the use of evaluative language in the statement and provided a simple straight forward and not convoluted evaluation free observation.\\nFinal judgment: Good sample because of clear example statement  \n",
       "2  5/10\\n\\nFinal judgment: Bad sample because of overly simplistic classification and reasoning and useless alternative suggestion. The statement is not evaluative, but it's also not a pure observation as it contains a personal feeling or emotion about an experience. A better classification would be a mix of observation and evaluation. A possible alternative observation statement could be: \"I have performed on stage multiple times.\"  \n",
       "3                                                                                                                                                                                                           The student correctly identified the use of evaluative language in the statement and provided a simple straight forward and not convoluted evaluation free observation.\\nFinal judgment: Good sample because of clear example statement.  \n",
       "4                                                                                                                                                                                                                                Good classification and reasoning on the student's behalf\\n\\nFinal judgment: Good sample because of clear example of evaluative language and good classification and reasoning + suggestion on the student's behalf  "
      ]
     },
     "execution_count": 145,
     "metadata": {},
     "output_type": "execute_result"
    }
   ],
   "source": [
    "df[['sample', 'generation']].head(5)"
   ]
  },
  {
   "cell_type": "markdown",
   "id": "94dd4994-25ba-4a71-9665-3b38729ea89d",
   "metadata": {},
   "source": [
    "Looks good to me.  \n",
    "\n",
    "Let's now filter for the samples rated as \"Good\"."
   ]
  },
  {
   "cell_type": "code",
   "execution_count": 36,
   "id": "7716d2c5-5541-4366-93db-eb990a184b35",
   "metadata": {},
   "outputs": [],
   "source": [
    "good = [sample for sample, evaluation in zip(df['sample'].to_list(), df['generation'].to_list()) if 'Final judgment: Good' in evaluation]\n",
    "\n",
    "good_samples = [extract_all_fields(sample) for sample in good if len(extract_all_fields(sample).keys()) == 4] # Let's also keep only the samples that have all the four fields we want to parse"
   ]
  },
  {
   "cell_type": "markdown",
   "id": "dc84a92f-7840-43e1-98dc-1fab4e6b76c9",
   "metadata": {},
   "source": [
    "Now that we've filtered for quality, let's plot the class distribution again."
   ]
  },
  {
   "cell_type": "code",
   "execution_count": 37,
   "id": "29d401c2-0471-4661-a2eb-a11d30f98e7b",
   "metadata": {},
   "outputs": [
    {
     "data": {
      "image/png": "[encoded data removed]",
      "text/plain": [
       "<Figure size 640x480 with 1 Axes>"
      ]
     },
     "metadata": {},
     "output_type": "display_data"
    }
   ],
   "source": [
    "import matplotlib.pyplot as plt\n",
    "import numpy as np\n",
    "\n",
    "classes = [sample['classification'] for sample in good_samples]\n",
    "classification_labels = [label for label in classes if label is not None]\n",
    "\n",
    "# Create a histogram of the classification labels\n",
    "unique_labels, label_counts = np.unique(classification_labels, return_counts=True)\n",
    "\n",
    "# Plot the histogram\n",
    "plt.bar(unique_labels, label_counts)\n",
    "plt.xlabel('Classes')\n",
    "plt.ylabel('Frequency')\n",
    "plt.title('Classification Distribution Histogram')\n",
    "plt.show()"
   ]
  },
  {
   "cell_type": "markdown",
   "id": "5f24d08b-0ff4-460f-88f2-063b412028d5",
   "metadata": {},
   "source": [
    "We only have one class represented in our dataset! Let’s fix that."
   ]
  },
  {
   "cell_type": "markdown",
   "id": "125352c2-5534-433e-b85b-a7b4a7eb91f3",
   "metadata": {},
   "source": [
    "## Balancing the dataset"
   ]
  },
  {
   "cell_type": "markdown",
   "id": "758e58ec-9033-41db-bc02-b67bf9911425",
   "metadata": {},
   "source": [
    "You might have noticed that every statement comes with a generated \"Pure observation alternative\". Let's take 50% of our samples and switch the main statement to the observation alternative, then generate a new rationale and classification with this."
   ]
  },
  {
   "cell_type": "code",
   "execution_count": 38,
   "id": "a84d3b06-290e-499a-bea3-2f74c32c51bd",
   "metadata": {},
   "outputs": [],
   "source": [
    "import random\n",
    "\n",
    "# randomly select 50% of the samples to be observations\n",
    "observations = [sample['pure_observation_alternative'].strip('“').rstrip('”') for sample in random.sample(good_samples, int(len(good_samples)/2))]"
   ]
  },
  {
   "cell_type": "markdown",
   "id": "a7f9d932-530c-4d15-855a-1dd005dec755",
   "metadata": {},
   "source": [
    "Now we generate the new rationales and classifications for the swapped statements"
   ]
  },
  {
   "cell_type": "code",
   "execution_count": 39,
   "id": "1b8361a0-c62d-4153-bf27-9b5f089252f2",
   "metadata": {},
   "outputs": [
    {
     "data": {
      "application/vnd.jupyter.widget-view+json": {
       "model_id": "31d522267b02465f948b72dc6bfe15c8",
       "version_major": 2,
       "version_minor": 0
      },
      "text/plain": [
       "   100%|█████████████████████████████████████████████████████████████████████████████████████| 868/868 [00:00<?, ?it/s]"
      ]
     },
     "metadata": {},
     "output_type": "display_data"
    }
   ],
   "source": [
    "def create_swapped_classifications_table():\n",
    "    conn = sqlite3.connect('results.sqlite')\n",
    "    c = conn.cursor()\n",
    "    c.execute('''\n",
    "        CREATE TABLE IF NOT EXISTS swapped_classifications (\n",
    "            id INTEGER PRIMARY KEY,\n",
    "            statement TEXT,\n",
    "            prompt TEXT,\n",
    "            generation TEXT,\n",
    "            generation_params json\n",
    "        )\n",
    "    ''')\n",
    "    conn.commit()\n",
    "    conn.close()\n",
    "\n",
    "def insert_generated_classification(statement, prompt, generation, generation_params):\n",
    "    conn = sqlite3.connect('results.sqlite')\n",
    "    c = conn.cursor()\n",
    "    c.execute('''\n",
    "        INSERT INTO swapped_classifications (statement, prompt, generation, generation_params)\n",
    "        VALUES (?, ?, ?, ?)\n",
    "    ''', (statement, prompt, generation, json.dumps(generation_params)))\n",
    "    conn.commit()\n",
    "    conn.close()\n",
    "\n",
    "def table_as_dataframe(table):\n",
    "    conn = sqlite3.connect('results.sqlite')\n",
    "    query = f'SELECT * FROM {table}'\n",
    "    df = pd.read_sql_query(query, conn)\n",
    "    conn.close()\n",
    "    return df\n",
    "\n",
    "create_swapped_classifications_table()\n",
    "\n",
    "arguments_list = observations\n",
    "generator = Generator(max_workers=20, generate_function=generate_classification, arguments_list=arguments_list)\n",
    "\n",
    "for result in tqdm(generator, total=len(arguments_list)):\n",
    "    if result is not None:\n",
    "        statement, prompt, generation, generation_params = result\n",
    "        insert_generated_classification(statement, prompt, generation, generation_params)"
   ]
  },
  {
   "cell_type": "markdown",
   "id": "d3dda7a1-5ad0-42a8-a694-d0c43d163251",
   "metadata": {},
   "source": [
    "For good measure let's keep only the new samples reclassified as Observations"
   ]
  },
  {
   "cell_type": "code",
   "execution_count": 40,
   "id": "f0ae6277-af46-496a-8b36-adac36b97dfc",
   "metadata": {},
   "outputs": [],
   "source": [
    "statements = fetch_column('swapped_classifications', 'statement')\n",
    "generations = fetch_column('swapped_classifications', 'generation')\n",
    "\n",
    "swapped = [sample for sample in [extract_all_fields('Statement: ' + statements[i] + '\\n' + gen) for i, gen in enumerate(generations)] if sample['classification'] == 'Observation']"
   ]
  },
  {
   "cell_type": "markdown",
   "id": "6bed975a-0de6-4e75-b929-d4d98e0854e5",
   "metadata": {},
   "source": [
    "Let's filter yet again for good classifications"
   ]
  },
  {
   "cell_type": "code",
   "execution_count": 41,
   "id": "2ff148fb-4c22-403a-9ca2-cf36a34216a1",
   "metadata": {},
   "outputs": [
    {
     "data": {
      "application/vnd.jupyter.widget-view+json": {
       "model_id": "6ded205018244bf493726f99d2edf7bf",
       "version_major": 2,
       "version_minor": 0
      },
      "text/plain": [
       "  100%|█████████████████████████████████████████████████████████████████████████████████████| 684/684 [00:00<?, ?it/s]"
      ]
     },
     "metadata": {},
     "output_type": "display_data"
    }
   ],
   "source": [
    "arguments_list = [format_sample(sample) for sample in swapped]\n",
    "generator = Generator(max_workers=20, generate_function=generate_evaluation, arguments_list=arguments_list)\n",
    "\n",
    "for result in tqdm(generator, total=len(arguments_list)):\n",
    "    if result is not None:\n",
    "        sample, prompt, generation, generation_params = result\n",
    "        insert_generated_rating(sample, prompt, generation, generation_params)"
   ]
  },
  {
   "cell_type": "code",
   "execution_count": 42,
   "id": "3197dd55-3097-4d9c-95ff-72b843806984",
   "metadata": {},
   "outputs": [],
   "source": [
    "def fetch_rating_from_sample(sample):\n",
    "    conn = sqlite3.connect('results.sqlite')\n",
    "    cursor = conn.cursor()\n",
    "    \n",
    "    query = \"SELECT generation FROM hermes_ratings WHERE sample = ?\"\n",
    "    \n",
    "    cursor.execute(query, (sample,))\n",
    "    \n",
    "    # Fetch the result\n",
    "    result = cursor.fetchone()\n",
    "    \n",
    "    # Close the connection\n",
    "    conn.close()\n",
    "    \n",
    "    # Check if the result is not None and return the value of column D\n",
    "    if result:\n",
    "        return result[0]\n",
    "    else:\n",
    "        return None\n",
    "\n",
    "\n",
    "\n",
    "kept_swapped = [sample for sample in swapped if 'Final judgment: Good' in fetch_rating_from_sample(format_sample(sample))]"
   ]
  },
  {
   "cell_type": "code",
   "execution_count": 43,
   "id": "b31878c7-6223-4eea-b8e8-608f1303fd2c",
   "metadata": {},
   "outputs": [],
   "source": [
    "intact_samples = [sample for sample in good_samples if sample['pure_observation_alternative'].strip('“').rstrip('”') not in observations]"
   ]
  },
  {
   "cell_type": "code",
   "execution_count": 44,
   "id": "2491fc9b-d67f-48bf-9c3e-1adb25e25c46",
   "metadata": {},
   "outputs": [
    {
     "data": {
      "text/plain": [
       "579"
      ]
     },
     "execution_count": 52,
     "metadata": {},
     "output_type": "execute_result"
    }
   ],
   "source": [
    "len(kept_swapped)"
   ]
  },
  {
   "cell_type": "code",
   "execution_count": 45,
   "id": "d2b39adc-1c6f-470d-8a17-f7b3301122eb",
   "metadata": {},
   "outputs": [
    {
     "data": {
      "text/plain": [
       "869"
      ]
     },
     "execution_count": 51,
     "metadata": {},
     "output_type": "execute_result"
    }
   ],
   "source": [
    "len(originals)"
   ]
  },
  {
   "cell_type": "code",
   "execution_count": 46,
   "id": "f8e62602-6dd6-4e4b-826e-5274c467f0e3",
   "metadata": {},
   "outputs": [
    {
     "data": {
      "text/plain": [
       "1448"
      ]
     },
     "execution_count": 56,
     "metadata": {},
     "output_type": "execute_result"
    }
   ],
   "source": [
    "len(intact_samples + kept_swapped)"
   ]
  },
  {
   "cell_type": "code",
   "execution_count": 47,
   "id": "4376467f-6d73-4a99-94c7-1e05078b2bde",
   "metadata": {},
   "outputs": [],
   "source": [
    "final = intact_samples + kept_swapped"
   ]
  },
  {
   "cell_type": "markdown",
   "id": "b823b236-02c0-49ed-9e30-4b7ffbdcdc65",
   "metadata": {},
   "source": [
    "We can now plot the new distribution"
   ]
  },
  {
   "cell_type": "code",
   "execution_count": 48,
   "id": "d1da4bb8-1bd1-424c-80a9-7c8893a5bba3",
   "metadata": {},
   "outputs": [
    {
     "data": {
      "image/png": "[encoded data removed]",
      "text/plain": [
       "<Figure size 640x480 with 1 Axes>"
      ]
     },
     "metadata": {},
     "output_type": "display_data"
    }
   ],
   "source": [
    "import matplotlib.pyplot as plt\n",
    "import numpy as np\n",
    "\n",
    "statements = fetch_column('swapped_classifications', 'statement')\n",
    "generations = fetch_column('swapped_classifications', 'generation')\n",
    "\n",
    "classes = [sample['classification'] for sample in final]\n",
    "classification_labels = [label for label in classes if label is not None]\n",
    "\n",
    "# Create a histogram of the classification labels\n",
    "unique_labels, label_counts = np.unique(classification_labels, return_counts=True)\n",
    "\n",
    "# Plot the histogram\n",
    "plt.bar(unique_labels, label_counts)\n",
    "plt.xlabel('Classes')\n",
    "plt.ylabel('Frequency')\n",
    "plt.title('Classification Distribution Histogram')\n",
    "plt.show()"
   ]
  },
  {
   "cell_type": "markdown",
   "id": "412908f0-2221-47f4-bdd0-e860d4ea69d5",
   "metadata": {},
   "source": [
    "Looks better  "
   ]
  },
  {
   "cell_type": "markdown",
   "id": "bebd5d1a-ab33-4c40-aeda-a3dc572031ff",
   "metadata": {},
   "source": [
    "And with that we are done!"
   ]
  },
  {
   "cell_type": "markdown",
   "id": "39659dc2-9b96-4827-afaa-bb0cba8c3945",
   "metadata": {},
   "source": [
    "Let's save the raw prompts, generated content, and associated parameters as CSV to include in the repo"
   ]
  },
  {
   "cell_type": "code",
   "execution_count": 49,
   "id": "15add7ec-d93e-4285-941a-7fc7383048ab",
   "metadata": {},
   "outputs": [],
   "source": [
    "def get_generations_data(table):\n",
    "    conn = sqlite3.connect('results.sqlite')\n",
    "    cursor = conn.cursor()\n",
    "    \n",
    "    query = f\"SELECT prompt, generation, generation_params FROM {table}\"\n",
    "    \n",
    "    cursor.execute(query)\n",
    "    \n",
    "    results = cursor.fetchall()\n",
    "    conn.close()\n",
    "\n",
    "    if len(results) > 0:\n",
    "        return [{'formatted_prompt' : prompt, 'generation' : generation, 'generation_params' : generation_params } for prompt, generation, generation_params in results]\n",
    "\n",
    "    return None\n",
    "\n",
    "\n",
    "generations = get_generations_data('statement_generation') + get_generations_data('swapped_classifications') + get_generations_data('scene_statements') + get_generations_data('statement_generation') + get_generations_data('clean_statements') + get_generations_data('llama_classifications') + get_generations_data('hermes_ratings') + get_generations_data('swapped_classifications')\n",
    "pd.DataFrame(generations).to_csv('generations.csv', index=False)"
   ]
  },
  {
   "cell_type": "markdown",
   "id": "97751da8-fcee-4525-90ee-9d4c9585d2c2",
   "metadata": {},
   "source": [
    "## The Final Step: Pushing to Hugging Face hub"
   ]
  },
  {
   "cell_type": "markdown",
   "id": "ab09adfb-8a1d-4a1f-a0ee-a6fcf07c2ac7",
   "metadata": {},
   "source": [
    "Let’s push to the hub"
   ]
  },
  {
   "cell_type": "code",
   "execution_count": 50,
   "id": "1d0e0cb7-fca9-448a-aded-4c7fbd0ce335",
   "metadata": {},
   "outputs": [],
   "source": [
    "!pip install huggingface_hub"
   ]
  },
  {
   "cell_type": "code",
   "execution_count": 51,
   "id": "61c8b876-b96c-425f-bd4a-cd7f21315d62",
   "metadata": {},
   "outputs": [
    {
     "data": {
      "application/vnd.jupyter.widget-view+json": {
       "model_id": "490dc36d26c540b08b25a6555881c907",
       "version_major": 2,
       "version_minor": 0
      },
      "text/plain": [
       "VBox(children=(HTML(value='<center> <img\\nsrc=https://huggingface.co/front/assets/huggingface_logo-noborder.sv…"
      ]
     },
     "metadata": {},
     "output_type": "display_data"
    }
   ],
   "source": [
    "from huggingface_hub import notebook_login\n",
    "\n",
    "notebook_login()"
   ]
  },
  {
   "cell_type": "code",
   "execution_count": 52,
   "id": "77c2c432-65a9-4337-ba76-ca70ab80a752",
   "metadata": {
    "scrolled": true
   },
   "outputs": [
    {
     "data": {
      "application/vnd.jupyter.widget-view+json": {
       "model_id": "7510b1faadfe4b31a2a7da2fc137ac5f",
       "version_major": 2,
       "version_minor": 0
      },
      "text/plain": [
       "Uploading the dataset shards:   0%|██████████████████████████████████████████| 1/1 [00:00<?, ?it/s]"
      ]
     },
     "metadata": {},
     "output_type": "display_data"
    },
    {
     "data": {
      "application/vnd.jupyter.widget-view+json": {
       "model_id": "4fa4569fb2fd47ab8075d088736cff42",
       "version_major": 2,
       "version_minor": 0
      },
      "text/plain": [
       "Creating parquet from Arrow format:   0%|██████████████████████████████████████████| 2/2 [00:00<?, ?ba/s]"
      ]
     },
     "metadata": {},
     "output_type": "display_data"
    }
   ],
   "source": [
    "from datasets import Dataset, DatasetDict\n",
    "import pandas as pd\n",
    "\n",
    "final_df = pd.DataFrame(final)\n",
    "\n",
    "shuffled_df = final_df.sample(frac=1).reset_index(drop=True) # Shuffle because right now the evaluations are all together and the observations all together\n",
    "test_set = Dataset.from_pandas(shuffled_df) #we use pandas we need to load a list of dicts and not a dicts of list\n",
    "\n",
    "# we put in test set as it not is not meant to be trained on\n",
    "dataset = DatasetDict({\n",
    "    'test': test_set, \n",
    "})\n",
    "\n",
    "\n",
    "dataset.push_to_hub(\"thomasgauthier/observation_or_evaluation\")"
   ]
  }
 ],
 "metadata": {
  "kernelspec": {
   "display_name": "Python 3 (ipykernel)",
   "language": "python",
   "name": "python3"
  },
  "language_info": {
   "codemirror_mode": {
    "name": "ipython",
    "version": 3
   },
   "file_extension": ".py",
   "mimetype": "text/x-python",
   "name": "python",
   "nbconvert_exporter": "python",
   "pygments_lexer": "ipython3",
   "version": "3.10.9"
  }
 },
 "nbformat": 4,
 "nbformat_minor": 5
}
